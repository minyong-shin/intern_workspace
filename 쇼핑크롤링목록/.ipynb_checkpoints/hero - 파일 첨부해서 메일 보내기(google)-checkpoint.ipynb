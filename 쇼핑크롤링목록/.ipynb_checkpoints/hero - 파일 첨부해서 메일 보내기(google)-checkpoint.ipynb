{
 "cells": [
  {
   "cell_type": "code",
   "execution_count": 28,
   "metadata": {},
   "outputs": [],
   "source": [
    "import smtplib\n",
    "from email.mime.text import MIMEText\n",
    "from email.mime.multipart import MIMEMultipart\n",
    "from email.mime.base import MIMEBase\n",
    "from email import encoders\n",
    "import os"
   ]
  },
  {
   "cell_type": "code",
   "execution_count": 18,
   "metadata": {},
   "outputs": [],
   "source": [
    "# 지메일 아이디,비번 입력하기\n",
    "email_user = 'tlsalsdyd1995@gmail.com'      #<ID> 본인 계정 아이디 입력\n",
    "email_password = 'alsdyd95!'      #<PASSWORD> 본인 계정 암호 입력\n",
    "email_send = 'alsdyd95@nate.com'         # <받는곳주소> 수신자 이메일 abc@abc.com 형태로 입력\n",
    "\n"
   ]
  },
  {
   "cell_type": "code",
   "execution_count": 19,
   "metadata": {},
   "outputs": [],
   "source": [
    "# 제목 입력\n",
    "subject = '안녕하세요. 신민용 테스트 메일입니다. ' \n",
    "\n",
    "msg = MIMEMultipart()\n",
    "msg['From'] = email_user\n",
    "msg['To'] = email_send\n",
    "msg['Subject'] = subject"
   ]
  },
  {
   "cell_type": "code",
   "execution_count": 20,
   "metadata": {},
   "outputs": [],
   "source": [
    "body = '데이터공방입니다. bog.naver.com/kiddwannabe'\n",
    "msg.attach(MIMEText(body,'plain'))"
   ]
  },
  {
   "cell_type": "code",
   "execution_count": 21,
   "metadata": {},
   "outputs": [],
   "source": [
    "############### ↓ 첨부파일이 없다면 삭제 가능  ↓ ########################\n",
    "# 첨부파일 경로/이름 지정하기\n",
    "filename='C:\\Users\\tlsal\\Desktop\\히어로네이션\\결과도출 및 구간산정 알고리즘_신민용.pdf'  \n",
    "attachment  =open(filename,'rb')"
   ]
  },
  {
   "cell_type": "code",
   "execution_count": 29,
   "metadata": {},
   "outputs": [],
   "source": [
    "part = MIMEBase('application','octet-stream')\n",
    "part.set_payload((attachment).read())\n",
    "encoders.encode_base64(part)\n",
    "part.add_header('Content-Disposition',\"attachment; filename= \"+filename)\n",
    "msg.attach(part)\n",
    "############### ↑ 첨부파일이 없다면 삭제 가능  ↑ ###############\n",
    "\n"
   ]
  },
  {
   "cell_type": "code",
   "execution_count": 30,
   "metadata": {},
   "outputs": [
    {
     "data": {
      "text/plain": [
       "(235, b'2.7.0 Accepted')"
      ]
     },
     "execution_count": 30,
     "metadata": {},
     "output_type": "execute_result"
    }
   ],
   "source": [
    "text = msg.as_string()\n",
    "server = smtplib.SMTP('smtp.gmail.com',587)\n",
    "server.starttls()\n",
    "server.login(email_user,email_password)\n",
    "\n"
   ]
  },
  {
   "cell_type": "code",
   "execution_count": 31,
   "metadata": {},
   "outputs": [
    {
     "data": {
      "text/plain": [
       "(221, b'2.0.0 closing connection q36sm10437893pgl.23 - gsmtp')"
      ]
     },
     "execution_count": 31,
     "metadata": {},
     "output_type": "execute_result"
    }
   ],
   "source": [
    "server.sendmail(email_user,email_send,text)\n",
    "server.quit()"
   ]
  },
  {
   "cell_type": "code",
   "execution_count": null,
   "metadata": {},
   "outputs": [],
   "source": []
  }
 ],
 "metadata": {
  "kernelspec": {
   "display_name": "Python 3",
   "language": "python",
   "name": "python3"
  },
  "language_info": {
   "codemirror_mode": {
    "name": "ipython",
    "version": 3
   },
   "file_extension": ".py",
   "mimetype": "text/x-python",
   "name": "python",
   "nbconvert_exporter": "python",
   "pygments_lexer": "ipython3",
   "version": "3.6.5"
  }
 },
 "nbformat": 4,
 "nbformat_minor": 2
}
