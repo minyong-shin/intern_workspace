{
 "cells": [
  {
   "cell_type": "code",
   "execution_count": null,
   "metadata": {},
   "outputs": [],
   "source": [
    "*[@id=\"react-root\"]/section/main/article/div[2]/div[1]/div/form/div[1]/div/input')\n",
    "#그냥 div와 div[1 or 2] 의 차이점은 div 해당태그내의 all div라고 봐도 되고 div[1 or 2]는\n",
    "# div를 특정하게 선택하는 것을 말한다."
   ]
  },
  {
   "cell_type": "code",
   "execution_count": null,
   "metadata": {},
   "outputs": [],
   "source": [
    "//*[@id=\"react-root\"]/section/main/article/div[2]/div[1]/div/form/div[2]/div/input')"
   ]
  },
  {
   "cell_type": "code",
   "execution_count": null,
   "metadata": {},
   "outputs": [],
   "source": [
    "'//*[@id=\"react-root\"]/section/main/article/div[2]/div[1]/div/form/span/button')"
   ]
  },
  {
   "cell_type": "markdown",
   "metadata": {},
   "source": [
    "# 참고 사이트\n",
    "https://gist.github.com/JosephMata/7c3bac580234a17102c2d3ba19822cd2\n",
    "\n",
    "https://www.spiderkim.com/post/%EC%9D%B8%EC%8A%A4%ED%83%80%EA%B7%B8%EB%9E%A8-%ED%95%B4%EC%8B%9C%ED%83%9C%EA%B7%B8-%EC%9B%B9%ED%81%AC%EB%A1%A4%EB%A7%81%ED%95%98%EA%B8%B0"
   ]
  },
  {
   "cell_type": "code",
   "execution_count": 1,
   "metadata": {},
   "outputs": [],
   "source": [
    "import requests # 웹 페이지 소스를 얻기 위한 패키지(기본 내장 패키지이다.)\n",
    "from bs4 import BeautifulSoup # 웹 페이지 소스를 얻기 위한 패키지, 더 간단히 얻을 수 있다는 장점이 있다고 한다.\n",
    "from datetime import datetime                                # (!pip install beautifulsoup4 으로 다운받을 수 있다.)\n",
    "import pandas as pd # 데이터를 처리하기 위한 가장 기본적인 패키지\n",
    "import time # 사이트를 불러올 때, 작업 지연시간을 지정해주기 위한 패키지이다. (사이트가 늦게 켜지면 에러가 발생하기 때문)\n",
    "import urllib.request #\n",
    "from selenium.webdriver import Chrome\n",
    "import json\n",
    "import re     \n",
    "from selenium.webdriver.chrome.options import Options"
   ]
  },
  {
   "cell_type": "code",
   "execution_count": 36,
   "metadata": {},
   "outputs": [],
   "source": [
    "from selenium.webdriver.common.keys import Keys\n"
   ]
  },
  {
   "cell_type": "code",
   "execution_count": 2,
   "metadata": {},
   "outputs": [],
   "source": [
    "delay=3\n",
    "browser = Chrome()\n",
    "browser.implicitly_wait(delay)\n"
   ]
  },
  {
   "cell_type": "code",
   "execution_count": 3,
   "metadata": {},
   "outputs": [],
   "source": [
    "browser.maximize_window()"
   ]
  },
  {
   "cell_type": "code",
   "execution_count": 4,
   "metadata": {},
   "outputs": [],
   "source": [
    "browser.get('https://www.instagram.com')"
   ]
  },
  {
   "cell_type": "code",
   "execution_count": 5,
   "metadata": {},
   "outputs": [],
   "source": [
    "browser.find_element_by_xpath('//*[@id=\"react-root\"]/section/main/article/div[2]/div[2]/p/a').click()"
   ]
  },
  {
   "cell_type": "code",
   "execution_count": 6,
   "metadata": {},
   "outputs": [],
   "source": [
    "#얘네 다시 확인해 봐야함 -> 태그의 경로\n",
    "#elements인 이유는 ??\n",
    "#일단 elements는 태그내의 요소를 모두 뽑아 내는 것인데...\n",
    "input_id = browser.find_elements_by_xpath(\n",
    "    '//*[@id=\"react-root\"]/section/main/div/article/div/div[1]/div/form/div[2]')\n",
    "#div에서 숫자 선택하는 것을 잘 공부해야함\n",
    "#div/div[1]/div/form/div[1]/div/input'\n",
    "input_pw = browser.find_elements_by_xpath(\n",
    "\t'//*[@id=\"react-root\"]/section/main/div/article/div/div[1]/div/form/div[3]')"
   ]
  },
  {
   "cell_type": "code",
   "execution_count": 100,
   "metadata": {},
   "outputs": [],
   "source": [
    "#로그인정보저장하기 선택\n",
    "input_test = browser.find_elements_by_xpath(\n",
    "\t'//*[@id=\"react-root\"]/section/main/div/article/div/div[1]/div/form/div[4]')"
   ]
  },
  {
   "cell_type": "code",
   "execution_count": 71,
   "metadata": {},
   "outputs": [],
   "source": [
    "input_id = browser.find_elements_by_xpath(\n",
    "    '//*[class=\"_2hvTZ pexuQ zyHYP\"]')"
   ]
  },
  {
   "cell_type": "code",
   "execution_count": 7,
   "metadata": {},
   "outputs": [],
   "source": [
    "from selenium.webdriver.common.action_chains import ActionChains\n",
    "#셀레늄으로 크롤링을 진행할 때 여러 기능 수행을 한번에 해야하는 일이 있는데 그때 actionchains을 사용하면\n",
    "#한번에 작업을 수행할 수 있음"
   ]
  },
  {
   "cell_type": "code",
   "execution_count": 8,
   "metadata": {},
   "outputs": [],
   "source": [
    "#could have been part of the above actionchain\n",
    "ActionChains(browser)\\\n",
    ".move_to_element(input_id[0]).click()\\\n",
    ".send_keys('gyejr95@naver.com')\\\n",
    ".move_to_element(input_pw[0]).click()\\\n",
    ".send_keys('tlsalsdyd95!')\\\n",
    ".perform()"
   ]
  },
  {
   "cell_type": "code",
   "execution_count": 9,
   "metadata": {},
   "outputs": [],
   "source": [
    "#로그인 버튼 클릭\n",
    "browser.find_elements_by_xpath(\n",
    "\t'//*[@id=\"react-root\"]/section/main/div/article/div/div[1]/div/form/div[5]')[0].click()"
   ]
  },
  {
   "cell_type": "code",
   "execution_count": 136,
   "metadata": {
    "collapsed": true
   },
   "outputs": [
    {
     "ename": "TypeError",
     "evalue": "find_element_by_css_selector() missing 1 required positional argument: 'css_selector'",
     "output_type": "error",
     "traceback": [
      "\u001b[1;31m---------------------------------------------------------------------------\u001b[0m",
      "\u001b[1;31mTypeError\u001b[0m                                 Traceback (most recent call last)",
      "\u001b[1;32m<ipython-input-136-10baffe4615a>\u001b[0m in \u001b[0;36m<module>\u001b[1;34m()\u001b[0m\n\u001b[0;32m      1\u001b[0m \u001b[1;31m#검색버튼 클릭\u001b[0m\u001b[1;33m\u001b[0m\u001b[1;33m\u001b[0m\u001b[0m\n\u001b[1;32m----> 2\u001b[1;33m \u001b[0msearch\u001b[0m \u001b[1;33m=\u001b[0m \u001b[0mbrowser\u001b[0m\u001b[1;33m.\u001b[0m\u001b[0mfind_element_by_css_selector\u001b[0m\u001b[1;33m(\u001b[0m\u001b[1;33m)\u001b[0m\u001b[1;33m\u001b[0m\u001b[0m\n\u001b[0m",
      "\u001b[1;31mTypeError\u001b[0m: find_element_by_css_selector() missing 1 required positional argument: 'css_selector'"
     ]
    }
   ],
   "source": [
    "#검색버튼 클릭 -> css_selector로도 클릭하는 방법을 알아보자!\n",
    "search = browser.find_element_by_css_selector()"
   ]
  },
  {
   "cell_type": "code",
   "execution_count": 137,
   "metadata": {},
   "outputs": [],
   "source": [
    "#검색버튼 클릭\n",
    "search = browser.find_elements_by_xpath('//*[@id = \"react-root\"]/section/nav/div[2]/div/div/div[2]')"
   ]
  },
  {
   "cell_type": "code",
   "execution_count": 138,
   "metadata": {},
   "outputs": [],
   "source": [
    "search[0].click()"
   ]
  },
  {
   "cell_type": "code",
   "execution_count": 139,
   "metadata": {},
   "outputs": [],
   "source": [
    "ActionChains(browser)\\\n",
    ".move_to_element(search[0]).click()\\\n",
    ".send_keys('dylanwerneryoga')\\\n",
    ".perform()"
   ]
  },
  {
   "cell_type": "code",
   "execution_count": 140,
   "metadata": {},
   "outputs": [],
   "source": [
    "browser.find_elements_by_xpath('//*[@id = \"react-root\"]/section/nav/div[2]/div/div/div[2]/div[2]/div[2]/div/a/div/div[2]/div')[0].click()"
   ]
  },
  {
   "cell_type": "code",
   "execution_count": null,
   "metadata": {},
   "outputs": [],
   "source": [
    "#해당 인물의 팔로워/팔로우수/게시물수"
   ]
  },
  {
   "cell_type": "code",
   "execution_count": 143,
   "metadata": {},
   "outputs": [],
   "source": [
    "basic_html0 = browser.page_source"
   ]
  },
  {
   "cell_type": "code",
   "execution_count": 144,
   "metadata": {},
   "outputs": [],
   "source": [
    "basic_html = BeautifulSoup(basic_html0,'html.parser')"
   ]
  },
  {
   "cell_type": "markdown",
   "metadata": {},
   "source": [
    "#### 계정 주인"
   ]
  },
  {
   "cell_type": "code",
   "execution_count": 146,
   "metadata": {},
   "outputs": [],
   "source": [
    "\n",
    "host = basic_html.find('div',{'class':'nZSzR'}).find('h1').text"
   ]
  },
  {
   "cell_type": "code",
   "execution_count": 150,
   "metadata": {},
   "outputs": [
    {
     "data": {
      "text/plain": [
       "'dylanwerneryoga'"
      ]
     },
     "execution_count": 150,
     "metadata": {},
     "output_type": "execute_result"
    }
   ],
   "source": [
    "host"
   ]
  },
  {
   "cell_type": "markdown",
   "metadata": {},
   "source": [
    "#### 총 게시물 수"
   ]
  },
  {
   "cell_type": "code",
   "execution_count": 151,
   "metadata": {},
   "outputs": [],
   "source": [
    "total_post = basic_html.find('ul',{'class':'k9GMp '}).find_all('li')[0].find('span').find('span').text"
   ]
  },
  {
   "cell_type": "code",
   "execution_count": 152,
   "metadata": {},
   "outputs": [
    {
     "data": {
      "text/plain": [
       "'1,446'"
      ]
     },
     "execution_count": 152,
     "metadata": {},
     "output_type": "execute_result"
    }
   ],
   "source": [
    "total_post"
   ]
  },
  {
   "cell_type": "markdown",
   "metadata": {},
   "source": [
    "#### 팔로워 수"
   ]
  },
  {
   "cell_type": "code",
   "execution_count": 153,
   "metadata": {},
   "outputs": [],
   "source": [
    "follower = basic_html.find('ul',{'class':'k9GMp '}).find_all('li')[1].find('a').find('span').text"
   ]
  },
  {
   "cell_type": "code",
   "execution_count": 154,
   "metadata": {},
   "outputs": [
    {
     "data": {
      "text/plain": [
       "'611천'"
      ]
     },
     "execution_count": 154,
     "metadata": {},
     "output_type": "execute_result"
    }
   ],
   "source": [
    "follower"
   ]
  },
  {
   "cell_type": "markdown",
   "metadata": {},
   "source": [
    "#### 팔로우 수"
   ]
  },
  {
   "cell_type": "code",
   "execution_count": 155,
   "metadata": {},
   "outputs": [],
   "source": [
    "follow = basic_html.find('ul',{'class':'k9GMp '}).find_all('li')[2].find('a').find('span').text"
   ]
  },
  {
   "cell_type": "code",
   "execution_count": 156,
   "metadata": {},
   "outputs": [
    {
     "data": {
      "text/plain": [
       "'365'"
      ]
     },
     "execution_count": 156,
     "metadata": {},
     "output_type": "execute_result"
    }
   ],
   "source": [
    "follow"
   ]
  },
  {
   "cell_type": "markdown",
   "metadata": {},
   "source": [
    "## 게시물의 정보를 추출하기 전 작업\n",
    "## 스크롤을 내리지 않는 이상 게시물이 일부만 보이므로 스크롤\n",
    "## 작업을 통해서 모든 게시물을 화면상에 나타나게 한다"
   ]
  },
  {
   "cell_type": "code",
   "execution_count": 157,
   "metadata": {},
   "outputs": [],
   "source": [
    "body = browser.find_element_by_tag_name('body')"
   ]
  },
  {
   "cell_type": "code",
   "execution_count": 158,
   "metadata": {},
   "outputs": [],
   "source": [
    "num_of_pagedowns = 20\n",
    "#10번 밑으로 내리는 것\n",
    "while num_of_pagedowns:\n",
    "    body.send_keys(Keys.PAGE_DOWN)\n",
    "    time.sleep(1.5)\n",
    "    num_of_pagedowns -= 1"
   ]
  },
  {
   "cell_type": "markdown",
   "metadata": {},
   "source": [
    "## 각 게시물 정보 추출"
   ]
  },
  {
   "cell_type": "markdown",
   "metadata": {},
   "source": [
    "#### 반복문을 통해서 게시물 클릭 -> 게시물 밖의 다른 영역 클릭 -> 다음 게시물 클릭 순으로 짠다"
   ]
  },
  {
   "cell_type": "code",
   "execution_count": 186,
   "metadata": {
    "scrolled": true
   },
   "outputs": [
    {
     "data": {
      "text/plain": [
       "20"
      ]
     },
     "execution_count": 186,
     "metadata": {},
     "output_type": "execute_result"
    }
   ],
   "source": [
    "#행의 갯수가 몇개인지 확인하는 작업\n",
    "#해당 작업은 어느정도 행의 갯수를 확보하고 스크롤 내리고 확보하고 하는 방식으로 진행해야 할 듯\n",
    "#스크롤을 내려도 최대로 해으이 갯수가 안뜨네?...\n",
    "#일정 이상의 행이 넘어가지 않음 최대 게시물 60개\n",
    "len(browser.find_elements_by_xpath('//*[@id = \"react-root\"]/section/main/div/div[3]/article/div/div/div'))"
   ]
  },
  {
   "cell_type": "code",
   "execution_count": 160,
   "metadata": {},
   "outputs": [],
   "source": [
    "browser.find_elements_by_xpath('//*[@id = \"react-root\"]/section/main/div/div[3]/article/div/div/div[1]/div[1]')[0].click()"
   ]
  },
  {
   "cell_type": "code",
   "execution_count": 162,
   "metadata": {},
   "outputs": [],
   "source": [
    "browser.find_elements_by_xpath('//*[@class=\"_2dDPU vCf6V\"]/button')[0].click()"
   ]
  },
  {
   "cell_type": "code",
   "execution_count": 170,
   "metadata": {},
   "outputs": [],
   "source": [
    "browser.find_elements_by_xpath('//*[@id = \"react-root\"]/section/main/div/div[3]/article/div/div/div[1]/div[2]')[0].click()"
   ]
  },
  {
   "cell_type": "code",
   "execution_count": 166,
   "metadata": {},
   "outputs": [],
   "source": [
    "browser.find_elements_by_xpath('//*[@class=\"_2dDPU vCf6V\"]/button')[0].click()"
   ]
  },
  {
   "cell_type": "code",
   "execution_count": 168,
   "metadata": {},
   "outputs": [],
   "source": [
    "browser.find_elements_by_xpath('//*[@id = \"react-root\"]/section/main/div/div[3]/article/div/div/div[1]/div[3]')[0].click()"
   ]
  },
  {
   "cell_type": "markdown",
   "metadata": {},
   "source": [
    "### 현재 인스타의 게시물은 1행별로 정렬기준을 정해놨다\n",
    "### 따라서 1,2,3이 지나고 난 뒤에 다음 행으로 넘어가서 다시 div[1]~div[3]을 \n",
    "### 클릭한다\n",
    "#### 즉, 끝의 div tag 2개 의 숫자만 변경하면서 진행한다.-> 사전에 행의 갯수가 몇개인지 확인작업"
   ]
  },
  {
   "cell_type": "code",
   "execution_count": 173,
   "metadata": {},
   "outputs": [],
   "source": [
    "browser.find_elements_by_xpath('//*[@id = \"react-root\"]/section/main/div/div[3]/article/div/div/div[2]/div[1]')[0].click()"
   ]
  },
  {
   "cell_type": "code",
   "execution_count": 174,
   "metadata": {},
   "outputs": [],
   "source": [
    "browser.find_elements_by_xpath('//*[@class=\"_2dDPU vCf6V\"]/button')[0].click()"
   ]
  },
  {
   "cell_type": "code",
   "execution_count": null,
   "metadata": {},
   "outputs": [],
   "source": [
    "browser.find_elements_by_xpath('//*[@id = \"react-root\"]/section/main/div/div[3]/article/div/div/div[2]/div[2]')[0].click()"
   ]
  },
  {
   "cell_type": "markdown",
   "metadata": {},
   "source": [
    "### 게시물 내의 정보 추출"
   ]
  },
  {
   "cell_type": "code",
   "execution_count": 159,
   "metadata": {},
   "outputs": [],
   "source": [
    "browser.find_elements_by_xpath('//*[@id = \"react-root\"]/section/main/div/div[3]/article/div/div/div/div[1]')[0].click()"
   ]
  },
  {
   "cell_type": "code",
   "execution_count": 114,
   "metadata": {},
   "outputs": [],
   "source": [
    "body = browser.find_elements_by_xpath('//*[@class = \"PdwC2 _6oveC Z_y-9\"]/article/div[2]/div[1]')[0]"
   ]
  },
  {
   "cell_type": "code",
   "execution_count": 98,
   "metadata": {},
   "outputs": [],
   "source": [
    "plus = browser.find_elements_by_xpath('//*[@class = \"PdwC2 _6oveC Z_y-9\"]/article/div[2]/div[1]/ul/li[2]/div/button/span')"
   ]
  },
  {
   "cell_type": "code",
   "execution_count": 76,
   "metadata": {},
   "outputs": [],
   "source": [
    "plus[0].click()"
   ]
  },
  {
   "cell_type": "markdown",
   "metadata": {},
   "source": [
    "### 한 post 내의 모든 정보를 추출하기 위해서 스크롤 작업 + 자동 펼쳐짐이   \n",
    "### 아니므로 (+) 버튼 클릭 작업"
   ]
  },
  {
   "cell_type": "code",
   "execution_count": 116,
   "metadata": {
    "collapsed": true
   },
   "outputs": [
    {
     "ename": "IndexError",
     "evalue": "list index out of range",
     "output_type": "error",
     "traceback": [
      "\u001b[1;31m---------------------------------------------------------------------------\u001b[0m",
      "\u001b[1;31mIndexError\u001b[0m                                Traceback (most recent call last)",
      "\u001b[1;32m<ipython-input-116-de39d76d5bb2>\u001b[0m in \u001b[0;36m<module>\u001b[1;34m()\u001b[0m\n\u001b[0;32m      2\u001b[0m \u001b[1;33m\u001b[0m\u001b[0m\n\u001b[0;32m      3\u001b[0m \u001b[0mplus\u001b[0m \u001b[1;33m=\u001b[0m \u001b[0mbrowser\u001b[0m\u001b[1;33m.\u001b[0m\u001b[0mfind_elements_by_xpath\u001b[0m\u001b[1;33m(\u001b[0m\u001b[1;34m'//*[@class = \"PdwC2 _6oveC Z_y-9\"]/article/div[2]/div[1]/ul/li[2]/div/button/span'\u001b[0m\u001b[1;33m)\u001b[0m\u001b[1;33m\u001b[0m\u001b[0m\n\u001b[1;32m----> 4\u001b[1;33m \u001b[0mplus\u001b[0m\u001b[1;33m[\u001b[0m\u001b[1;36m0\u001b[0m\u001b[1;33m]\u001b[0m\u001b[1;33m.\u001b[0m\u001b[0mclick\u001b[0m\u001b[1;33m(\u001b[0m\u001b[1;33m)\u001b[0m\u001b[1;33m\u001b[0m\u001b[0m\n\u001b[0m",
      "\u001b[1;31mIndexError\u001b[0m: list index out of range"
     ]
    }
   ],
   "source": [
    "#각 게시물에 접근한 뒤 댓글을 긁기 위해서 댓글창을 최대한 늘리는 사전 작업\n",
    "#action chain은 현재 스크롤 내리는 것을 이처럼 일일히 내려야 한다.\n",
    "#따라서 더 간편한 방법을 생각해보자\n",
    "#무한루프를 사용해야 정확한 댓글을 다 뽑을 수 있을 것임\n",
    "ActionChains(browser)\\\n",
    ".move_to_element(body).click()\\\n",
    ".send_keys(Keys.PAGE_DOWN)\\\n",
    ".send_keys(Keys.PAGE_DOWN)\\\n",
    ".send_keys(Keys.PAGE_DOWN)\\\n",
    ".send_keys(Keys.PAGE_DOWN)\\\n",
    ".send_keys(Keys.PAGE_DOWN)\\\n",
    ".send_keys(Keys.PAGE_DOWN)\\\n",
    ".send_keys(Keys.PAGE_DOWN)\\\n",
    ".send_keys(Keys.PAGE_DOWN)\\\n",
    ".send_keys(Keys.PAGE_DOWN)\\\n",
    ".perform()\n",
    "\n",
    "plus = browser.find_elements_by_xpath('//*[@class = \"PdwC2 _6oveC Z_y-9\"]/article/div[2]/div[1]/ul/li[2]/div/button/span')\n",
    "plus[0].click()"
   ]
  },
  {
   "cell_type": "code",
   "execution_count": 46,
   "metadata": {
    "collapsed": true
   },
   "outputs": [
    {
     "ename": "WebDriverException",
     "evalue": "Message: unknown error: cannot focus element\n  (Session info: chrome=73.0.3683.86)\n  (Driver info: chromedriver=2.38.552522 (437e6fbedfa8762dec75e2c5b3ddb86763dc9dcb),platform=Windows NT 10.0.17134 x86_64)\n",
     "output_type": "error",
     "traceback": [
      "\u001b[1;31m---------------------------------------------------------------------------\u001b[0m",
      "\u001b[1;31mWebDriverException\u001b[0m                        Traceback (most recent call last)",
      "\u001b[1;32m<ipython-input-46-bad1e5d7bbdd>\u001b[0m in \u001b[0;36m<module>\u001b[1;34m()\u001b[0m\n\u001b[0;32m      1\u001b[0m \u001b[0mnum_of_pagedowns\u001b[0m \u001b[1;33m=\u001b[0m \u001b[1;36m4\u001b[0m \u001b[1;31m#page_down은 2로 놔도 괜찮을 듯 최대화 했으므로\u001b[0m\u001b[1;33m\u001b[0m\u001b[0m\n\u001b[0;32m      2\u001b[0m \u001b[1;32mwhile\u001b[0m \u001b[0mnum_of_pagedowns\u001b[0m\u001b[1;33m:\u001b[0m\u001b[1;33m\u001b[0m\u001b[0m\n\u001b[1;32m----> 3\u001b[1;33m     \u001b[0mbody\u001b[0m\u001b[1;33m.\u001b[0m\u001b[0msend_keys\u001b[0m\u001b[1;33m(\u001b[0m\u001b[0mKeys\u001b[0m\u001b[1;33m.\u001b[0m\u001b[0mPAGE_DOWN\u001b[0m\u001b[1;33m)\u001b[0m\u001b[1;33m\u001b[0m\u001b[0m\n\u001b[0m\u001b[0;32m      4\u001b[0m     \u001b[0mtime\u001b[0m\u001b[1;33m.\u001b[0m\u001b[0msleep\u001b[0m\u001b[1;33m(\u001b[0m\u001b[1;36m1.5\u001b[0m\u001b[1;33m)\u001b[0m\u001b[1;33m\u001b[0m\u001b[0m\n",
      "\u001b[1;32m~\\Anaconda3\\lib\\site-packages\\selenium\\webdriver\\remote\\webelement.py\u001b[0m in \u001b[0;36msend_keys\u001b[1;34m(self, *value)\u001b[0m\n\u001b[0;32m    477\u001b[0m         self._execute(Command.SEND_KEYS_TO_ELEMENT,\n\u001b[0;32m    478\u001b[0m                       {'text': \"\".join(keys_to_typing(value)),\n\u001b[1;32m--> 479\u001b[1;33m                        'value': keys_to_typing(value)})\n\u001b[0m\u001b[0;32m    480\u001b[0m \u001b[1;33m\u001b[0m\u001b[0m\n\u001b[0;32m    481\u001b[0m     \u001b[1;31m# RenderedWebElement Items\u001b[0m\u001b[1;33m\u001b[0m\u001b[1;33m\u001b[0m\u001b[0m\n",
      "\u001b[1;32m~\\Anaconda3\\lib\\site-packages\\selenium\\webdriver\\remote\\webelement.py\u001b[0m in \u001b[0;36m_execute\u001b[1;34m(self, command, params)\u001b[0m\n\u001b[0;32m    626\u001b[0m             \u001b[0mparams\u001b[0m \u001b[1;33m=\u001b[0m \u001b[1;33m{\u001b[0m\u001b[1;33m}\u001b[0m\u001b[1;33m\u001b[0m\u001b[0m\n\u001b[0;32m    627\u001b[0m         \u001b[0mparams\u001b[0m\u001b[1;33m[\u001b[0m\u001b[1;34m'id'\u001b[0m\u001b[1;33m]\u001b[0m \u001b[1;33m=\u001b[0m \u001b[0mself\u001b[0m\u001b[1;33m.\u001b[0m\u001b[0m_id\u001b[0m\u001b[1;33m\u001b[0m\u001b[0m\n\u001b[1;32m--> 628\u001b[1;33m         \u001b[1;32mreturn\u001b[0m \u001b[0mself\u001b[0m\u001b[1;33m.\u001b[0m\u001b[0m_parent\u001b[0m\u001b[1;33m.\u001b[0m\u001b[0mexecute\u001b[0m\u001b[1;33m(\u001b[0m\u001b[0mcommand\u001b[0m\u001b[1;33m,\u001b[0m \u001b[0mparams\u001b[0m\u001b[1;33m)\u001b[0m\u001b[1;33m\u001b[0m\u001b[0m\n\u001b[0m\u001b[0;32m    629\u001b[0m \u001b[1;33m\u001b[0m\u001b[0m\n\u001b[0;32m    630\u001b[0m     \u001b[1;32mdef\u001b[0m \u001b[0mfind_element\u001b[0m\u001b[1;33m(\u001b[0m\u001b[0mself\u001b[0m\u001b[1;33m,\u001b[0m \u001b[0mby\u001b[0m\u001b[1;33m=\u001b[0m\u001b[0mBy\u001b[0m\u001b[1;33m.\u001b[0m\u001b[0mID\u001b[0m\u001b[1;33m,\u001b[0m \u001b[0mvalue\u001b[0m\u001b[1;33m=\u001b[0m\u001b[1;32mNone\u001b[0m\u001b[1;33m)\u001b[0m\u001b[1;33m:\u001b[0m\u001b[1;33m\u001b[0m\u001b[0m\n",
      "\u001b[1;32m~\\Anaconda3\\lib\\site-packages\\selenium\\webdriver\\remote\\webdriver.py\u001b[0m in \u001b[0;36mexecute\u001b[1;34m(self, driver_command, params)\u001b[0m\n\u001b[0;32m    318\u001b[0m         \u001b[0mresponse\u001b[0m \u001b[1;33m=\u001b[0m \u001b[0mself\u001b[0m\u001b[1;33m.\u001b[0m\u001b[0mcommand_executor\u001b[0m\u001b[1;33m.\u001b[0m\u001b[0mexecute\u001b[0m\u001b[1;33m(\u001b[0m\u001b[0mdriver_command\u001b[0m\u001b[1;33m,\u001b[0m \u001b[0mparams\u001b[0m\u001b[1;33m)\u001b[0m\u001b[1;33m\u001b[0m\u001b[0m\n\u001b[0;32m    319\u001b[0m         \u001b[1;32mif\u001b[0m \u001b[0mresponse\u001b[0m\u001b[1;33m:\u001b[0m\u001b[1;33m\u001b[0m\u001b[0m\n\u001b[1;32m--> 320\u001b[1;33m             \u001b[0mself\u001b[0m\u001b[1;33m.\u001b[0m\u001b[0merror_handler\u001b[0m\u001b[1;33m.\u001b[0m\u001b[0mcheck_response\u001b[0m\u001b[1;33m(\u001b[0m\u001b[0mresponse\u001b[0m\u001b[1;33m)\u001b[0m\u001b[1;33m\u001b[0m\u001b[0m\n\u001b[0m\u001b[0;32m    321\u001b[0m             response['value'] = self._unwrap_value(\n\u001b[0;32m    322\u001b[0m                 response.get('value', None))\n",
      "\u001b[1;32m~\\Anaconda3\\lib\\site-packages\\selenium\\webdriver\\remote\\errorhandler.py\u001b[0m in \u001b[0;36mcheck_response\u001b[1;34m(self, response)\u001b[0m\n\u001b[0;32m    240\u001b[0m                 \u001b[0malert_text\u001b[0m \u001b[1;33m=\u001b[0m \u001b[0mvalue\u001b[0m\u001b[1;33m[\u001b[0m\u001b[1;34m'alert'\u001b[0m\u001b[1;33m]\u001b[0m\u001b[1;33m.\u001b[0m\u001b[0mget\u001b[0m\u001b[1;33m(\u001b[0m\u001b[1;34m'text'\u001b[0m\u001b[1;33m)\u001b[0m\u001b[1;33m\u001b[0m\u001b[0m\n\u001b[0;32m    241\u001b[0m             \u001b[1;32mraise\u001b[0m \u001b[0mexception_class\u001b[0m\u001b[1;33m(\u001b[0m\u001b[0mmessage\u001b[0m\u001b[1;33m,\u001b[0m \u001b[0mscreen\u001b[0m\u001b[1;33m,\u001b[0m \u001b[0mstacktrace\u001b[0m\u001b[1;33m,\u001b[0m \u001b[0malert_text\u001b[0m\u001b[1;33m)\u001b[0m\u001b[1;33m\u001b[0m\u001b[0m\n\u001b[1;32m--> 242\u001b[1;33m         \u001b[1;32mraise\u001b[0m \u001b[0mexception_class\u001b[0m\u001b[1;33m(\u001b[0m\u001b[0mmessage\u001b[0m\u001b[1;33m,\u001b[0m \u001b[0mscreen\u001b[0m\u001b[1;33m,\u001b[0m \u001b[0mstacktrace\u001b[0m\u001b[1;33m)\u001b[0m\u001b[1;33m\u001b[0m\u001b[0m\n\u001b[0m\u001b[0;32m    243\u001b[0m \u001b[1;33m\u001b[0m\u001b[0m\n\u001b[0;32m    244\u001b[0m     \u001b[1;32mdef\u001b[0m \u001b[0m_value_or_default\u001b[0m\u001b[1;33m(\u001b[0m\u001b[0mself\u001b[0m\u001b[1;33m,\u001b[0m \u001b[0mobj\u001b[0m\u001b[1;33m,\u001b[0m \u001b[0mkey\u001b[0m\u001b[1;33m,\u001b[0m \u001b[0mdefault\u001b[0m\u001b[1;33m)\u001b[0m\u001b[1;33m:\u001b[0m\u001b[1;33m\u001b[0m\u001b[0m\n",
      "\u001b[1;31mWebDriverException\u001b[0m: Message: unknown error: cannot focus element\n  (Session info: chrome=73.0.3683.86)\n  (Driver info: chromedriver=2.38.552522 (437e6fbedfa8762dec75e2c5b3ddb86763dc9dcb),platform=Windows NT 10.0.17134 x86_64)\n"
     ]
    }
   ],
   "source": [
    "#이방법을 사용하여 스크롤을 내릴 수 있는 방법을 고안해보자\n",
    "num_of_pagedowns = 4 #page_down은 2로 놔도 괜찮을 듯 최대화 했으므로\n",
    "while num_of_pagedowns:\n",
    "    body.send_keys(Keys.PAGE_DOWN)\n",
    "    time.sleep(1.5)"
   ]
  },
  {
   "cell_type": "code",
   "execution_count": 117,
   "metadata": {},
   "outputs": [],
   "source": [
    "html0 = browser.page_source"
   ]
  },
  {
   "cell_type": "code",
   "execution_count": 120,
   "metadata": {},
   "outputs": [],
   "source": [
    "html_source = BeautifulSoup(html0,'html.parser')"
   ]
  },
  {
   "cell_type": "markdown",
   "metadata": {},
   "source": [
    "#### 좋아요수 및 조회수"
   ]
  },
  {
   "cell_type": "code",
   "execution_count": 121,
   "metadata": {},
   "outputs": [],
   "source": [
    "likes_num = html_source.find('section',{'class':'EDfFK ygqzn'})"
   ]
  },
  {
   "cell_type": "code",
   "execution_count": 129,
   "metadata": {},
   "outputs": [],
   "source": [
    "#try 문을 사용하여 조회수와 좋아요수를 구분\n",
    "try:\n",
    "    likes = likes_num.find('span').text + '개'\n",
    "except:\n",
    "    view = likes_num.find('span').find('span') + '회'"
   ]
  },
  {
   "cell_type": "code",
   "execution_count": 130,
   "metadata": {},
   "outputs": [
    {
     "data": {
      "text/plain": [
       "'7,257개'"
      ]
     },
     "execution_count": 130,
     "metadata": {},
     "output_type": "execute_result"
    }
   ],
   "source": [
    "#좋아요수\n",
    "likes"
   ]
  },
  {
   "cell_type": "markdown",
   "metadata": {},
   "source": [
    "#### 포스팅 날짜"
   ]
  },
  {
   "cell_type": "code",
   "execution_count": 126,
   "metadata": {},
   "outputs": [],
   "source": [
    "#날짜\n",
    "date = html_source.find('div',{'class':'k_Q0X NnvRN'})"
   ]
  },
  {
   "cell_type": "code",
   "execution_count": 128,
   "metadata": {},
   "outputs": [
    {
     "data": {
      "text/plain": [
       "'2019년 4월 11일'"
      ]
     },
     "execution_count": 128,
     "metadata": {},
     "output_type": "execute_result"
    }
   ],
   "source": [
    "date.find('time')['title']"
   ]
  },
  {
   "cell_type": "markdown",
   "metadata": {},
   "source": [
    "#### 댓글 수집"
   ]
  },
  {
   "cell_type": "code",
   "execution_count": 131,
   "metadata": {},
   "outputs": [],
   "source": [
    "#댓글 긁어오기\n",
    "comment = html_source.find_all('ul',{'class':'Mr508'})"
   ]
  },
  {
   "cell_type": "code",
   "execution_count": 132,
   "metadata": {},
   "outputs": [
    {
     "data": {
      "text/plain": [
       "63"
      ]
     },
     "execution_count": 132,
     "metadata": {},
     "output_type": "execute_result"
    }
   ],
   "source": [
    "#댓글 수\n",
    "len(comment)"
   ]
  },
  {
   "cell_type": "code",
   "execution_count": 134,
   "metadata": {},
   "outputs": [
    {
     "data": {
      "text/plain": [
       "'yogawesermarsch'"
      ]
     },
     "execution_count": 134,
     "metadata": {},
     "output_type": "execute_result"
    }
   ],
   "source": [
    "#bs4에서도 css/xpath사용가능\n",
    "#댓글 작성자\n",
    "comment[0].find('h3',{'class':'_6lAjh'}).find('a').text"
   ]
  },
  {
   "cell_type": "code",
   "execution_count": 135,
   "metadata": {},
   "outputs": [
    {
     "data": {
      "text/plain": [
       "'I tried the first class today and I love it! Thanks for creating such a thoughtful series!! 🙏💛'"
      ]
     },
     "execution_count": 135,
     "metadata": {},
     "output_type": "execute_result"
    }
   ],
   "source": [
    "#댓글\n",
    "comment[0].find('div',{'class':'C4VMK'}).find('span').text"
   ]
  },
  {
   "cell_type": "markdown",
   "metadata": {},
   "source": [
    "#### 가장 중요! 게시물 별로 해시태그 수집"
   ]
  },
  {
   "cell_type": "code",
   "execution_count": null,
   "metadata": {},
   "outputs": [],
   "source": [
    "#해시태그 긁어 오기 -> 어떻게 보면 해시태그 긁어오는 것이 가장 중요함\n",
    "#이유는 해시태그를 통해서 다른 부수적인 것들을 분석하여 결과를 도출할 수 있으므로\n",
    "#해시태그 수집하는 코드 분석하기.\n",
    "load= browser.find_element_by_xpath(\n",
    "\t'/html/body/div[4]/div/div/div[2]/div/article/div[2]/div[1]/ul/li[2]/a')\n",
    "\n",
    "while True:\n",
    "\ttry:\n",
    "\t\tbutton = WebDriverWait(load, 5).until(EC.visibility_of_element_located((By.XPATH, \n",
    "        \t\"/html/body/div[4]/div/div/div[2]/div/article/div[2]/div[1]/ul/li[2]/a\")))\n",
    "\texcept TimeoutException:\n",
    "\t\tbreak  # no more wines\n",
    "\tbutton.click()  # load more comments\n",
    "\n",
    "\n",
    "\n",
    "csv_file = open('insta2.csv', 'wb')\n",
    "writer = csv.writer(csv_file)\n",
    "writer.writerow(['hashtag'])\n",
    "\n",
    "\n",
    "hash_dict = {}\n",
    "\n",
    "\n",
    "\n",
    "tag = browser.find_element_by_xpath(\"/html/body/div[4]/div/div/div[2]/div/article/div[2]/div[1]/ul/li[4]/span\").text\n",
    "hash_dict[\"hashtag\"] = tag\n",
    "writer.writerow(hash_dict.values()) \n",
    "\n",
    "\n",
    "browser.back()"
   ]
  }
 ],
 "metadata": {
  "kernelspec": {
   "display_name": "Python 3",
   "language": "python",
   "name": "python3"
  },
  "language_info": {
   "codemirror_mode": {
    "name": "ipython",
    "version": 3
   },
   "file_extension": ".py",
   "mimetype": "text/x-python",
   "name": "python",
   "nbconvert_exporter": "python",
   "pygments_lexer": "ipython3",
   "version": "3.6.5"
  }
 },
 "nbformat": 4,
 "nbformat_minor": 2
}
