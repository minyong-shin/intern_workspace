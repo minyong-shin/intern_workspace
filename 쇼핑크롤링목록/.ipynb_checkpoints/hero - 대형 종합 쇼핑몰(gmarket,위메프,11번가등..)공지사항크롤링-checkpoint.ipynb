{
 "cells": [
  {
   "cell_type": "markdown",
   "metadata": {},
   "source": [
    "대형 쇼핑몰 크롤링 목록\n",
    "<img src = \"대형쇼핑몰목록.PNG\">\n"
   ]
  },
  {
   "cell_type": "markdown",
   "metadata": {},
   "source": [
    "# 쿠팡 공지사항 크롤링"
   ]
  },
  {
   "cell_type": "markdown",
   "metadata": {},
   "source": [
    "#애초에 예전 공지사항을 긁어올 필요가 없음"
   ]
  },
  {
   "cell_type": "code",
   "execution_count": 1,
   "metadata": {},
   "outputs": [],
   "source": [
    "base_url = 'https://csmessenger.coupang.com/cs-center/notice/main#NOTICE'"
   ]
  },
  {
   "cell_type": "code",
   "execution_count": 7,
   "metadata": {},
   "outputs": [],
   "source": [
    "browser = Chrome()"
   ]
  },
  {
   "cell_type": "code",
   "execution_count": 9,
   "metadata": {},
   "outputs": [],
   "source": [
    "browser.get(base_url)\n",
    "browser.maximize_window()"
   ]
  },
  {
   "cell_type": "code",
   "execution_count": 10,
   "metadata": {},
   "outputs": [],
   "source": [
    "html0 = browser.page_source"
   ]
  },
  {
   "cell_type": "code",
   "execution_count": 11,
   "metadata": {},
   "outputs": [],
   "source": [
    "html1 = BeautifulSoup(html0,'html.parser')"
   ]
  },
  {
   "cell_type": "code",
   "execution_count": 13,
   "metadata": {},
   "outputs": [],
   "source": [
    "cu0 = html1.find('ul',{'id':'csNoticeContentList'})"
   ]
  },
  {
   "cell_type": "code",
   "execution_count": 15,
   "metadata": {},
   "outputs": [],
   "source": [
    "cu1 = cu0.find_all('li',{'class':'cs-notice__contents'})"
   ]
  },
  {
   "cell_type": "markdown",
   "metadata": {},
   "source": [
    "### 쿠팡은 애초에 공지사항이 얼마 안올라올뿐더러 데이터를 이미지형식으로 업로드를 해놓음 그렇지만 이미지 url자체도 코드가 매우 김 -> 물론 긁어올 수는 있지만 차라리 공지사항 text와 날짜만 긁어와도 무방할 듯"
   ]
  },
  {
   "cell_type": "code",
   "execution_count": null,
   "metadata": {},
   "outputs": [],
   "source": []
  },
  {
   "cell_type": "markdown",
   "metadata": {},
   "source": [
    "# g마켓 공지사항 크롤링"
   ]
  },
  {
   "cell_type": "code",
   "execution_count": 17,
   "metadata": {},
   "outputs": [],
   "source": [
    "base_url = 'http://member2.gmarket.co.kr/CustomerCenter/NoticeMain'"
   ]
  },
  {
   "cell_type": "code",
   "execution_count": 18,
   "metadata": {},
   "outputs": [],
   "source": [
    "browser.get(base_url)\n",
    "browser.maximize_window()"
   ]
  },
  {
   "cell_type": "code",
   "execution_count": 20,
   "metadata": {},
   "outputs": [],
   "source": [
    "html0 = browser.page_source"
   ]
  },
  {
   "cell_type": "code",
   "execution_count": 21,
   "metadata": {},
   "outputs": [],
   "source": [
    "html1 = BeautifulSoup(html0,'html.parser')"
   ]
  },
  {
   "cell_type": "code",
   "execution_count": 34,
   "metadata": {
    "scrolled": true
   },
   "outputs": [],
   "source": [
    "tit = html1.find('div',{'id':'noticeList'}).find_all('tr',{'class':'off'})"
   ]
  },
  {
   "cell_type": "code",
   "execution_count": 36,
   "metadata": {},
   "outputs": [
    {
     "data": {
      "text/plain": [
       "'소비자피해예방'"
      ]
     },
     "execution_count": 36,
     "metadata": {},
     "output_type": "execute_result"
    }
   ],
   "source": [
    "tit[0].find('td',{'class':'left'}).text"
   ]
  },
  {
   "cell_type": "code",
   "execution_count": 39,
   "metadata": {},
   "outputs": [
    {
     "data": {
      "text/plain": [
       "'2019. 05. 13'"
      ]
     },
     "execution_count": 39,
     "metadata": {},
     "output_type": "execute_result"
    }
   ],
   "source": [
    "tit[0].find_all('td')[1].text"
   ]
  },
  {
   "cell_type": "code",
   "execution_count": 40,
   "metadata": {},
   "outputs": [],
   "source": [
    "main = html1.find('div',{'id':'noticeList'}).find_all('tr',{'class':'view'})"
   ]
  },
  {
   "cell_type": "code",
   "execution_count": 43,
   "metadata": {},
   "outputs": [
    {
     "data": {
      "text/plain": [
       "' 안녕하세요. G마켓입니다.농림축산검역본부 인천공항지역본부에서 협조 요청사항이 있어 공지드립니다.최근  애완동물용 분유 제품 KMR(KITTEN MILK REPLACER) 성분 중 검역 대상 성분인 DICALCIUM PHOSPHATE이 포함된 제품들이 다량 있어서, 검역 불합격 처리되고 있습니다. DICALCIUM PHOSPHATE 성분은 BSE관련 성분으로 이성분이 광물성(MINERAL)이라는 제조사 등의 증명이 없이는 해외직구로는 검역 통관이 가능하지 않습니다. 해외직구 및 구매대행 제품 구매시 DICALCIUM PHOSPHATE 성분 포함여부 및 증명서 발급여부 확인하여  구매로 인한 불이익을 받는 일이 없도록 유의하여 주시기 바랍니다.G마켓은  안전한 인터넷 상거래 문화를 선도하기 위해 노력하겠습니다.감사합니다.○ 분유 예시 '"
      ]
     },
     "execution_count": 43,
     "metadata": {},
     "output_type": "execute_result"
    }
   ],
   "source": [
    "main[1].find('div',{'class':'result_view'}).get_text()"
   ]
  },
  {
   "cell_type": "markdown",
   "metadata": {},
   "source": [
    "전반적으로 셀레늄으로 크롤링해야함 형식은 네이버 카페 글을 크롤링할 때와 똑같이 크롤링하면 됨"
   ]
  },
  {
   "cell_type": "code",
   "execution_count": null,
   "metadata": {},
   "outputs": [],
   "source": []
  },
  {
   "cell_type": "markdown",
   "metadata": {},
   "source": [
    "# 11번가 크롤링"
   ]
  },
  {
   "cell_type": "code",
   "execution_count": 44,
   "metadata": {},
   "outputs": [],
   "source": [
    "base_url = 'http://help.11st.co.kr/11st/bbs/Bbs.jsp?searchGubun='"
   ]
  },
  {
   "cell_type": "code",
   "execution_count": 119,
   "metadata": {},
   "outputs": [],
   "source": [
    "browser = Chrome()"
   ]
  },
  {
   "cell_type": "code",
   "execution_count": 120,
   "metadata": {},
   "outputs": [],
   "source": [
    "browser.get(base_url)\n",
    "browser.maximize_window()"
   ]
  },
  {
   "cell_type": "code",
   "execution_count": 195,
   "metadata": {},
   "outputs": [],
   "source": [
    "browser.switch_to_frame(browser.find_element_by_name('BbsFrame'))"
   ]
  },
  {
   "cell_type": "code",
   "execution_count": 196,
   "metadata": {
    "scrolled": true
   },
   "outputs": [],
   "source": [
    "browser.find_elements_by_xpath('//*[@class = \"tb_nadoExpand3\"]/tbody/tr[2]/td[3]/div/a')[0].click()"
   ]
  },
  {
   "cell_type": "code",
   "execution_count": 183,
   "metadata": {},
   "outputs": [],
   "source": [
    "browser.switch_to_window(browser.window_handles[1])"
   ]
  },
  {
   "cell_type": "code",
   "execution_count": 184,
   "metadata": {},
   "outputs": [],
   "source": [
    "html0 = browser.page_source"
   ]
  },
  {
   "cell_type": "code",
   "execution_count": 185,
   "metadata": {},
   "outputs": [],
   "source": [
    "html1 = BeautifulSoup(html0,'html.parser')"
   ]
  },
  {
   "cell_type": "code",
   "execution_count": 187,
   "metadata": {},
   "outputs": [],
   "source": [
    "tx = html1.find('div',{'class':'Table_div'})"
   ]
  },
  {
   "cell_type": "code",
   "execution_count": 188,
   "metadata": {},
   "outputs": [],
   "source": [
    "title = tx.find_all('td',{'class':'lst texLeft'})[0].text"
   ]
  },
  {
   "cell_type": "code",
   "execution_count": 189,
   "metadata": {},
   "outputs": [],
   "source": [
    "date = tx.find_all('td',{'class':'lst texLeft'})[1].text"
   ]
  },
  {
   "cell_type": "code",
   "execution_count": 190,
   "metadata": {},
   "outputs": [],
   "source": [
    "text0 = tx.find('div',{'id':'espresso_editor_view'}).find_all('p')"
   ]
  },
  {
   "cell_type": "code",
   "execution_count": 191,
   "metadata": {},
   "outputs": [],
   "source": [
    "a=[]\n",
    "for i in text0:\n",
    "    aa = i.text\n",
    "    a.append(aa)\n",
    "bb = ''.join(a)\n",
    "cc = re.sub('\\xa0',\"\",bb)"
   ]
  },
  {
   "cell_type": "code",
   "execution_count": 192,
   "metadata": {},
   "outputs": [
    {
     "data": {
      "text/plain": [
       "'안녕하세요. 11번가 안전거래센터입니다.환경부 산하 수도권대기환경청에서 자동차연료 첨가제 및 촉매제 제조·수입·판매사를 대상으로 사업자 준수사항과 사후관리 제도 등에 대하여 아래와 같이 교육을 실시한다고 합니다.교육을원하시는 판매자 여러분께서는 \\'19.5.17(금)까지 참석자 명단을 아래 연락처로 제출하여 주시기 바랍니다.판매자 여러분들의 많은 참여 바랍니다. 감사합니다.  - 아 래 - 가. 일 시 : 2019.5.22(수) 14:00~16:00나. 장 소 : 수도권청 4층 대강당다. 참석대상 : 수도권 소재 자동차 연료 첨가제 및 촉매제 제조·수입·판매사 업무 담당자라. 주요내용 : 첨가제 및 촉매제 제조·수입·판매자 준수사항과 사후관리 제도 안내 등 o 참석자 명단 보내실 곳 : ok1410@korea.kr※ 참석자 명단 양식 첨부o 문의 : 수도권대기환경청 자동차관리과 주옥희 주무관(031-481-1378)[세부일정]\\n시 간내 용비 고14:00~14:30등록 및 안내사회자14:30~14:35(05\\')인사 말씀자동차관리과장14:35~14:50(15\\')동영상 시청(자동차 관련, 불법 첨가제 관련)수도권청14:50~15:10(20\\')자동차연료 첨가제 및 촉매제 사후관리제도수도권청15:10~15:30(20\\')자동차연료 첨가제(촉매제) 검사 방법교통환경연구소(또는 한국석유관리원)15:30~16:00(30\\')질의·응답참석자o 약도 및 주소 : ○ 자가용 이용시 - 안산IC - 중앙초등학교-안산시청-수도권대기환경청  - 서안산IC-안산역-고잔역-수도권대기환경청 ○ 대중교통 이용시  <버스> - 자유센터 하차  <지하철> - 4호선 \"고잔역\" 1번 출구 도보 10분 ○ 주소 및 연락처: 경기도 안산시 단원구 원고잔로 34  (☎ 031-481-1378, 1379)※ 주차장이 협소하므로 대중교통 및 주변 공영주차장을 이용해 주시면 고맙겠습니다.'"
      ]
     },
     "execution_count": 192,
     "metadata": {},
     "output_type": "execute_result"
    }
   ],
   "source": [
    "cc"
   ]
  },
  {
   "cell_type": "code",
   "execution_count": 198,
   "metadata": {},
   "outputs": [],
   "source": [
    "browser.switch_to.window(browser.window_handles[0])"
   ]
  },
  {
   "cell_type": "markdown",
   "metadata": {},
   "source": [
    "중간에 frame과 window창의 변환 규칙이 있는만큼 time.sleep로 시간차를 두고서 크롤링하면 끝"
   ]
  },
  {
   "cell_type": "code",
   "execution_count": null,
   "metadata": {},
   "outputs": [],
   "source": []
  },
  {
   "cell_type": "markdown",
   "metadata": {},
   "source": [
    "# 위메프 크롤링"
   ]
  },
  {
   "cell_type": "code",
   "execution_count": 197,
   "metadata": {},
   "outputs": [],
   "source": [
    "base_url = 'http://www.wemakeprice.com/board_notice/notice_list'"
   ]
  },
  {
   "cell_type": "code",
   "execution_count": 200,
   "metadata": {},
   "outputs": [],
   "source": [
    "wemep = 'http://www.wemakeprice.com'"
   ]
  },
  {
   "cell_type": "code",
   "execution_count": 199,
   "metadata": {},
   "outputs": [],
   "source": [
    "browser.get(base_url)\n",
    "browser.maximize_window()"
   ]
  },
  {
   "cell_type": "code",
   "execution_count": 201,
   "metadata": {},
   "outputs": [],
   "source": [
    "res = requests.get(base_url)"
   ]
  },
  {
   "cell_type": "code",
   "execution_count": 202,
   "metadata": {},
   "outputs": [],
   "source": [
    "soup = BeautifulSoup(res.content,'html.parser')"
   ]
  },
  {
   "cell_type": "code",
   "execution_count": 204,
   "metadata": {},
   "outputs": [],
   "source": [
    "main = soup.find('div',{'class':'content-main'})"
   ]
  },
  {
   "cell_type": "code",
   "execution_count": 205,
   "metadata": {},
   "outputs": [
    {
     "data": {
      "text/plain": [
       "<tbody class=\"body\">\n",
       "<tr class=\"on\">\n",
       "<td class=\"fst\">*</td>\n",
       "<td class=\"subject\"><a class=\"priority_notice\" href=\"/board_notice/notice_view/3448\">[공지] 위메프 위치기반서비스 이용약관 변경 공지</a></td>\n",
       "<td>2018.11.07</td>\n",
       "<td>2828</td>\n",
       "</tr>\n",
       "<tr class=\"on\">\n",
       "<td class=\"fst\">*</td>\n",
       "<td class=\"subject\"><a class=\"priority_notice\" href=\"/board_notice/notice_view/3445\">[공지] 원더서비스 개인정보처리방침 개정 공지</a></td>\n",
       "<td>2018.11.06</td>\n",
       "<td>967</td>\n",
       "</tr>\n",
       "<tr class=\"on\">\n",
       "<td class=\"fst\">*</td>\n",
       "<td class=\"subject\"><a class=\"priority_notice\" href=\"/board_notice/notice_view/3413\">[공지] 위메프 개인정보처리방침 개정 공지</a></td>\n",
       "<td>2018.10.19</td>\n",
       "<td>1044</td>\n",
       "</tr>\n",
       "<tr class=\"on\">\n",
       "<td class=\"fst\">*</td>\n",
       "<td class=\"subject\"><a class=\"priority_notice\" href=\"/board_notice/notice_view/3363\">[공지] 위메프 이용약관 개정공지</a></td>\n",
       "<td>2018.09.20</td>\n",
       "<td>3875</td>\n",
       "</tr>\n",
       "<tr class=\"on\">\n",
       "<td class=\"fst\">*</td>\n",
       "<td class=\"subject\"><a class=\"priority_notice\" href=\"/board_notice/notice_view/3359\">[공지] 2018 인터넷 지킴이 캠페인. 스마트폰 속 개인정보 확인하고 지키세요!</a></td>\n",
       "<td>2018.09.17</td>\n",
       "<td>3159</td>\n",
       "</tr>\n",
       "<tr class=\"on\">\n",
       "<td class=\"fst\">*</td>\n",
       "<td class=\"subject\"><a class=\"priority_notice\" href=\"/board_notice/notice_view/2588\">[공지] 위메프 배송지연 보상제</a></td>\n",
       "<td>2017.08.09</td>\n",
       "<td>12668</td>\n",
       "</tr>\n",
       "<tr class=\"on\">\n",
       "<td class=\"fst\">*</td>\n",
       "<td class=\"subject\"><a class=\"priority_notice\" href=\"/board_notice/notice_view/1276\">[공지] 위조품 200% 소비자 보상 제도</a></td>\n",
       "<td>2013.12.23</td>\n",
       "<td>38367</td>\n",
       "</tr>\n",
       "<tr class=\"on\">\n",
       "<td class=\"fst\">*</td>\n",
       "<td class=\"subject\"><a class=\"priority_notice\" href=\"/board_notice/notice_view/1136\">[공지] 원클릭 교환/반품 서비스! 모바일 추가 적용 완료!! </a></td>\n",
       "<td>2013.09.25</td>\n",
       "<td>45988</td>\n",
       "</tr>\n",
       "<tr>\n",
       "<td class=\"fst \">3310</td>\n",
       "<td class=\"subject\">\n",
       "<a href=\"/board_notice/notice_view/1/r\">\n",
       "\t\t\t\t\t\t\t\t\t\t\t\t[공지] 4월 출석체크 ‘프로 출첵러', '생애 첫 출첵이벤트' 당첨자 발표 지연 공지\t\t\t\t\t\t</a>\n",
       "</td>\n",
       "<td>2019.05.13</td>\n",
       "<td>17</td>\n",
       "</tr>\n",
       "<tr>\n",
       "<td class=\"fst \">3309</td>\n",
       "<td class=\"subject\">\n",
       "<a href=\"/board_notice/notice_view/2/r\">\n",
       "\t\t\t\t\t\t\t\t\t\t\t\t[공지] '영화 &lt;악인전&gt; 예매권 0원 이벤트' 당첨자 발표 (딜 번호: 4442806)\t\t\t\t\t\t</a>\n",
       "</td>\n",
       "<td>2019.05.10</td>\n",
       "<td>76</td>\n",
       "</tr>\n",
       "<tr>\n",
       "<td class=\"fst \">3308</td>\n",
       "<td class=\"subject\">\n",
       "<a href=\"/board_notice/notice_view/3/r\">\n",
       "\t\t\t\t\t\t\t\t\t\t\t\t[공지] '해피머니 5,000원권 득템 찬스!' 당첨자 발표 (딜 번호: 4441164)\t\t\t\t\t\t\t</a>\n",
       "</td>\n",
       "<td>2019.05.10</td>\n",
       "<td>199</td>\n",
       "</tr>\n",
       "<tr>\n",
       "<td class=\"fst \">3307</td>\n",
       "<td class=\"subject\">\n",
       "<a href=\"/board_notice/notice_view/4/r\">\n",
       "\t\t\t\t\t\t\t\t\t\t\t\t [공지] W캠퍼스 X 상쾌환 숙취엔 상쾌환 스틱! 0원 체험찬스! 당첨자 공지 (딜번호 : 4442404)\t\t\t\t\t\t</a>\n",
       "</td>\n",
       "<td>2019.05.10</td>\n",
       "<td>367</td>\n",
       "</tr>\n",
       "<tr>\n",
       "<td class=\"fst \">3306</td>\n",
       "<td class=\"subject\">\n",
       "<a href=\"/board_notice/notice_view/5/r\">\n",
       "\t\t\t\t\t\t\t\t\t\t\t\t[공지] '해피머니 5,000원권 득템 찬스!' 당첨자 발표 지연 공지 (딜 번호: 4441164)\t\t\t\t\t\t</a>\n",
       "</td>\n",
       "<td>2019.05.09</td>\n",
       "<td>49</td>\n",
       "</tr>\n",
       "<tr>\n",
       "<td class=\"fst \">3305</td>\n",
       "<td class=\"subject\">\n",
       "<a href=\"/board_notice/notice_view/6/r\">\n",
       "\t\t\t\t\t\t\t\t\t\t\t\t [공지] '동국제약 마데카샴푸 0원 찬스!' 당첨자 발표 (딜 번호: 4436474)\t\t\t\t\t\t</a>\n",
       "</td>\n",
       "<td>2019.05.08</td>\n",
       "<td>148</td>\n",
       "</tr>\n",
       "<tr>\n",
       "<td class=\"fst \">3304</td>\n",
       "<td class=\"subject\">\n",
       "<a href=\"/board_notice/notice_view/7/r\">\n",
       "\t\t\t\t\t\t\t\t\t\t\t\t[공지] '청정원 햇살담은 간장 2종 0원 찬스' 당첨자 발표 (딜 번호: 4427287)\t\t\t\t\t\t</a>\n",
       "</td>\n",
       "<td>2019.05.08</td>\n",
       "<td>107</td>\n",
       "</tr>\n",
       "<tr>\n",
       "<td class=\"fst \">3303</td>\n",
       "<td class=\"subject\">\n",
       "<a href=\"/board_notice/notice_view/8/r\">\n",
       "\t\t\t\t\t\t\t\t\t\t\t\t[공지] 텔레마트 구매이벤트 당첨자 발표 \t\t\t\t\t\t</a>\n",
       "</td>\n",
       "<td>2019.05.08</td>\n",
       "<td>26</td>\n",
       "</tr>\n",
       "<tr>\n",
       "<td class=\"fst \">3302</td>\n",
       "<td class=\"subject\">\n",
       "<a href=\"/board_notice/notice_view/9/r\">\n",
       "\t\t\t\t\t\t\t\t\t\t\t\t[공지] '신세계면세점 최대 15만원 특별 혜택' 당첨자 발표 (딜 번호: 4422734)\t\t\t\t\t\t</a>\n",
       "</td>\n",
       "<td>2019.05.07</td>\n",
       "<td>67</td>\n",
       "</tr>\n",
       "<tr>\n",
       "<td class=\"fst \">3301</td>\n",
       "<td class=\"subject\">\n",
       "<a href=\"/board_notice/notice_view/10/r\">\n",
       "\t\t\t\t\t\t\t\t\t\t\t\t[공지] '영화 &lt;라플라스의 마녀&gt; 예매권 쏜다' 당첨자 발표 (딜 번호: 4436373)\t\t\t\t\t\t</a>\n",
       "</td>\n",
       "<td>2019.05.03</td>\n",
       "<td>232</td>\n",
       "</tr>\n",
       "</tbody>"
      ]
     },
     "execution_count": 205,
     "metadata": {},
     "output_type": "execute_result"
    }
   ],
   "source": [
    "main.find('tbody',{'class':'body'})"
   ]
  },
  {
   "cell_type": "markdown",
   "metadata": {},
   "source": [
    "bs4로 크롤링한 뒤 url만 메인 url과 결합하면 됨"
   ]
  },
  {
   "cell_type": "code",
   "execution_count": null,
   "metadata": {},
   "outputs": [],
   "source": []
  },
  {
   "cell_type": "markdown",
   "metadata": {},
   "source": [
    "# 옥션은 공지사항이 따로 존재X"
   ]
  },
  {
   "cell_type": "markdown",
   "metadata": {},
   "source": [
    "# 티몬 공지사항 크롤링"
   ]
  },
  {
   "cell_type": "markdown",
   "metadata": {},
   "source": [
    "http://help.tmon.co.kr/notice?keyopt=S"
   ]
  },
  {
   "cell_type": "code",
   "execution_count": 206,
   "metadata": {},
   "outputs": [],
   "source": [
    "#위메프와 마찬가지로 BS4로 url을 긁어오면 됨"
   ]
  },
  {
   "cell_type": "markdown",
   "metadata": {},
   "source": [
    "# CJ몰은 공지사항이 따로 존재x"
   ]
  },
  {
   "cell_type": "markdown",
   "metadata": {},
   "source": [
    "# 신세계몰도 공지사항이 따로 존재x"
   ]
  },
  {
   "cell_type": "code",
   "execution_count": null,
   "metadata": {},
   "outputs": [],
   "source": []
  }
 ],
 "metadata": {
  "kernelspec": {
   "display_name": "Python 3",
   "language": "python",
   "name": "python3"
  },
  "language_info": {
   "codemirror_mode": {
    "name": "ipython",
    "version": 3
   },
   "file_extension": ".py",
   "mimetype": "text/x-python",
   "name": "python",
   "nbconvert_exporter": "python",
   "pygments_lexer": "ipython3",
   "version": "3.6.5"
  }
 },
 "nbformat": 4,
 "nbformat_minor": 2
}
