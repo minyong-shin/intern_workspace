{
 "cells": [
  {
   "cell_type": "code",
   "execution_count": 1,
   "metadata": {},
   "outputs": [],
   "source": [
    "import requests # 웹 페이지 소스를 얻기 위한 패키지(기본 내장 패키지이다.)\n",
    "from bs4 import BeautifulSoup # 웹 페이지 소스를 얻기 위한 패키지, 더 간단히 얻을 수 있다는 장점이 있다고 한다.\n",
    "from datetime import datetime                                # (!pip install beautifulsoup4 으로 다운받을 수 있다.)\n",
    "import pandas as pd # 데이터를 처리하기 위한 가장 기본적인 패키지\n",
    "import time # 사이트를 불러올 때, 작업 지연시간을 지정해주기 위한 패키지이다. (사이트가 늦게 켜지면 에러가 발생하기 때문)\n",
    "import urllib.request #\n",
    "from selenium.webdriver import Chrome\n",
    "import json\n",
    "import re     \n",
    "from selenium.webdriver.chrome.options import Options\n",
    "from selenium.webdriver.common.keys import Keys\n",
    "import datetime as dt"
   ]
  },
  {
   "cell_type": "markdown",
   "metadata": {},
   "source": [
    "---\n",
    "# 네이버를 통한 자동화\n",
    "---"
   ]
  },
  {
   "cell_type": "code",
   "execution_count": 3,
   "metadata": {},
   "outputs": [],
   "source": [
    "base_url = 'https://mail.naver.com'\n",
    "browser = Chrome()\n",
    "browser.maximize_window()\n",
    "time.sleep(1.5)\n",
    "browser.get(base_url) #아이디와 비밀번호는 직접 입력해야함"
   ]
  },
  {
   "cell_type": "markdown",
   "metadata": {},
   "source": [
    "# 자동 프로그램을 사용하여 메일을 반복해서 보내게 되면 오류가 매크로 방지 프로그램이 켜짐 따라서 보낼 때 모니터링 해야할 듯"
   ]
  },
  {
   "cell_type": "code",
   "execution_count": null,
   "metadata": {},
   "outputs": [],
   "source": [
    "for i in range(5):\n",
    "    #메일쓰기 클릭\n",
    "    browser.find_elements_by_xpath('//*[@class = \"btn_workset\"]/a[1]/strong')[0].click()\n",
    "    #수신자 이메일\n",
    "    time.sleep(1.5)\n",
    "    browser.find_elements_by_xpath('//*[@class = \"mInput_holder mInput_over\"]/ul/li/div/div[1]/textarea')[0].send_keys('alsdyd95@nate.com')\n",
    "    #메일 제목\n",
    "    browser.find_elements_by_xpath('//*[@class = \"sguide\"]/input')[0].send_keys('안녕하세요')\n",
    "    time.sleep(1.5)\n",
    "    #본문작성을 위한 iframe으로의 변환\n",
    "    browser.switch_to_frame(browser.find_element_by_name('se2_iframe'))\n",
    "    \n",
    "    #본문작성위해서 본문 영역 클릭\n",
    "    browser.find_elements_by_xpath('//*[@class=\"se2_inputarea\"]')[0].click()\n",
    "    #본문작성\n",
    "    browser.find_elements_by_xpath('//*[@class=\"se2_inputarea\"]')[0].send_keys('제이릅은 신민용입니다')\n",
    "    browser.switch_to_default_content() #iframe밖으로 다시 나오는 것\n",
    "    time.sleep(1.5)\n",
    "    #보내기 버튼\n",
    "    browser.find_elements_by_xpath('//*[@id = \"writeBtnMenu\"]/div[1]/button[1]')[0].click()\n",
    "    time.sleep(8)\n",
    "\n",
    "#거의 3개보내면 하나꼴로 자동프로그램 방지가 나옴 \n",
    "#한번 자동프로그램 방지된 것을 입력하면 더 보낼 수 있음"
   ]
  },
  {
   "cell_type": "markdown",
   "metadata": {},
   "source": [
    "---\n",
    "# gmail을 통한 자동화\n",
    "---"
   ]
  },
  {
   "cell_type": "code",
   "execution_count": 79,
   "metadata": {},
   "outputs": [],
   "source": [
    "base_url = 'https://mail.google.com/mail/u/0/?tab=rm#inbox'"
   ]
  },
  {
   "cell_type": "code",
   "execution_count": 80,
   "metadata": {},
   "outputs": [],
   "source": [
    "browser = Chrome()\n",
    "browser.maximize_window()\n",
    "time.sleep(1.5)\n"
   ]
  },
  {
   "cell_type": "code",
   "execution_count": 81,
   "metadata": {},
   "outputs": [],
   "source": [
    "browser.get(base_url) #아이디와 비밀번호는 직접 입력해야함"
   ]
  },
  {
   "cell_type": "code",
   "execution_count": 78,
   "metadata": {},
   "outputs": [],
   "source": [
    "shop_name = ['임블리','난닝구닷컴','삐뽕언니','핫핑','육육걸즈']"
   ]
  },
  {
   "cell_type": "code",
   "execution_count": 89,
   "metadata": {},
   "outputs": [],
   "source": [
    "title_text = '[ZEYO] 사이즈 비교 S/W 솔루션을 제안드립니다.'\n",
    "\n",
    "main_text = '''안녕하세요. 저희는 패션 관련 이슈들을 해결하는 패션 통합 플랫폼을 구축하고자\n",
    "패션 관련 솔루션 사업을 진행하고 있는 패션테크 스타트업 히어로네이션입니다.\n",
    "트렌디한 쇼핑몰 '{}'의 사이즈로 인한 교환/반품 문제를 해결해드리고자,\n",
    "자사에서 진행하는 사이즈 비교 솔루션 서비스 『ZEYO』를 소개해드리려고 합니다.\n",
    "\n",
    "현재 오픈 베타기간 동안 서비스를 무료로 체험해보실 수 있는 이벤트를 진행중입니다!\n",
    "아래 서비스 소개서 링크를 통해 ZEYO가 어떤 서비스인지 확일하실 수 있습니다.\n",
    "'{}'의 긍정적인 답변을 기다리겠습니다.\n",
    "감사합니다\n",
    "\n",
    "서비스 소개서 : https://documentcloud.adobe.com/link/track?uri=urn%3Aaaid%3Ascds%3AUS%3Adf5bc5f8-c8b4-4bb3-a355-3d9d197e3520'''"
   ]
  },
  {
   "cell_type": "code",
   "execution_count": 88,
   "metadata": {},
   "outputs": [],
   "source": [
    "#구글 메일은 네이버와는 다르게 자동 프로그램 규제가 없음 그래도 모니터링은 필요\n",
    "for i in range(len(shop_name)):\n",
    "    #메일 쓰기 클릭\n",
    "    browser.find_elements_by_xpath('//*[@class=\"T-I J-J5-Ji T-I-KE L3\"]')[0].click()\n",
    "    time.sleep(1.5)\n",
    "    #수신자 이메일 입력\n",
    "    browser.find_elements_by_xpath('//textarea[@aria-label = \"받는사람\"]')[0].send_keys('alsdyd95@nate.com')\n",
    "    time.sleep(1.5)\n",
    "    #수신자 이메일 친 뒤 엔터\n",
    "    browser.find_elements_by_xpath('//textarea[@aria-label = \"받는사람\"]')[0].send_keys(Keys.RETURN)\n",
    "    \n",
    "    #제목 영역에 텍스트 삽입\n",
    "    browser.find_elements_by_xpath('//div[@class=\"aoD az6\"]/div/input')[0].send_keys(title_text)\n",
    "    time.sleep(1.5)\n",
    "    \n",
    "    #본문 영역에 텍스트 삽입\n",
    "    browser.find_elements_by_xpath('//div[@aria-label=\"메일 본문\"]')[0].send_keys(main_text.format(shop_name[i],shop_name[i]))\n",
    "    time.sleep(1)\n",
    "    \n",
    "    #메일 발송 클릭\n",
    "    browser.find_elements_by_xpath('//td[@class=\"gU Up\"]/div/div[2]/div[1]')[0].click()\n",
    "    time.sleep(1.5)"
   ]
  },
  {
   "cell_type": "markdown",
   "metadata": {},
   "source": [
    "---\n",
    "# daum 자동 메일 발송\n",
    "---"
   ]
  },
  {
   "cell_type": "code",
   "execution_count": 208,
   "metadata": {},
   "outputs": [],
   "source": [
    "base_url = 'https://mail.daum.net'"
   ]
  },
  {
   "cell_type": "code",
   "execution_count": 209,
   "metadata": {},
   "outputs": [],
   "source": [
    "browser = Chrome()\n",
    "browser.maximize_window()\n",
    "time.sleep(1.5)\n",
    "browser.get(base_url) #아이디와 비밀번호는 직접 입력해야함"
   ]
  },
  {
   "cell_type": "code",
   "execution_count": 271,
   "metadata": {},
   "outputs": [],
   "source": [
    "#자동 프로그램 방지하지 않음\n",
    "#but 종종 모니터링이 필요\n",
    "for i in range(10):\n",
    "    #메일쓰기 클릭\n",
    "    browser.find_elements_by_xpath('//*[@class=\"write_mail\"]/button[1]')[0].click()\n",
    "    time.sleep(1.5)\n",
    "    #받는 사람 입력\n",
    "    browser.find_elements_by_xpath('//*[@class=\"desc_write connectedSortable ui-sortable\"]/div[2]/textarea')[0].send_keys('gyejr95@naver.com')\n",
    "    #받는 사람 입력 - 엔터\n",
    "    browser.find_elements_by_xpath('//*[@class=\"desc_write connectedSortable ui-sortable\"]/div[2]/textarea')[0].send_keys(Keys.RETURN)\n",
    "    \n",
    "    #메일 제목 영역 텍스트 삽입\n",
    "    browser.find_elements_by_xpath('//*[@class=\"desc_subject\"]/div/input')[0].send_keys('test메일입니다')\n",
    "    \n",
    "    time.sleep(1.5)\n",
    "    #본문 영역이 frame안에 들어가 있응므로 해당 영역에 들어가기 \n",
    "    browser.switch_to_frame(browser.find_element_by_name('tx_canvas_wysiwyg'))\n",
    "    \n",
    "    #본문 입력\n",
    "    browser.find_elements_by_xpath('//*[@class=\"tx-content-container\"]')[0].send_keys('테스트 파일입니다테스트 파일입니다테스트 파일입니다테스트 파일입니다테스트 파일입니다테스트 파일입니다')\n",
    "    \n",
    "    time.sleep(1.5)\n",
    "    #frame구조 빠져나오기\n",
    "    browser.switch_to_default_content()\n",
    "    \n",
    "    #메일 발송 클릭\n",
    "    browser.find_elements_by_xpath('//*[@class=\"btn_toolbar btn_write\"]')[0].click()\n",
    "    time.sleep(2)"
   ]
  }
 ],
 "metadata": {
  "kernelspec": {
   "display_name": "Python 3",
   "language": "python",
   "name": "python3"
  },
  "language_info": {
   "codemirror_mode": {
    "name": "ipython",
    "version": 3
   },
   "file_extension": ".py",
   "mimetype": "text/x-python",
   "name": "python",
   "nbconvert_exporter": "python",
   "pygments_lexer": "ipython3",
   "version": "3.6.5"
  }
 },
 "nbformat": 4,
 "nbformat_minor": 2
}
