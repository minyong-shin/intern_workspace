{
 "cells": [
  {
   "cell_type": "code",
   "execution_count": 2,
   "metadata": {},
   "outputs": [],
   "source": [
    "import requests # 웹 페이지 소스를 얻기 위한 패키지(기본 내장 패키지이다.)\n",
    "from bs4 import BeautifulSoup # 웹 페이지 소스를 얻기 위한 패키지, 더 간단히 얻을 수 있다는 장점이 있다고 한다.\n",
    "from datetime import datetime                                # (!pip install beautifulsoup4 으로 다운받을 수 있다.)\n",
    "import pandas as pd # 데이터를 처리하기 위한 가장 기본적인 패키지\n",
    "import time # 사이트를 불러올 때, 작업 지연시간을 지정해주기 위한 패키지이다. (사이트가 늦게 켜지면 에러가 발생하기 때문)\n",
    "import urllib.request #\n",
    "from selenium.webdriver import Chrome "
   ]
  },
  {
   "cell_type": "code",
   "execution_count": 3,
   "metadata": {},
   "outputs": [],
   "source": [
    "data = pd.DataFrame({\"date\" : [],\n",
    "                    \"image\" : [],\n",
    "                    \"name\" : [],\n",
    "                    \"price\" : [],\n",
    "                    \"link\" : []})"
   ]
  },
  {
   "cell_type": "code",
   "execution_count": 1,
   "metadata": {},
   "outputs": [],
   "source": [
    "base_url = \"https://www.indibrand.co.kr\""
   ]
  },
  {
   "cell_type": "code",
   "execution_count": 4,
   "metadata": {},
   "outputs": [],
   "source": [
    "req = requests.get(base_url)\n",
    "if req == 200 :\n",
    "    soup = BeautifulSoup(req.content, 'html.parser')\n",
    "else :\n",
    "    req = requests.get(base_url, headers = {'user-agent': ('Mozilla/5.0 (Windows NT 10.0; Win64; x64) AppleWebKit/537.36 (KHTML, like Gecko)'\n",
    "                                                                            'Chrome/71.0.3578.98 Safari/537.36')})\n",
    "    soup = BeautifulSoup(req.content, 'html.parser')"
   ]
  },
  {
   "cell_type": "code",
   "execution_count": 5,
   "metadata": {},
   "outputs": [],
   "source": [
    "category_list1 = soup.find('ul',{'class':'flleft'})\n",
    "#getcategory가 class와 붙어있는 것처럼 보이지만 중간에 공백으로 띄어쓰기가 되어있기 때문에\n",
    "#class를 class로 사용한다"
   ]
  },
  {
   "cell_type": "code",
   "execution_count": 17,
   "metadata": {},
   "outputs": [],
   "source": [
    "category_list2 = soup.find('ul',{'class':'full_sub_cate'})"
   ]
  },
  {
   "cell_type": "code",
   "execution_count": 20,
   "metadata": {},
   "outputs": [],
   "source": [
    "category_list3 = category_list2.find_all('a',{'class':'view'})"
   ]
  },
  {
   "cell_type": "code",
   "execution_count": 28,
   "metadata": {},
   "outputs": [
    {
     "data": {
      "text/plain": [
       "'TOP'"
      ]
     },
     "execution_count": 28,
     "metadata": {},
     "output_type": "execute_result"
    }
   ],
   "source": [
    "category_list3[0].text"
   ]
  },
  {
   "cell_type": "code",
   "execution_count": 32,
   "metadata": {},
   "outputs": [],
   "source": [
    "category_list_url = []\n",
    "category_list_name = []\n",
    "for i in range(len(category_list3)):\n",
    "    cate = base_url+category_list3[i]['href']\n",
    "    cate2 = category_list3[i].text\n",
    "    category_list_url.append(cate)\n",
    "    category_list_name.append(cate2)"
   ]
  },
  {
   "cell_type": "code",
   "execution_count": 34,
   "metadata": {},
   "outputs": [],
   "source": [
    "category_list_url = category_list_url[0:4] "
   ]
  },
  {
   "cell_type": "code",
   "execution_count": 35,
   "metadata": {},
   "outputs": [],
   "source": [
    "start_url = category_list_url[0]\n",
    "page_url = category_list_url[0] + '&page=' + '{}'"
   ]
  },
  {
   "cell_type": "code",
   "execution_count": 39,
   "metadata": {},
   "outputs": [],
   "source": [
    "for page in range(1,12):\n",
    "    req4 = requests.get(page_url.format(str(page)))\n",
    "    \n",
    "    if req4 == 200 :\n",
    "        soup4 = BeautifulSoup(req4.content, 'html.parser')\n",
    "    else :\n",
    "        req4 = requests.get(page_url.format(str(page)), headers = {'user-agent': ('Mozilla/5.0 (Windows NT 10.0; Win64; x64) AppleWebKit/537.36 (KHTML, like Gecko)'\n",
    "                                                                            'Chrome/71.0.3578.98 Safari/537.36')})\n",
    "        soup4 = BeautifulSoup(req4.content, 'html.parser')\n",
    "    product0 = soup4.find('ul',{'class':'prdList grid4'})\n",
    "    product1 = product0.find_all('li',{'class':'xans-record-'})\n",
    "    "
   ]
  },
  {
   "cell_type": "code",
   "execution_count": 79,
   "metadata": {},
   "outputs": [],
   "source": [
    "for i in range(len(product1)):\n",
    "    name = product1[i].find('div',{'class':'name2'}).find('span').text\n",
    "    \n",
    "    link = base_url+product1[i].find('div',{'class':'name2'}).find('a')['href']\n",
    "    \n",
    "    req5 = requests.get(link)\n",
    "    if req5 == 200 :\n",
    "        soup5 = BeautifulSoup(req5.content, 'html.parser')\n",
    "    else :\n",
    "        req5 = requests.get(link, headers = {'user-agent': ('Mozilla/5.0 (Windows NT 10.0; Win64; x64) AppleWebKit/537.36 (KHTML, like Gecko)'\n",
    "                                                                                'Chrome/71.0.3578.98 Safari/537.36')})\n",
    "        soup5 = BeautifulSoup(req5.content, 'html.parser')\n",
    "    \n",
    "    price = soup5.find('span',{'class':'sale_price'}).text\n",
    "    \n",
    "    img = soup5.find('div',{'class':'thumbnail'}).find('img')['src']"
   ]
  },
  {
   "cell_type": "code",
   "execution_count": 80,
   "metadata": {},
   "outputs": [
    {
     "data": {
      "text/plain": [
       "'//www.indibrand.co.kr/web/product/medium/201704/6651_shop1_653070.jpg'"
      ]
     },
     "execution_count": 80,
     "metadata": {},
     "output_type": "execute_result"
    }
   ],
   "source": [
    "img"
   ]
  },
  {
   "cell_type": "code",
   "execution_count": null,
   "metadata": {},
   "outputs": [],
   "source": []
  },
  {
   "cell_type": "code",
   "execution_count": null,
   "metadata": {},
   "outputs": [],
   "source": []
  },
  {
   "cell_type": "code",
   "execution_count": null,
   "metadata": {},
   "outputs": [],
   "source": []
  },
  {
   "cell_type": "code",
   "execution_count": null,
   "metadata": {},
   "outputs": [],
   "source": []
  },
  {
   "cell_type": "code",
   "execution_count": null,
   "metadata": {},
   "outputs": [],
   "source": []
  },
  {
   "cell_type": "code",
   "execution_count": null,
   "metadata": {},
   "outputs": [],
   "source": []
  },
  {
   "cell_type": "code",
   "execution_count": null,
   "metadata": {},
   "outputs": [],
   "source": []
  },
  {
   "cell_type": "code",
   "execution_count": null,
   "metadata": {},
   "outputs": [],
   "source": []
  },
  {
   "cell_type": "code",
   "execution_count": null,
   "metadata": {},
   "outputs": [],
   "source": []
  },
  {
   "cell_type": "code",
   "execution_count": null,
   "metadata": {},
   "outputs": [],
   "source": []
  },
  {
   "cell_type": "code",
   "execution_count": null,
   "metadata": {},
   "outputs": [],
   "source": []
  }
 ],
 "metadata": {
  "kernelspec": {
   "display_name": "Python 3",
   "language": "python",
   "name": "python3"
  },
  "language_info": {
   "codemirror_mode": {
    "name": "ipython",
    "version": 3
   },
   "file_extension": ".py",
   "mimetype": "text/x-python",
   "name": "python",
   "nbconvert_exporter": "python",
   "pygments_lexer": "ipython3",
   "version": "3.6.5"
  }
 },
 "nbformat": 4,
 "nbformat_minor": 2
}
