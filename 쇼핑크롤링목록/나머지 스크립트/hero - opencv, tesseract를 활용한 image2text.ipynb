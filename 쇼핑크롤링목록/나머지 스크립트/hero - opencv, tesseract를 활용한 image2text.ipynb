{
 "cells": [
  {
   "cell_type": "code",
   "execution_count": 1,
   "metadata": {},
   "outputs": [],
   "source": [
    "from PIL import Image\n",
    "from pytesseract import *\n"
   ]
  },
  {
   "cell_type": "code",
   "execution_count": 2,
   "metadata": {},
   "outputs": [],
   "source": [
    "import re\n",
    "import os \n",
    "import sys\n",
    "import requests\n",
    "from bs4 import BeautifulSoup\n",
    "import pandas as pd                      # 가장 기초적인 데이터전처리 패키지\n",
    "import re                                # 정규표현식을 사용할 수 있는 패키지\n",
    "from datetime import datetime  \n",
    "import urllib.request"
   ]
  },
  {
   "cell_type": "code",
   "execution_count": 2,
   "metadata": {
    "scrolled": true
   },
   "outputs": [],
   "source": [
    "def OCR(imgfile,lang='kor'):\n",
    "    im = Image.open(imgfile)\n",
    "    text = image_to_string(im,lang=lang)\n",
    "    \n",
    "    print('+++ OCR Result +++')\n",
    "    print(text)\n",
    "    "
   ]
  },
  {
   "cell_type": "markdown",
   "metadata": {},
   "source": [
    "**한글인코딩이 잘 되지 않는 오류가 있음**"
   ]
  },
  {
   "cell_type": "markdown",
   "metadata": {},
   "source": [
    "**참고자료**\n",
    "https://www.pyimagesearch.com/2018/09/17/opencv-ocr-and-text-recognition-with-tesseract/\n",
    "\n",
    "https://wxmin.tistory.com/121\n",
    "\n",
    "https://m.blog.naver.com/samsjang/220694855018\n",
    "\n",
    "https://niceman.tistory.com/157?category=1009824\n",
    "\n",
    "https://hwangyoungjae.tistory.com/80 - 정규표현식"
   ]
  },
  {
   "cell_type": "code",
   "execution_count": 3,
   "metadata": {
    "scrolled": true
   },
   "outputs": [
    {
     "name": "stdout",
     "output_type": "stream",
     "text": [
      "+++ OCR Result +++\n",
      "5126          (0)           (08)            (0            10)           (3)           0)           (6)           00)\n",
      "\n",
      " \n",
      "\n",
      " \n",
      "\n",
      "(단면07) 총길이 어깨 가슴 허리 힙 밑단 ： 암홀 소매길이\n",
      "5559)         105           38            43            37             -             46            22           58\n",
      "6600)       106          39         45.5        39.5          ~          48.5         23          59\n",
      "\n",
      " \n",
      "\n",
      "(패드-1)(목깊이-23)\n",
      "\n",
      " \n",
      "\n",
      " \n",
      "\n",
      " \n",
      "\n",
      "두께감 디두꺼움        버보동               앞음\n",
      "비점 ㅁ비침있음 ㄴ비침약간 버비짐없음\n",
      "안감 버기본안감 다부분안감 다기모안감 ㅁ누빔안감 ㄷㅁ안감없음\n",
      "\n",
      " \n",
      "\n",
      " \n",
      "\n",
      "세탁방법     고. 드라이 디단독손세탁\n",
      "\n",
      " \n",
      "\n",
      "컬러 : 블랙,핑크            제조사 : (주)엠제이앤엠/다바걸\n",
      "\n",
      "사이즈: 55(5),6600/)            제조국 : 한국\n",
      "\n",
      "모델사이즈: 55(5)               제조일 : 2019년 02월 이후\n",
      "\n",
      "무게: 0.889                   품질보증기간: 전자상거래 소비자 보호법에 규정되어 있는\n",
      "\n",
      "소비자 청약철회 가능범위를 준수합니다.\n",
      "소재 : 아크릴70% 폴리에스터30%\n",
      "\n",
      " \n",
      "\n",
      "- 위의 실측사이즈는 '단면의 길이'입니다.\n",
      "- 사이즈는 측정방법에 따라 1~30/7 정도 오차가 있을 수 있습니다.\n",
      "-제품색상은 사용자의 모니터의해상도에 따라 실제 색상과 다소 차이가 있을수 있습니다.\n",
      "- 정해진 세탁법과 다르게 세탁하여 발생하는 불량의 경우 교환/환불/수선이 모두 불가능합니다.\n",
      "- 제품컷의 색상이 실제 제품 색상과 가장 비슷합니다.\n",
      "- 니트, 린년, 기타 신축성이 좋은 원단은 사이즈 오차범위가 클 수 있습니다.\n",
      "「 소재 특 특성상 착용시 마찰로 인해 보풀ㅇ0  |날 날수 수 있습니다.\n",
      "이는 불량이 아니니 주문시 소재 참고해주세요.\n",
      "- 개인의 체형에 따라 길이나 핏은 차이가 있을 수 있으니 꼭 사이즈표를 참고해주세요.\n"
     ]
    }
   ],
   "source": [
    "OCR('DRESS[핫딜]애플트위드원피스size0.jpg',lang='kor')"
   ]
  },
  {
   "cell_type": "code",
   "execution_count": 19,
   "metadata": {},
   "outputs": [
    {
     "ename": "ModuleNotFoundError",
     "evalue": "No module named 'cv2'",
     "output_type": "error",
     "traceback": [
      "\u001b[1;31m---------------------------------------------------------------------------\u001b[0m",
      "\u001b[1;31mModuleNotFoundError\u001b[0m                       Traceback (most recent call last)",
      "\u001b[1;32m<ipython-input-19-c8ec22b3e787>\u001b[0m in \u001b[0;36m<module>\u001b[1;34m()\u001b[0m\n\u001b[1;32m----> 1\u001b[1;33m \u001b[1;32mimport\u001b[0m \u001b[0mcv2\u001b[0m\u001b[1;33m\u001b[0m\u001b[0m\n\u001b[0m",
      "\u001b[1;31mModuleNotFoundError\u001b[0m: No module named 'cv2'"
     ]
    }
   ],
   "source": [
    "import cv2"
   ]
  },
  {
   "cell_type": "code",
   "execution_count": null,
   "metadata": {},
   "outputs": [],
   "source": [
    "import cv2 \n",
    "import PIL \n",
    "import pytesseract \n",
    "img_path = 'test.png' img = cv2.imread(img_path,cv2.IMREAD_COLOR) img2 = cv2.cvtColor(img, cv2.COLOR_BGR2GRAY)\n",
    "\n",
    "#정교한 추출 위해서"
   ]
  },
  {
   "cell_type": "code",
   "execution_count": 4,
   "metadata": {},
   "outputs": [],
   "source": [
    "img = Image.open('DRESS[핫딜]애플트위드원피스size0.jpg')"
   ]
  },
  {
   "cell_type": "code",
   "execution_count": 58,
   "metadata": {},
   "outputs": [],
   "source": [
    "text = pytesseract.image_to_string(img,lang='kor')"
   ]
  },
  {
   "cell_type": "code",
   "execution_count": 36,
   "metadata": {},
   "outputs": [
    {
     "data": {
      "text/plain": [
       "\"5126          (0)           (08)            (0            10)           (3)           0)           (6)           00)\\n\\n \\n\\n \\n\\n(단면07) 총길이 어깨 가슴 허리 힙 밑단 ： 암홀 소매길이\\n5559)         105           38            43            37             -             46            22           58\\n6600)       106          39         45.5        39.5          ~          48.5         23          59\\n\\n \\n\\n(패드-1)(목깊이-23)\\n\\n \\n\\n \\n\\n \\n\\n두께감 디두꺼움        버보동               앞음\\n비점 ㅁ비침있음 ㄴ비침약간 버비짐없음\\n안감 버기본안감 다부분안감 다기모안감 ㅁ누빔안감 ㄷㅁ안감없음\\n\\n \\n\\n \\n\\n세탁방법     고. 드라이 디단독손세탁\\n\\n \\n\\n컬러 : 블랙,핑크            제조사 : (주)엠제이앤엠/다바걸\\n\\n사이즈: 55(5),6600/)            제조국 : 한국\\n\\n모델사이즈: 55(5)               제조일 : 2019년 02월 이후\\n\\n무게: 0.889                   품질보증기간: 전자상거래 소비자 보호법에 규정되어 있는\\n\\n소비자 청약철회 가능범위를 준수합니다.\\n소재 : 아크릴70% 폴리에스터30%\\n\\n \\n\\n- 위의 실측사이즈는 '단면의 길이'입니다.\\n- 사이즈는 측정방법에 따라 1~30/7 정도 오차가 있을 수 있습니다.\\n-제품색상은 사용자의 모니터의해상도에 따라 실제 색상과 다소 차이가 있을수 있습니다.\\n- 정해진 세탁법과 다르게 세탁하여 발생하는 불량의 경우 교환/환불/수선이 모두 불가능합니다.\\n- 제품컷의 색상이 실제 제품 색상과 가장 비슷합니다.\\n- 니트, 린년, 기타 신축성이 좋은 원단은 사이즈 오차범위가 클 수 있습니다.\\n「 소재 특 특성상 착용시 마찰로 인해 보풀ㅇ0  |날 날수 수 있습니다.\\n이는 불량이 아니니 주문시 소재 참고해주세요.\\n- 개인의 체형에 따라 길이나 핏은 차이가 있을 수 있으니 꼭 사이즈표를 참고해주세요.\""
      ]
     },
     "execution_count": 36,
     "metadata": {},
     "output_type": "execute_result"
    }
   ],
   "source": [
    "text"
   ]
  },
  {
   "cell_type": "code",
   "execution_count": 31,
   "metadata": {
    "scrolled": true
   },
   "outputs": [
    {
     "name": "stdout",
     "output_type": "stream",
     "text": [
      "5126          (0)           (08)            (0            10)           (3)           0)           (6)           00)\n",
      "\n",
      " \n",
      "\n",
      " \n",
      "\n",
      "(단면07) 총길이 어깨 가슴 허리 힙 밑단 ： 암홀 소매길이\n",
      "5559)         105           38            43            37             -             46            22           58\n",
      "6600)       106          39         45.5        39.5          ~          48.5         23          59\n",
      "\n",
      " \n",
      "\n",
      "(패드-1)(목깊이-23)\n",
      "\n",
      " \n",
      "\n",
      " \n",
      "\n",
      " \n",
      "\n",
      "두께감 디두꺼움        버보동               앞음\n",
      "비점 ㅁ비침있음 ㄴ비침약간 버비짐없음\n",
      "안감 버기본안감 다부분안감 다기모안감 ㅁ누빔안감 ㄷㅁ안감없음\n",
      "\n",
      " \n",
      "\n",
      " \n",
      "\n",
      "세탁방법     고. 드라이 디단독손세탁\n",
      "\n",
      " \n",
      "\n",
      "컬러 : 블랙,핑크            제조사 : (주)엠제이앤엠/다바걸\n",
      "\n",
      "사이즈: 55(5),6600/)            제조국 : 한국\n",
      "\n",
      "모델사이즈: 55(5)               제조일 : 2019년 02월 이후\n",
      "\n",
      "무게: 0.889                   품질보증기간: 전자상거래 소비자 보호법에 규정되어 있는\n",
      "\n",
      "소비자 청약철회 가능범위를 준수합니다.\n",
      "소재 : 아크릴70% 폴리에스터30%\n",
      "\n",
      " \n",
      "\n",
      "- 위의 실측사이즈는 '단면의 길이'입니다.\n",
      "- 사이즈는 측정방법에 따라 1~30/7 정도 오차가 있을 수 있습니다.\n",
      "-제품색상은 사용자의 모니터의해상도에 따라 실제 색상과 다소 차이가 있을수 있습니다.\n",
      "- 정해진 세탁법과 다르게 세탁하여 발생하는 불량의 경우 교환/환불/수선이 모두 불가능합니다.\n",
      "- 제품컷의 색상이 실제 제품 색상과 가장 비슷합니다.\n",
      "- 니트, 린년, 기타 신축성이 좋은 원단은 사이즈 오차범위가 클 수 있습니다.\n",
      "「 소재 특 특성상 착용시 마찰로 인해 보풀ㅇ0  |날 날수 수 있습니다.\n",
      "이는 불량이 아니니 주문시 소재 참고해주세요.\n",
      "- 개인의 체형에 따라 길이나 핏은 차이가 있을 수 있으니 꼭 사이즈표를 참고해주세요.\n"
     ]
    },
    {
     "ename": "TypeError",
     "evalue": "'NoneType' object is not subscriptable",
     "output_type": "error",
     "traceback": [
      "\u001b[1;31m---------------------------------------------------------------------------\u001b[0m",
      "\u001b[1;31mTypeError\u001b[0m                                 Traceback (most recent call last)",
      "\u001b[1;32m<ipython-input-31-25117ffbe744>\u001b[0m in \u001b[0;36m<module>\u001b[1;34m()\u001b[0m\n\u001b[1;32m----> 1\u001b[1;33m \u001b[0mprint\u001b[0m\u001b[1;33m(\u001b[0m\u001b[0mtext\u001b[0m\u001b[1;33m)\u001b[0m\u001b[1;33m[\u001b[0m\u001b[1;36m1\u001b[0m\u001b[1;33m,\u001b[0m\u001b[1;36m1\u001b[0m\u001b[1;33m,\u001b[0m\u001b[1;36m3\u001b[0m\u001b[1;33m]\u001b[0m\u001b[1;33m\u001b[0m\u001b[0m\n\u001b[0m",
      "\u001b[1;31mTypeError\u001b[0m: 'NoneType' object is not subscriptable"
     ]
    }
   ],
   "source": [
    "print(text)"
   ]
  },
  {
   "cell_type": "code",
   "execution_count": 59,
   "metadata": {
    "scrolled": true
   },
   "outputs": [
    {
     "data": {
      "text/plain": [
       "['5126          (0)           (08)            (0            10)           (3)           0)           (6)           00)',\n",
       " '',\n",
       " ' ',\n",
       " '',\n",
       " ' ',\n",
       " '',\n",
       " '(단면07) 총길이 어깨 가슴 허리 힙 밑단 ： 암홀 소매길이',\n",
       " '5559)         105           38            43            37             -             46            22           58',\n",
       " '6600)       106          39         45.5        39.5          ~          48.5         23          59',\n",
       " '',\n",
       " ' ',\n",
       " '',\n",
       " '(패드-1)(목깊이-23)',\n",
       " '',\n",
       " ' ',\n",
       " '',\n",
       " ' ',\n",
       " '',\n",
       " ' ',\n",
       " '',\n",
       " '두께감 디두꺼움        버보동               앞음',\n",
       " '비점 ㅁ비침있음 ㄴ비침약간 버비짐없음',\n",
       " '안감 버기본안감 다부분안감 다기모안감 ㅁ누빔안감 ㄷㅁ안감없음',\n",
       " '',\n",
       " ' ',\n",
       " '',\n",
       " ' ',\n",
       " '',\n",
       " '세탁방법     고. 드라이 디단독손세탁',\n",
       " '',\n",
       " ' ',\n",
       " '',\n",
       " '컬러 : 블랙,핑크            제조사 : (주)엠제이앤엠/다바걸',\n",
       " '',\n",
       " '사이즈: 55(5),6600/)            제조국 : 한국',\n",
       " '',\n",
       " '모델사이즈: 55(5)               제조일 : 2019년 02월 이후',\n",
       " '',\n",
       " '무게: 0.889                   품질보증기간: 전자상거래 소비자 보호법에 규정되어 있는',\n",
       " '',\n",
       " '소비자 청약철회 가능범위를 준수합니다.',\n",
       " '소재 : 아크릴70% 폴리에스터30%',\n",
       " '',\n",
       " ' ',\n",
       " '',\n",
       " \"- 위의 실측사이즈는 '단면의 길이'입니다.\",\n",
       " '- 사이즈는 측정방법에 따라 1~30/7 정도 오차가 있을 수 있습니다.',\n",
       " '-제품색상은 사용자의 모니터의해상도에 따라 실제 색상과 다소 차이가 있을수 있습니다.',\n",
       " '- 정해진 세탁법과 다르게 세탁하여 발생하는 불량의 경우 교환/환불/수선이 모두 불가능합니다.',\n",
       " '- 제품컷의 색상이 실제 제품 색상과 가장 비슷합니다.',\n",
       " '- 니트, 린년, 기타 신축성이 좋은 원단은 사이즈 오차범위가 클 수 있습니다.',\n",
       " '「 소재 특 특성상 착용시 마찰로 인해 보풀ㅇ0  |날 날수 수 있습니다.',\n",
       " '이는 불량이 아니니 주문시 소재 참고해주세요.',\n",
       " '- 개인의 체형에 따라 길이나 핏은 차이가 있을 수 있으니 꼭 사이즈표를 참고해주세요.']"
      ]
     },
     "execution_count": 59,
     "metadata": {},
     "output_type": "execute_result"
    }
   ],
   "source": [
    "re.split('\\n',text)"
   ]
  },
  {
   "cell_type": "code",
   "execution_count": 37,
   "metadata": {},
   "outputs": [],
   "source": [
    "file = open('text.txt','w')"
   ]
  },
  {
   "cell_type": "code",
   "execution_count": 38,
   "metadata": {},
   "outputs": [
    {
     "data": {
      "text/plain": [
       "1124"
      ]
     },
     "execution_count": 38,
     "metadata": {},
     "output_type": "execute_result"
    }
   ],
   "source": [
    "file.write(text)"
   ]
  },
  {
   "cell_type": "code",
   "execution_count": 39,
   "metadata": {},
   "outputs": [],
   "source": [
    "file.close()"
   ]
  },
  {
   "cell_type": "code",
   "execution_count": null,
   "metadata": {},
   "outputs": [],
   "source": []
  },
  {
   "cell_type": "code",
   "execution_count": 92,
   "metadata": {},
   "outputs": [],
   "source": [
    "img = Image.open('DRESS[핫딜]플레어져원피스size2.jpg')"
   ]
  },
  {
   "cell_type": "code",
   "execution_count": 93,
   "metadata": {},
   "outputs": [],
   "source": [
    "text2 = pytesseract.image_to_string(img,lang='kor')"
   ]
  },
  {
   "cell_type": "code",
   "execution_count": 43,
   "metadata": {},
   "outputs": [],
   "source": [
    "import re"
   ]
  },
  {
   "cell_type": "code",
   "execution_count": 104,
   "metadata": {},
   "outputs": [
    {
     "data": {
      "text/plain": [
       "6"
      ]
     },
     "execution_count": 104,
     "metadata": {},
     "output_type": "execute_result"
    }
   ],
   "source": [
    "re.split('\\n',text).index(re.findall('.*단면.*',test[6])[0])"
   ]
  },
  {
   "cell_type": "code",
   "execution_count": 114,
   "metadata": {},
   "outputs": [],
   "source": [
    "test = re.split('\\n',text2)"
   ]
  },
  {
   "cell_type": "code",
   "execution_count": 126,
   "metadata": {},
   "outputs": [
    {
     "data": {
      "text/plain": [
       "'단면07'"
      ]
     },
     "execution_count": 126,
     "metadata": {},
     "output_type": "execute_result"
    }
   ],
   "source": [
    "re.findall('.*단면07.*',test[18])[0]"
   ]
  },
  {
   "cell_type": "code",
   "execution_count": 121,
   "metadata": {},
   "outputs": [
    {
     "data": {
      "text/plain": [
       "1"
      ]
     },
     "execution_count": 121,
     "metadata": {},
     "output_type": "execute_result"
    }
   ],
   "source": [
    "len(re.findall('.*단면.*',test[18]))"
   ]
  },
  {
   "cell_type": "code",
   "execution_count": 179,
   "metadata": {},
   "outputs": [],
   "source": [
    "for i in range(len(test)):\n",
    "    if len(re.findall('.*단면0.*',test[i]))>=1:\n",
    "        x = re.findall('.*단면0.*',test[i])[0]\n",
    "    else:\n",
    "        pass\n",
    "    y= test.index(x)\n",
    "    z=test[y:y+3]\n",
    "    "
   ]
  },
  {
   "cell_type": "code",
   "execution_count": 180,
   "metadata": {},
   "outputs": [
    {
     "data": {
      "text/plain": [
       "'(단면07) 총길이 어깨 가슴 허리 힙 밑단 ： 암홀 소매길이'"
      ]
     },
     "execution_count": 180,
     "metadata": {},
     "output_type": "execute_result"
    }
   ],
   "source": [
    "x"
   ]
  },
  {
   "cell_type": "code",
   "execution_count": 157,
   "metadata": {},
   "outputs": [
    {
     "data": {
      "text/plain": [
       "18"
      ]
     },
     "execution_count": 157,
     "metadata": {},
     "output_type": "execute_result"
    }
   ],
   "source": [
    "test.index(x)"
   ]
  },
  {
   "cell_type": "code",
   "execution_count": 158,
   "metadata": {},
   "outputs": [
    {
     "data": {
      "text/plain": [
       "['(단면07) 총길이 어깨 가슴 허리 힙 밑단 ： 암홀 소매길이',\n",
       " '55(5)       99         35         40         31          -           -          21        30.5',\n",
       " '6600)      100        36        42.5       33.5         ~           ~          22        31.5']"
      ]
     },
     "execution_count": 158,
     "metadata": {},
     "output_type": "execute_result"
    }
   ],
   "source": [
    "z"
   ]
  },
  {
   "cell_type": "code",
   "execution_count": 149,
   "metadata": {},
   "outputs": [],
   "source": [
    "img3 = Image.open('DRESS오스카롱원피스size8.jpg')\n",
    "text3 = pytesseract.image_to_string(img3,lang='kor')"
   ]
  },
  {
   "cell_type": "code",
   "execution_count": 159,
   "metadata": {},
   "outputs": [],
   "source": [
    "test3 = re.split('\\n',text3)"
   ]
  },
  {
   "cell_type": "code",
   "execution_count": 172,
   "metadata": {},
   "outputs": [],
   "source": [
    "for i in range(len(test3)):\n",
    "    if len(re.findall('.*단면0.*',test3[i]))>=1:\n",
    "        x2 = re.findall('.*단면0.*',test3[i])[0]\n",
    "    else:\n",
    "        pass\n",
    "    y2= test3.index(x2)\n",
    "    z2=test3[y2:y2+3] \n",
    "    "
   ]
  },
  {
   "cell_type": "code",
   "execution_count": 168,
   "metadata": {},
   "outputs": [
    {
     "data": {
      "text/plain": [
       "6"
      ]
     },
     "execution_count": 168,
     "metadata": {},
     "output_type": "execute_result"
    }
   ],
   "source": [
    "y2"
   ]
  },
  {
   "cell_type": "code",
   "execution_count": 165,
   "metadata": {},
   "outputs": [
    {
     "data": {
      "text/plain": [
       "6"
      ]
     },
     "execution_count": 165,
     "metadata": {},
     "output_type": "execute_result"
    }
   ],
   "source": [
    "test3.index(x2)"
   ]
  },
  {
   "cell_type": "code",
   "execution_count": 173,
   "metadata": {},
   "outputs": [
    {
     "data": {
      "text/plain": [
       "['(단면00) 총길이 어깨     가슴    허리     힙     밑단    암홀 소매길이',\n",
       " '이 126 41      서      33 38 97      19 58',\n",
       " '(벨트기장-150)                                                                        (소매둘레-11)']"
      ]
     },
     "execution_count": 173,
     "metadata": {},
     "output_type": "execute_result"
    }
   ],
   "source": [
    "z2"
   ]
  },
  {
   "cell_type": "code",
   "execution_count": 174,
   "metadata": {},
   "outputs": [],
   "source": [
    "img4 = Image.open('DRESS세상단아한원피스size9.jpg')\n",
    "text4 = pytesseract.image_to_string(img4,lang='kor')"
   ]
  },
  {
   "cell_type": "code",
   "execution_count": 175,
   "metadata": {},
   "outputs": [],
   "source": [
    "test4 = re.split('\\n',text4)"
   ]
  },
  {
   "cell_type": "code",
   "execution_count": 185,
   "metadata": {},
   "outputs": [],
   "source": [
    "for i in range(len(test4)):\n",
    "    if len(re.findall('.*총길이.*',test4[i]))>=1:\n",
    "        x3 = re.findall('.*단면0.*',test4[i])[0]\n",
    "    else:\n",
    "        pass\n",
    "    \n",
    "    y3= test4.index(x3)\n",
    "    z3=test4[y3:y3+3]\n",
    "   \n",
    "    "
   ]
  },
  {
   "cell_type": "code",
   "execution_count": 184,
   "metadata": {},
   "outputs": [
    {
     "data": {
      "text/plain": [
       "['(단면07) 총길이 어깨 가슴 허리 힙 밑단 암홀 소매길이',\n",
       " '55(5)         97            38           41.5           33            42           34.5          21          44.5',\n",
       " '6600)     98       40       44      35.5     44.5      37       22       47']"
      ]
     },
     "execution_count": 184,
     "metadata": {},
     "output_type": "execute_result"
    }
   ],
   "source": [
    "z3"
   ]
  },
  {
   "cell_type": "code",
   "execution_count": 186,
   "metadata": {},
   "outputs": [],
   "source": [
    "img5 = Image.open('DRESS봄을부르는원피스size4.jpg')\n",
    "text5 = pytesseract.image_to_string(img5,lang='kor')\n",
    "test5 = re.split('\\n',text5)"
   ]
  },
  {
   "cell_type": "code",
   "execution_count": 205,
   "metadata": {},
   "outputs": [],
   "source": [
    "for i in range(len(test5)):\n",
    "    if len(re.findall('.*총길이.*어깨.*',test5[i]))>=1:\n",
    "        x4 = test5[i]\n",
    "    else:\n",
    "        pass\n",
    "    #사이에 무슨 문제 있나?\n",
    "y4= test5.index(x4)\n",
    "z4=test5[y4:y4+3]\n",
    "   "
   ]
  },
  {
   "cell_type": "code",
   "execution_count": 206,
   "metadata": {},
   "outputs": [
    {
     "data": {
      "text/plain": [
       "'(단면00) 총길이 어깨 가슴 허리 힙 밑단 . 암홀 소매길이'"
      ]
     },
     "execution_count": 206,
     "metadata": {},
     "output_type": "execute_result"
    }
   ],
   "source": [
    "x4"
   ]
  },
  {
   "cell_type": "code",
   "execution_count": 203,
   "metadata": {},
   "outputs": [
    {
     "data": {
      "text/plain": [
       "['(단면00) 총길이 어깨 가슴 허리 힙 밑단 . 암홀 소매길이',\n",
       " '(44- 때 66)   82           32           36           31            34           47           21            66',\n",
       " '(안감-45)                                                                             (소매부리-14)']"
      ]
     },
     "execution_count": 203,
     "metadata": {},
     "output_type": "execute_result"
    }
   ],
   "source": [
    "z4"
   ]
  },
  {
   "cell_type": "code",
   "execution_count": 191,
   "metadata": {},
   "outputs": [
    {
     "data": {
      "text/plain": [
       "12"
      ]
     },
     "execution_count": 191,
     "metadata": {},
     "output_type": "execute_result"
    }
   ],
   "source": [
    "y4"
   ]
  },
  {
   "cell_type": "code",
   "execution_count": 192,
   "metadata": {},
   "outputs": [
    {
     "data": {
      "text/plain": [
       "'(단면00) 총길이 어깨 가슴 허리 힙 밑단 . 암홀 소매길이'"
      ]
     },
     "execution_count": 192,
     "metadata": {},
     "output_type": "execute_result"
    }
   ],
   "source": [
    "test5[12]"
   ]
  },
  {
   "cell_type": "code",
   "execution_count": 196,
   "metadata": {},
   "outputs": [],
   "source": [
    "img6 = Image.open('DRESS릿서스펜더원피스size5.jpg')\n",
    "text6 = pytesseract.image_to_string(img6,lang='kor')\n",
    "test6 = re.split('\\n',text6)"
   ]
  },
  {
   "cell_type": "code",
   "execution_count": 198,
   "metadata": {},
   "outputs": [],
   "source": [
    "for i in range(len(test6)):\n",
    "    if len(re.findall('.*단면0.*',test6[i]))>=1:\n",
    "        x5 = test6[i]\n",
    "    else:\n",
    "        pass\n",
    "   #따로 하면 되는데 왜 합쳤을 때 x5가 안나오지..?\n",
    "    "
   ]
  },
  {
   "cell_type": "code",
   "execution_count": 199,
   "metadata": {},
   "outputs": [
    {
     "data": {
      "text/plain": [
       "'(단면07) 총길이 어깨 가슴 허리 힙 밑단 ： 암홀 소매길이'"
      ]
     },
     "execution_count": 199,
     "metadata": {},
     "output_type": "execute_result"
    }
   ],
   "source": [
    "x5"
   ]
  },
  {
   "cell_type": "code",
   "execution_count": 200,
   "metadata": {},
   "outputs": [],
   "source": [
    "y5= test6.index(x5)\n",
    "z5=test6[y5:y5+3]\n"
   ]
  },
  {
   "cell_type": "code",
   "execution_count": 201,
   "metadata": {},
   "outputs": [
    {
     "data": {
      "text/plain": [
       "['(단면07) 총길이 어깨 가슴 허리 힙 밑단 ： 암홀 소매길이',\n",
       " '55(5) _81/113        -            -           32          32          42           -            -',\n",
       " '6600) _82/114        -             주          34.5        34.5        44.5          …            ~']"
      ]
     },
     "execution_count": 201,
     "metadata": {},
     "output_type": "execute_result"
    }
   ],
   "source": [
    "z5"
   ]
  },
  {
   "cell_type": "code",
   "execution_count": 4,
   "metadata": {},
   "outputs": [],
   "source": [
    "img7 = Image.open('DRESS프릴진볼륨원피스size4.jpg')\n",
    "text7 = pytesseract.image_to_string(img7,lang='kor')\n",
    "test7 = re.split('\\n',text7)"
   ]
  },
  {
   "cell_type": "code",
   "execution_count": 5,
   "metadata": {},
   "outputs": [],
   "source": [
    "for i in range(len(test7)):\n",
    "    if len(re.findall('.*총길이.*어깨.*',test7[i]))>=1:\n",
    "        x6 = test7[i]\n",
    "    else:\n",
    "        pass\n",
    "    #사이에 무슨 문제 있나?\n",
    "y6= test7.index(x6)\n",
    "z6=test7[y6:y6+3]\n"
   ]
  },
  {
   "cell_type": "code",
   "execution_count": 6,
   "metadata": {
    "scrolled": true
   },
   "outputs": [
    {
     "data": {
      "text/plain": [
       "['(단면07) 총길이 어깨 가슴 허리 힙 밑단 ： 암홀 소매길이', '오아 85  35  44  35  는  38  23  57', '']"
      ]
     },
     "execution_count": 6,
     "metadata": {},
     "output_type": "execute_result"
    }
   ],
   "source": [
    "z6"
   ]
  },
  {
   "cell_type": "code",
   "execution_count": 35,
   "metadata": {},
   "outputs": [
    {
     "data": {
      "text/plain": [
       "<_sre.SRE_Match object; span=(1, 2), match='단'>"
      ]
     },
     "execution_count": 35,
     "metadata": {},
     "output_type": "execute_result"
    }
   ],
   "source": [
    "re.search('[0-9a-zA-Z가-힣]',z6[0])"
   ]
  },
  {
   "cell_type": "code",
   "execution_count": 33,
   "metadata": {},
   "outputs": [
    {
     "data": {
      "text/plain": [
       "'(단면07) 총길이 어깨 가슴 허리 힙 밑단 ： 암홀 소매길이'"
      ]
     },
     "execution_count": 33,
     "metadata": {},
     "output_type": "execute_result"
    }
   ],
   "source": [
    "z6[0]"
   ]
  },
  {
   "cell_type": "code",
   "execution_count": 7,
   "metadata": {},
   "outputs": [
    {
     "data": {
      "text/plain": [
       "4"
      ]
     },
     "execution_count": 7,
     "metadata": {},
     "output_type": "execute_result"
    }
   ],
   "source": [
    "y6"
   ]
  },
  {
   "cell_type": "markdown",
   "metadata": {},
   "source": [
    "# 나눴으면 이제 txt파일로 저장이 아니라 csv파일로 저장할 수 있게 정형화 해야함"
   ]
  },
  {
   "cell_type": "code",
   "execution_count": 29,
   "metadata": {},
   "outputs": [
    {
     "data": {
      "text/plain": [
       "'오아 85  35  44  35  는  38  23  57'"
      ]
     },
     "execution_count": 29,
     "metadata": {},
     "output_type": "execute_result"
    }
   ],
   "source": [
    "test7[y6+1]"
   ]
  },
  {
   "cell_type": "code",
   "execution_count": 26,
   "metadata": {},
   "outputs": [
    {
     "data": {
      "text/plain": [
       "10"
      ]
     },
     "execution_count": 26,
     "metadata": {},
     "output_type": "execute_result"
    }
   ],
   "source": [
    "len(re.split(' ',test7[y6]))"
   ]
  },
  {
   "cell_type": "code",
   "execution_count": 50,
   "metadata": {},
   "outputs": [
    {
     "data": {
      "text/plain": [
       "0"
      ]
     },
     "execution_count": 50,
     "metadata": {},
     "output_type": "execute_result"
    }
   ],
   "source": [
    "len(re.findall('[0-9a-zA-Z가-힣]',re.split(' ',test7[y6])[7]))\n"
   ]
  },
  {
   "cell_type": "code",
   "execution_count": 81,
   "metadata": {},
   "outputs": [],
   "source": [
    "data = pd.DataFrame({\"size\" : []})"
   ]
  },
  {
   "cell_type": "code",
   "execution_count": 140,
   "metadata": {},
   "outputs": [],
   "source": [
    "data = pd.DataFrame({\"size\" : []})\n",
    "\n",
    "#word = [] #이러면 너무 복잡해지는데 \n",
    "for i in range(len(re.split(' ',test7[y6]))):\n",
    "    try:\n",
    "        word=re.split(' ',test7[y6])[i]\n",
    "    except:\n",
    "        pass\n",
    "    \n",
    "    \n",
    "    \n",
    "    result = \"\"\n",
    "    for j in re.findall('[0-9a-zA-Z가-힣]',re.split(' ',test7[y6])[i]):\n",
    "        if len(j) != 0: #비어있는 리스트는 삭제하고 넣으려고 조건문을 넣었지만 흠... 밑에처럼나옴\n",
    "            result +=j\n",
    "        else:\n",
    "            pass\n",
    "    \n",
    "    insert_data = pd.DataFrame({\"size\" : [result]})\n",
    "    \n",
    "    data = data.append(insert_data)\n",
    "    df = data[data[\"size\"] != \"\"]\n",
    "    df.index= range(len(df))\n",
    "    \n",
    "    data2 = pd.DataFrame({\"num\" : []})\n",
    "    \n",
    "    for a in range(len(list(filter(None,re.split(' ',test7[y6+1]))))):\n",
    "        try:\n",
    "            word2=re.split(' ',test7[y6+1])[a]\n",
    "        except:\n",
    "            pass\n",
    "\n",
    "\n",
    "\n",
    "        result2 = \"\"\n",
    "        for b in re.findall('[0-9a-zA-Z가-힣]',list(filter(None,re.split(' ',test7[y6+1])))[a]):\n",
    "            if len(b) != 0: #비어있는 리스트는 삭제하고 넣으려고 조건문을 넣었지만 흠... 밑에처럼나옴\n",
    "                result2 +=b\n",
    "            else:\n",
    "                pass\n",
    "\n",
    "        insert_data2 = pd.DataFrame({\"num\" : [result2]})\n",
    "\n",
    "        data2 = data2.append(insert_data2)\n",
    "        df2 = data2[data2[\"num\"] != \"\"]\n",
    "        df2.index= range(len(df2))\n",
    "        \n",
    "    df3 = pd.concat([df,df2],axis=1)\n",
    "    "
   ]
  },
  {
   "cell_type": "code",
   "execution_count": 150,
   "metadata": {},
   "outputs": [],
   "source": [
    "df3.to_csv('DRESS프릴진볼륨원피스2.csv', mode = 'w', header = True, index = None, encoding='cp949')"
   ]
  },
  {
   "cell_type": "code",
   "execution_count": null,
   "metadata": {},
   "outputs": [],
   "source": [
    "result = \"\"\n",
    "list(filter(None,re.split(' ',test7[y6]))) #리스트 공백요소 제거"
   ]
  },
  {
   "cell_type": "code",
   "execution_count": 148,
   "metadata": {},
   "outputs": [
    {
     "data": {
      "text/html": [
       "<div>\n",
       "<style scoped>\n",
       "    .dataframe tbody tr th:only-of-type {\n",
       "        vertical-align: middle;\n",
       "    }\n",
       "\n",
       "    .dataframe tbody tr th {\n",
       "        vertical-align: top;\n",
       "    }\n",
       "\n",
       "    .dataframe thead th {\n",
       "        text-align: right;\n",
       "    }\n",
       "</style>\n",
       "<table border=\"1\" class=\"dataframe\">\n",
       "  <thead>\n",
       "    <tr style=\"text-align: right;\">\n",
       "      <th></th>\n",
       "      <th>size</th>\n",
       "      <th>num</th>\n",
       "    </tr>\n",
       "  </thead>\n",
       "  <tbody>\n",
       "    <tr>\n",
       "      <th>0</th>\n",
       "      <td>단면07</td>\n",
       "      <td>오아</td>\n",
       "    </tr>\n",
       "    <tr>\n",
       "      <th>1</th>\n",
       "      <td>총길이</td>\n",
       "      <td>85</td>\n",
       "    </tr>\n",
       "    <tr>\n",
       "      <th>2</th>\n",
       "      <td>어깨</td>\n",
       "      <td>35</td>\n",
       "    </tr>\n",
       "    <tr>\n",
       "      <th>3</th>\n",
       "      <td>가슴</td>\n",
       "      <td>44</td>\n",
       "    </tr>\n",
       "    <tr>\n",
       "      <th>4</th>\n",
       "      <td>허리</td>\n",
       "      <td>35</td>\n",
       "    </tr>\n",
       "    <tr>\n",
       "      <th>5</th>\n",
       "      <td>힙</td>\n",
       "      <td>는</td>\n",
       "    </tr>\n",
       "    <tr>\n",
       "      <th>6</th>\n",
       "      <td>밑단</td>\n",
       "      <td>38</td>\n",
       "    </tr>\n",
       "    <tr>\n",
       "      <th>7</th>\n",
       "      <td>암홀</td>\n",
       "      <td>23</td>\n",
       "    </tr>\n",
       "    <tr>\n",
       "      <th>8</th>\n",
       "      <td>소매길이</td>\n",
       "      <td>57</td>\n",
       "    </tr>\n",
       "  </tbody>\n",
       "</table>\n",
       "</div>"
      ],
      "text/plain": [
       "   size num\n",
       "0  단면07  오아\n",
       "1   총길이  85\n",
       "2    어깨  35\n",
       "3    가슴  44\n",
       "4    허리  35\n",
       "5     힙   는\n",
       "6    밑단  38\n",
       "7    암홀  23\n",
       "8  소매길이  57"
      ]
     },
     "execution_count": 148,
     "metadata": {},
     "output_type": "execute_result"
    }
   ],
   "source": [
    "df3"
   ]
  },
  {
   "cell_type": "code",
   "execution_count": 12,
   "metadata": {},
   "outputs": [],
   "source": [
    "word =[]\n",
    "for i in range(len(test7[y6])):\n",
    "    try:\n",
    "        word.append(re.search('[0-9a-zA-Z가-힣]',re.split(' ',test7[y6])[i]))\n",
    "    except:\n",
    "        pass"
   ]
  },
  {
   "cell_type": "code",
   "execution_count": 28,
   "metadata": {},
   "outputs": [
    {
     "data": {
      "text/html": [
       "<div>\n",
       "<style scoped>\n",
       "    .dataframe tbody tr th:only-of-type {\n",
       "        vertical-align: middle;\n",
       "    }\n",
       "\n",
       "    .dataframe tbody tr th {\n",
       "        vertical-align: top;\n",
       "    }\n",
       "\n",
       "    .dataframe thead th {\n",
       "        text-align: right;\n",
       "    }\n",
       "</style>\n",
       "<table border=\"1\" class=\"dataframe\">\n",
       "  <thead>\n",
       "    <tr style=\"text-align: right;\">\n",
       "      <th></th>\n",
       "      <th>size</th>\n",
       "    </tr>\n",
       "  </thead>\n",
       "  <tbody>\n",
       "    <tr>\n",
       "      <th>0</th>\n",
       "      <td>(단면07)</td>\n",
       "    </tr>\n",
       "    <tr>\n",
       "      <th>0</th>\n",
       "      <td>총길이</td>\n",
       "    </tr>\n",
       "    <tr>\n",
       "      <th>0</th>\n",
       "      <td>어깨</td>\n",
       "    </tr>\n",
       "    <tr>\n",
       "      <th>0</th>\n",
       "      <td>가슴</td>\n",
       "    </tr>\n",
       "    <tr>\n",
       "      <th>0</th>\n",
       "      <td>허리</td>\n",
       "    </tr>\n",
       "    <tr>\n",
       "      <th>0</th>\n",
       "      <td>힙</td>\n",
       "    </tr>\n",
       "    <tr>\n",
       "      <th>0</th>\n",
       "      <td>밑단</td>\n",
       "    </tr>\n",
       "    <tr>\n",
       "      <th>0</th>\n",
       "      <td>：</td>\n",
       "    </tr>\n",
       "    <tr>\n",
       "      <th>0</th>\n",
       "      <td>암홀</td>\n",
       "    </tr>\n",
       "    <tr>\n",
       "      <th>0</th>\n",
       "      <td>소매길이</td>\n",
       "    </tr>\n",
       "  </tbody>\n",
       "</table>\n",
       "</div>"
      ],
      "text/plain": [
       "     size\n",
       "0  (단면07)\n",
       "0     총길이\n",
       "0      어깨\n",
       "0      가슴\n",
       "0      허리\n",
       "0       힙\n",
       "0      밑단\n",
       "0       ：\n",
       "0      암홀\n",
       "0    소매길이"
      ]
     },
     "execution_count": 28,
     "metadata": {},
     "output_type": "execute_result"
    }
   ],
   "source": [
    "data"
   ]
  },
  {
   "cell_type": "code",
   "execution_count": 72,
   "metadata": {},
   "outputs": [
    {
     "data": {
      "text/plain": [
       "['(단면07)', '총길이', '어깨', '가슴', '허리', '힙', '밑단', '：', '암홀', '소매길이']"
      ]
     },
     "execution_count": 72,
     "metadata": {},
     "output_type": "execute_result"
    }
   ],
   "source": [
    "re.split(' ',test7[y6])"
   ]
  },
  {
   "cell_type": "code",
   "execution_count": 71,
   "metadata": {},
   "outputs": [
    {
     "data": {
      "text/plain": [
       "['오아', '85', '35', '44', '35', '는', '38', '23', '57']"
      ]
     },
     "execution_count": 71,
     "metadata": {},
     "output_type": "execute_result"
    }
   ],
   "source": [
    "list(filter(None,re.split(' ',test7[y6+1]))) #리스트 공백요소 제거"
   ]
  },
  {
   "cell_type": "code",
   "execution_count": 128,
   "metadata": {},
   "outputs": [],
   "source": [
    "data = pd.DataFrame({\"num\" : []})\n",
    "for i in range(len(list(filter(None,re.split(' ',test7[y6+1]))))):\n",
    "    try:\n",
    "        word=re.split(' ',test7[y6+1])[i]\n",
    "    except:\n",
    "        pass\n",
    "    \n",
    "    \n",
    "    \n",
    "    result = \"\"\n",
    "    for j in re.findall('[0-9a-zA-Z가-힣]',list(filter(None,re.split(' ',test7[y6+1])))[i]):\n",
    "        if len(j) != 0: #비어있는 리스트는 삭제하고 넣으려고 조건문을 넣었지만 흠... 밑에처럼나옴\n",
    "            result +=j\n",
    "        else:\n",
    "            pass\n",
    "    \n",
    "    insert_data = pd.DataFrame({\"num\" : [result]})\n",
    "    \n",
    "    data = data.append(insert_data)\n",
    "    df = data[data[\"num\"] != \"\"]\n",
    "    df.index= range(len(df))"
   ]
  },
  {
   "cell_type": "code",
   "execution_count": 129,
   "metadata": {
    "scrolled": true
   },
   "outputs": [
    {
     "data": {
      "text/html": [
       "<div>\n",
       "<style scoped>\n",
       "    .dataframe tbody tr th:only-of-type {\n",
       "        vertical-align: middle;\n",
       "    }\n",
       "\n",
       "    .dataframe tbody tr th {\n",
       "        vertical-align: top;\n",
       "    }\n",
       "\n",
       "    .dataframe thead th {\n",
       "        text-align: right;\n",
       "    }\n",
       "</style>\n",
       "<table border=\"1\" class=\"dataframe\">\n",
       "  <thead>\n",
       "    <tr style=\"text-align: right;\">\n",
       "      <th></th>\n",
       "      <th>num</th>\n",
       "    </tr>\n",
       "  </thead>\n",
       "  <tbody>\n",
       "    <tr>\n",
       "      <th>0</th>\n",
       "      <td>오아</td>\n",
       "    </tr>\n",
       "    <tr>\n",
       "      <th>1</th>\n",
       "      <td>85</td>\n",
       "    </tr>\n",
       "    <tr>\n",
       "      <th>2</th>\n",
       "      <td>35</td>\n",
       "    </tr>\n",
       "    <tr>\n",
       "      <th>3</th>\n",
       "      <td>44</td>\n",
       "    </tr>\n",
       "    <tr>\n",
       "      <th>4</th>\n",
       "      <td>35</td>\n",
       "    </tr>\n",
       "    <tr>\n",
       "      <th>5</th>\n",
       "      <td>는</td>\n",
       "    </tr>\n",
       "    <tr>\n",
       "      <th>6</th>\n",
       "      <td>38</td>\n",
       "    </tr>\n",
       "    <tr>\n",
       "      <th>7</th>\n",
       "      <td>23</td>\n",
       "    </tr>\n",
       "    <tr>\n",
       "      <th>8</th>\n",
       "      <td>57</td>\n",
       "    </tr>\n",
       "  </tbody>\n",
       "</table>\n",
       "</div>"
      ],
      "text/plain": [
       "  num\n",
       "0  오아\n",
       "1  85\n",
       "2  35\n",
       "3  44\n",
       "4  35\n",
       "5   는\n",
       "6  38\n",
       "7  23\n",
       "8  57"
      ]
     },
     "execution_count": 129,
     "metadata": {},
     "output_type": "execute_result"
    }
   ],
   "source": [
    "df"
   ]
  },
  {
   "cell_type": "code",
   "execution_count": 137,
   "metadata": {},
   "outputs": [],
   "source": [
    "data2 = pd.DataFrame({\"num\" : []})"
   ]
  },
  {
   "cell_type": "code",
   "execution_count": 138,
   "metadata": {},
   "outputs": [],
   "source": [
    " for a in range(len(list(filter(None,re.split(' ',test7[y6+1]))))):\n",
    "        try:\n",
    "            word2=re.split(' ',test7[y6+1])[a]\n",
    "        except:\n",
    "            pass\n",
    "\n",
    "\n",
    "\n",
    "        result2 = \"\"\n",
    "        for b in re.findall('[0-9a-zA-Z가-힣]',list(filter(None,re.split(' ',test7[y6+1])))[a]):\n",
    "            if len(b) != 0: #비어있는 리스트는 삭제하고 넣으려고 조건문을 넣었지만 흠... 밑에처럼나옴\n",
    "                result2 +=b\n",
    "            else:\n",
    "                pass\n",
    "\n",
    "        insert_data2 = pd.DataFrame({\"num\" : [result2]})\n",
    "\n",
    "        data2 = data2.append(insert_data2)\n",
    "        df2 = data2[data2[\"num\"] != \"\"]\n",
    "        df2.index= range(len(df2))"
   ]
  },
  {
   "cell_type": "code",
   "execution_count": 139,
   "metadata": {},
   "outputs": [
    {
     "data": {
      "text/html": [
       "<div>\n",
       "<style scoped>\n",
       "    .dataframe tbody tr th:only-of-type {\n",
       "        vertical-align: middle;\n",
       "    }\n",
       "\n",
       "    .dataframe tbody tr th {\n",
       "        vertical-align: top;\n",
       "    }\n",
       "\n",
       "    .dataframe thead th {\n",
       "        text-align: right;\n",
       "    }\n",
       "</style>\n",
       "<table border=\"1\" class=\"dataframe\">\n",
       "  <thead>\n",
       "    <tr style=\"text-align: right;\">\n",
       "      <th></th>\n",
       "      <th>num</th>\n",
       "    </tr>\n",
       "  </thead>\n",
       "  <tbody>\n",
       "    <tr>\n",
       "      <th>0</th>\n",
       "      <td>오아</td>\n",
       "    </tr>\n",
       "    <tr>\n",
       "      <th>1</th>\n",
       "      <td>85</td>\n",
       "    </tr>\n",
       "    <tr>\n",
       "      <th>2</th>\n",
       "      <td>35</td>\n",
       "    </tr>\n",
       "    <tr>\n",
       "      <th>3</th>\n",
       "      <td>44</td>\n",
       "    </tr>\n",
       "    <tr>\n",
       "      <th>4</th>\n",
       "      <td>35</td>\n",
       "    </tr>\n",
       "    <tr>\n",
       "      <th>5</th>\n",
       "      <td>는</td>\n",
       "    </tr>\n",
       "    <tr>\n",
       "      <th>6</th>\n",
       "      <td>38</td>\n",
       "    </tr>\n",
       "    <tr>\n",
       "      <th>7</th>\n",
       "      <td>23</td>\n",
       "    </tr>\n",
       "    <tr>\n",
       "      <th>8</th>\n",
       "      <td>57</td>\n",
       "    </tr>\n",
       "  </tbody>\n",
       "</table>\n",
       "</div>"
      ],
      "text/plain": [
       "  num\n",
       "0  오아\n",
       "1  85\n",
       "2  35\n",
       "3  44\n",
       "4  35\n",
       "5   는\n",
       "6  38\n",
       "7  23\n",
       "8  57"
      ]
     },
     "execution_count": 139,
     "metadata": {},
     "output_type": "execute_result"
    }
   ],
   "source": [
    "df2"
   ]
  },
  {
   "cell_type": "code",
   "execution_count": null,
   "metadata": {},
   "outputs": [],
   "source": []
  },
  {
   "cell_type": "code",
   "execution_count": null,
   "metadata": {},
   "outputs": [],
   "source": []
  },
  {
   "cell_type": "code",
   "execution_count": null,
   "metadata": {},
   "outputs": [],
   "source": []
  },
  {
   "cell_type": "code",
   "execution_count": null,
   "metadata": {},
   "outputs": [],
   "source": []
  },
  {
   "cell_type": "code",
   "execution_count": null,
   "metadata": {},
   "outputs": [],
   "source": []
  },
  {
   "cell_type": "code",
   "execution_count": null,
   "metadata": {},
   "outputs": [],
   "source": []
  },
  {
   "cell_type": "code",
   "execution_count": null,
   "metadata": {},
   "outputs": [],
   "source": []
  },
  {
   "cell_type": "code",
   "execution_count": null,
   "metadata": {},
   "outputs": [],
   "source": []
  }
 ],
 "metadata": {
  "kernelspec": {
   "display_name": "Python 3",
   "language": "python",
   "name": "python3"
  },
  "language_info": {
   "codemirror_mode": {
    "name": "ipython",
    "version": 3
   },
   "file_extension": ".py",
   "mimetype": "text/x-python",
   "name": "python",
   "nbconvert_exporter": "python",
   "pygments_lexer": "ipython3",
   "version": "3.6.5"
  }
 },
 "nbformat": 4,
 "nbformat_minor": 2
}
