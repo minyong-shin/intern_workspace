{
 "cells": [
  {
   "cell_type": "code",
   "execution_count": 1,
   "metadata": {},
   "outputs": [],
   "source": [
    "import requests # 웹 페이지 소스를 얻기 위한 패키지\n",
    "from bs4 import BeautifulSoup # 웹 페이지 소스를 얻기 위한 패키지, 더 간단히 얻을 수 있다는 장점이 있다고 한다.\n",
    "                              # (!pip install beautifulsoup4 으로 다운받을 수 있다.)\n",
    "import pandas as pd # 데이터를 처리하기 위한 가장 기본적인 패키지\n",
    "import time # 사이트를 불러올 때, 작업 지연시간을 지정해주기 위한 패키지이다. (사이트가 늦게 켜지면 에러가 발생하기 때문)"
   ]
  },
  {
   "cell_type": "code",
   "execution_count": 10,
   "metadata": {},
   "outputs": [],
   "source": [
    "base_url = 'http://www.snipershop.co.kr'"
   ]
  },
  {
   "cell_type": "code",
   "execution_count": 11,
   "metadata": {},
   "outputs": [],
   "source": [
    "#li 로 묶인 각 class가 각기 다른 파라미터를 가지고 있기 때문에 직접 써줌 5개\n",
    "category_list = ['/product/list.html?cate_no=47','/product/list.html?cate_no=75','/product/list.html?cate_no=48','/product/list.html?cate_no=4','/product/list.html?cate_no=24']"
   ]
  },
  {
   "cell_type": "code",
   "execution_count": 17,
   "metadata": {},
   "outputs": [
    {
     "data": {
      "text/plain": [
       "'http://www.snipershop.co.kr/product/list.html?cate_no=75'"
      ]
     },
     "execution_count": 17,
     "metadata": {},
     "output_type": "execute_result"
    }
   ],
   "source": [
    "base_url+category_list[1]"
   ]
  },
  {
   "cell_type": "code",
   "execution_count": 20,
   "metadata": {},
   "outputs": [],
   "source": [
    "category_list_url = [] # 각 카테고리별 접근 주소 저장\n",
    "for i in range(len(category_list)) : # base_url과 각 카테고리의 href를 합쳐야 해당 카테고리 주소로 접근할 수 있으므로 합쳐주는 작업을 진행하는 반복문\n",
    "    url = base_url + category_list[i]\n",
    "    category_list_url.append(url)"
   ]
  },
  {
   "cell_type": "code",
   "execution_count": 21,
   "metadata": {
    "scrolled": true
   },
   "outputs": [
    {
     "data": {
      "text/plain": [
       "['http://www.snipershop.co.kr/product/list.html?cate_no=47',\n",
       " 'http://www.snipershop.co.kr/product/list.html?cate_no=75',\n",
       " 'http://www.snipershop.co.kr/product/list.html?cate_no=48',\n",
       " 'http://www.snipershop.co.kr/product/list.html?cate_no=4',\n",
       " 'http://www.snipershop.co.kr/product/list.html?cate_no=24']"
      ]
     },
     "execution_count": 21,
     "metadata": {},
     "output_type": "execute_result"
    }
   ],
   "source": [
    "category_list_url"
   ]
  },
  {
   "cell_type": "markdown",
   "metadata": {},
   "source": [
    "# 상의"
   ]
  },
  {
   "cell_type": "code",
   "execution_count": 39,
   "metadata": {},
   "outputs": [],
   "source": [
    "start_url = category_list_url[0]\n",
    "#가장먼저 각 카테고리별로 상품들의 페이지를 넘어갈 수 있도록 하기위해서 코드를 짬\n",
    "page_url = category_list_url[0] + '&page=' + '{}'"
   ]
  },
  {
   "cell_type": "code",
   "execution_count": 103,
   "metadata": {},
   "outputs": [],
   "source": [
    "#각 상품카테고리별로 페이지의 수를 세주기 위해서\n",
    "page1 = requests.get(start_url,headers = {'user-agent' : ('Mozilla/5.0 (Windows NT 10.0; Win64; x64) AppleWebKit/537.36 (KHTML, like Gecko) Chrome/72.0.3626.119 Safari/537.36')})\n",
    "\n",
    "page2 = BeautifulSoup(page1.content,'html.parser')\n",
    "#html형식으로 불러온 뒤에 페이지수를 세기 위해서 페이지의 정보를 불러옴\n",
    "page3 = page2.find('div',{'class':'xans-element- xans-product xans-product-normalpaging ec-base-paginate'})\n",
    "page4 = page3.find_all('li',{'class':'xans-record-'})\n",
    "page5=len(page4)\n"
   ]
  },
  {
   "cell_type": "code",
   "execution_count": 104,
   "metadata": {},
   "outputs": [
    {
     "data": {
      "text/plain": [
       "6"
      ]
     },
     "execution_count": 104,
     "metadata": {},
     "output_type": "execute_result"
    }
   ],
   "source": [
    "page5"
   ]
  },
  {
   "cell_type": "code",
   "execution_count": 117,
   "metadata": {},
   "outputs": [],
   "source": [
    "for i in range(1,page5+1):\n",
    "    res = requests.get(page_url.format(str(i)),headers = {'user-agent' : ('Mozilla/5.0 (Windows NT 10.0; Win64; x64) AppleWebKit/537.36 (KHTML, like Gecko) Chrome/72.0.3626.119 Safari/537.36')})\n",
    "    html = BeautifulSoup(res.content,'html.parser')\n",
    "    table1 = html.find('div',{'class':'xans-element- xans-product xans-product-listnormal ec-base-product normal'})\n",
    "    table2 = table1.find_all('div',{'class','thumbnail'})\n",
    "    "
   ]
  },
  {
   "cell_type": "code",
   "execution_count": 118,
   "metadata": {},
   "outputs": [
    {
     "data": {
      "text/plain": [
       "[<div class=\"thumbnail\">\n",
       " <span class=\"chk\"><input class=\"ProductCompareClass xECPCNO_21034 displaynone\" type=\"checkbox\"/></span>\n",
       " <!--div class=\"discount_rate ico01 -mov\" data-price=\"43000\" data-sale=\"28000\"></div-->\n",
       " <div class=\"-likeButton displaynone -mov\"><button class=\"-mov\" type=\"button\"><strong><span class=\"likePrdCount likePrdCount_21034\">0</span></strong></button></div>\n",
       " <div class=\"list_button -mov\">\n",
       " <span class=\"zoom\"><a href=\"/product/detail.html?product_no=21034&amp;cate_no=47&amp;display_group=1\" target=\"_blank\"><img src=\"/_wg/img/ico_blank.png\"/></a></span>\n",
       " <span class=\"basket\"></span>\n",
       " <span class=\"option\"><a \"=\"\" onclick=\"optionPreview(this,'listnormal-0',21034,'F')\" onmouseout=\"closeOptionPreview('listnormal-0',21034)\"><img alt=\"옵션 미리보기\" class=\"option_preview\" id=\"btn_preview_listnormal-021034\" src=\"/web/upload/icon_201703071602528300.png\"/></a></span>\n",
       " <span class=\"wishIcon\"><img alt=\"관심상품 등록 전\" categoryno=\"47\" class=\"icon_img ec-product-listwishicon\" icon_status=\"off\" individual-set=\"F\" login_status=\"F\" productno=\"21034\" src=\"/web/upload/icon_201703071603212200.png\"/></span>\n",
       " </div>\n",
       " <a href=\"/product/detail.html?product_no=21034&amp;cate_no=47&amp;display_group=1\" name=\"anchorBoxName_21034\"><img alt=\"블로 소매핀줄 가디건\" id=\"\" src=\"//www.snipershop.co.kr/web/product/tiny/201704/21034_shop1_386893.gif\"/>\n",
       "              <p class=\"saleicon\"><img src=\"/web/img/main/main_product.jpg\"/></p>\n",
       " <div class=\"d_thumb\">\n",
       " <ul class=\"img\">\n",
       " <li><img alt=\"블로 소매핀줄 가디건\" src=\"//www.snipershop.co.kr/web/product/medium/201704/21034_shop1_782781.jpg\"/></li>\n",
       " <li><img alt=\"블로 소매핀줄 가디건\" src=\"\"/></li>\n",
       " <li><img alt=\"블로 소매핀줄 가디건\" src=\"\"/></li>\n",
       " <li><img alt=\"블로 소매핀줄 가디건\" src=\"\"/></li>\n",
       " <li><img alt=\"블로 소매핀줄 가디건\" src=\"\"/></li>\n",
       " <li><img alt=\"블로 소매핀줄 가디건\" src=\"\"/></li>\n",
       " </ul>\n",
       " <ul class=\"btn\"></ul>\n",
       " <span class=\"arrow prev\">이전</span>\n",
       " <span class=\"arrow next\">다음</span>\n",
       " </div>\n",
       " </a>\n",
       " </div>, <div class=\"thumbnail\">\n",
       " <span class=\"chk\"><input class=\"ProductCompareClass xECPCNO_20559 displaynone\" type=\"checkbox\"/></span>\n",
       " <!--div class=\"discount_rate ico01 -mov\" data-price=\"27000\" data-sale=\"15800\"></div-->\n",
       " <div class=\"-likeButton displaynone -mov\"><button class=\"-mov\" type=\"button\"><strong><span class=\"likePrdCount likePrdCount_20559\">0</span></strong></button></div>\n",
       " <div class=\"list_button -mov\">\n",
       " <span class=\"zoom\"><a href=\"/product/detail.html?product_no=20559&amp;cate_no=47&amp;display_group=1\" target=\"_blank\"><img src=\"/_wg/img/ico_blank.png\"/></a></span>\n",
       " <span class=\"basket\"></span>\n",
       " <span class=\"option\"><a \"=\"\" onclick=\"optionPreview(this,'listnormal-0',20559,'F')\" onmouseout=\"closeOptionPreview('listnormal-0',20559)\"><img alt=\"옵션 미리보기\" class=\"option_preview\" id=\"btn_preview_listnormal-020559\" src=\"/web/upload/icon_201703071602528300.png\"/></a></span>\n",
       " <span class=\"wishIcon\"><img alt=\"관심상품 등록 전\" categoryno=\"47\" class=\"icon_img ec-product-listwishicon\" icon_status=\"off\" individual-set=\"F\" login_status=\"F\" productno=\"20559\" src=\"/web/upload/icon_201703071603212200.png\"/></span>\n",
       " </div>\n",
       " <a href=\"/product/detail.html?product_no=20559&amp;cate_no=47&amp;display_group=1\" name=\"anchorBoxName_20559\"><img alt=\"소프트 루즈 맨투맨\" id=\"\" src=\"//www.snipershop.co.kr/web/product/tiny/201701/20559_shop1_356320.jpg\"/>\n",
       "              <p class=\"saleicon\"><img src=\"/web/img/main/main_product.jpg\"/></p>\n",
       " <div class=\"d_thumb\">\n",
       " <ul class=\"img\">\n",
       " <li><img alt=\"소프트 루즈 맨투맨\" src=\"//www.snipershop.co.kr/web/product/medium/201701/20559_shop1_896745.jpg\"/></li>\n",
       " <li><img alt=\"소프트 루즈 맨투맨\" src=\"\"/></li>\n",
       " <li><img alt=\"소프트 루즈 맨투맨\" src=\"\"/></li>\n",
       " <li><img alt=\"소프트 루즈 맨투맨\" src=\"\"/></li>\n",
       " <li><img alt=\"소프트 루즈 맨투맨\" src=\"\"/></li>\n",
       " <li><img alt=\"소프트 루즈 맨투맨\" src=\"\"/></li>\n",
       " </ul>\n",
       " <ul class=\"btn\"></ul>\n",
       " <span class=\"arrow prev\">이전</span>\n",
       " <span class=\"arrow next\">다음</span>\n",
       " </div>\n",
       " </a>\n",
       " </div>, <div class=\"thumbnail\">\n",
       " <span class=\"chk\"><input class=\"ProductCompareClass xECPCNO_24792 displaynone\" type=\"checkbox\"/></span>\n",
       " <!--div class=\"discount_rate ico01 -mov\" data-price=\"49000\" data-sale=\"38000\"></div-->\n",
       " <div class=\"-likeButton displaynone -mov\"><button class=\"-mov\" type=\"button\"><strong><span class=\"likePrdCount likePrdCount_24792\">0</span></strong></button></div>\n",
       " <div class=\"list_button -mov\">\n",
       " <span class=\"zoom\"><a href=\"/product/detail.html?product_no=24792&amp;cate_no=47&amp;display_group=1\" target=\"_blank\"><img src=\"/_wg/img/ico_blank.png\"/></a></span>\n",
       " <span class=\"basket\"></span>\n",
       " <span class=\"option\"></span>\n",
       " <span class=\"wishIcon\"><img alt=\"관심상품 등록 전\" categoryno=\"47\" class=\"icon_img ec-product-listwishicon\" icon_status=\"off\" individual-set=\"F\" login_status=\"F\" productno=\"24792\" src=\"/web/upload/icon_201703071603212200.png\"/></span>\n",
       " </div>\n",
       " <a href=\"/product/detail.html?product_no=24792&amp;cate_no=47&amp;display_group=1\" name=\"anchorBoxName_24792\"><img alt=\"UB 언발 레이어드 후드티\" id=\"\" src=\"//www.snipershop.co.kr/web/product/tiny/201901/1910f7c86c530632f4ac5304144149e0.gif\"/>\n",
       "              <p class=\"saleicon\"><img src=\"/web/img/main/main_product.jpg\"/></p>\n",
       " <div class=\"d_thumb\">\n",
       " <ul class=\"img\">\n",
       " <li><img alt=\"UB 언발 레이어드 후드티\" src=\"//www.snipershop.co.kr/web/product/medium/201901/2b7f99287b3a430b48222e72fdf6935f.jpg\"/></li>\n",
       " <li><img alt=\"UB 언발 레이어드 후드티\" src=\"\"/></li>\n",
       " <li><img alt=\"UB 언발 레이어드 후드티\" src=\"\"/></li>\n",
       " <li><img alt=\"UB 언발 레이어드 후드티\" src=\"\"/></li>\n",
       " <li><img alt=\"UB 언발 레이어드 후드티\" src=\"\"/></li>\n",
       " <li><img alt=\"UB 언발 레이어드 후드티\" src=\"\"/></li>\n",
       " </ul>\n",
       " <ul class=\"btn\"></ul>\n",
       " <span class=\"arrow prev\">이전</span>\n",
       " <span class=\"arrow next\">다음</span>\n",
       " </div>\n",
       " </a>\n",
       " </div>, <div class=\"thumbnail\">\n",
       " <span class=\"chk\"><input class=\"ProductCompareClass xECPCNO_24730 displaynone\" type=\"checkbox\"/></span>\n",
       " <!--div class=\"discount_rate ico01 -mov\" data-price=\"49000\" data-sale=\"29000\"></div-->\n",
       " <div class=\"-likeButton displaynone -mov\"><button class=\"-mov\" type=\"button\"><strong><span class=\"likePrdCount likePrdCount_24730\">0</span></strong></button></div>\n",
       " <div class=\"list_button -mov\">\n",
       " <span class=\"zoom\"><a href=\"/product/detail.html?product_no=24730&amp;cate_no=47&amp;display_group=1\" target=\"_blank\"><img src=\"/_wg/img/ico_blank.png\"/></a></span>\n",
       " <span class=\"basket\"></span>\n",
       " <span class=\"option\"></span>\n",
       " <span class=\"wishIcon\"><img alt=\"관심상품 등록 전\" categoryno=\"47\" class=\"icon_img ec-product-listwishicon\" icon_status=\"off\" individual-set=\"F\" login_status=\"F\" productno=\"24730\" src=\"/web/upload/icon_201703071603212200.png\"/></span>\n",
       " </div>\n",
       " <a href=\"/product/detail.html?product_no=24730&amp;cate_no=47&amp;display_group=1\" name=\"anchorBoxName_24730\"><img alt=\"빅 사각 오버핏 니트\" id=\"\" src=\"//www.snipershop.co.kr/web/product/tiny/201901/3d2e02e4f33098e9b5c4c3fc4d2f70bd.gif\"/>\n",
       "              <p class=\"saleicon\"><img src=\"/web/img/main/main_product.jpg\"/></p>\n",
       " <div class=\"d_thumb\">\n",
       " <ul class=\"img\">\n",
       " <li><img alt=\"빅 사각 오버핏 니트\" src=\"//www.snipershop.co.kr/web/product/medium/201901/17f6a6244cc0e54d805c7675261ae0a0.jpg\"/></li>\n",
       " <li><img alt=\"빅 사각 오버핏 니트\" src=\"\"/></li>\n",
       " <li><img alt=\"빅 사각 오버핏 니트\" src=\"\"/></li>\n",
       " <li><img alt=\"빅 사각 오버핏 니트\" src=\"\"/></li>\n",
       " <li><img alt=\"빅 사각 오버핏 니트\" src=\"\"/></li>\n",
       " <li><img alt=\"빅 사각 오버핏 니트\" src=\"\"/></li>\n",
       " </ul>\n",
       " <ul class=\"btn\"></ul>\n",
       " <span class=\"arrow prev\">이전</span>\n",
       " <span class=\"arrow next\">다음</span>\n",
       " </div>\n",
       " </a>\n",
       " </div>, <div class=\"thumbnail\">\n",
       " <span class=\"chk\"><input class=\"ProductCompareClass xECPCNO_24664 displaynone\" type=\"checkbox\"/></span>\n",
       " <!--div class=\"discount_rate ico01 -mov\" data-price=\"49000\" data-sale=\"29000\"></div-->\n",
       " <div class=\"-likeButton displaynone -mov\"><button class=\"-mov\" type=\"button\"><strong><span class=\"likePrdCount likePrdCount_24664\">0</span></strong></button></div>\n",
       " <div class=\"list_button -mov\">\n",
       " <span class=\"zoom\"><a href=\"/product/detail.html?product_no=24664&amp;cate_no=47&amp;display_group=1\" target=\"_blank\"><img src=\"/_wg/img/ico_blank.png\"/></a></span>\n",
       " <span class=\"basket\"></span>\n",
       " <span class=\"option\"></span>\n",
       " <span class=\"wishIcon\"><img alt=\"관심상품 등록 전\" categoryno=\"47\" class=\"icon_img ec-product-listwishicon\" icon_status=\"off\" individual-set=\"F\" login_status=\"F\" productno=\"24664\" src=\"/web/upload/icon_201703071603212200.png\"/></span>\n",
       " </div>\n",
       " <a href=\"/product/detail.html?product_no=24664&amp;cate_no=47&amp;display_group=1\" name=\"anchorBoxName_24664\"><img alt=\"렛지 배색 두줄니트\" id=\"\" src=\"//www.snipershop.co.kr/web/product/tiny/201812/f0ca1e377d5af2094051e0b3007cb8b4.gif\"/>\n",
       "              <p class=\"saleicon\"><img src=\"/web/img/main/main_product.jpg\"/></p>\n",
       " <div class=\"d_thumb\">\n",
       " <ul class=\"img\">\n",
       " <li><img alt=\"렛지 배색 두줄니트\" src=\"//www.snipershop.co.kr/web/product/medium/201812/9eb3db784a6b7120ff6f12b729495dec.jpg\"/></li>\n",
       " <li><img alt=\"렛지 배색 두줄니트\" src=\"\"/></li>\n",
       " <li><img alt=\"렛지 배색 두줄니트\" src=\"\"/></li>\n",
       " <li><img alt=\"렛지 배색 두줄니트\" src=\"\"/></li>\n",
       " <li><img alt=\"렛지 배색 두줄니트\" src=\"\"/></li>\n",
       " <li><img alt=\"렛지 배색 두줄니트\" src=\"\"/></li>\n",
       " </ul>\n",
       " <ul class=\"btn\"></ul>\n",
       " <span class=\"arrow prev\">이전</span>\n",
       " <span class=\"arrow next\">다음</span>\n",
       " </div>\n",
       " </a>\n",
       " </div>]"
      ]
     },
     "execution_count": 118,
     "metadata": {},
     "output_type": "execute_result"
    }
   ],
   "source": [
    "table2"
   ]
  },
  {
   "cell_type": "code",
   "execution_count": 119,
   "metadata": {},
   "outputs": [
    {
     "data": {
      "text/plain": [
       "5"
      ]
     },
     "execution_count": 119,
     "metadata": {},
     "output_type": "execute_result"
    }
   ],
   "source": [
    "len(table2)"
   ]
  },
  {
   "cell_type": "code",
   "execution_count": 123,
   "metadata": {},
   "outputs": [],
   "source": [
    "product_url=[]\n",
    "for i in range(len(table2)):\n",
    "    pro = table2[i].find('a')['href']\n",
    "    product_url.append(pro)"
   ]
  },
  {
   "cell_type": "code",
   "execution_count": 125,
   "metadata": {},
   "outputs": [
    {
     "data": {
      "text/plain": [
       "['/product/detail.html?product_no=21034&cate_no=47&display_group=1',\n",
       " '/product/detail.html?product_no=20559&cate_no=47&display_group=1',\n",
       " '/product/detail.html?product_no=24792&cate_no=47&display_group=1',\n",
       " '/product/detail.html?product_no=24730&cate_no=47&display_group=1',\n",
       " '/product/detail.html?product_no=24664&cate_no=47&display_group=1']"
      ]
     },
     "execution_count": 125,
     "metadata": {},
     "output_type": "execute_result"
    }
   ],
   "source": [
    "product_url"
   ]
  },
  {
   "cell_type": "code",
   "execution_count": 127,
   "metadata": {},
   "outputs": [],
   "source": [
    "pro_url_list = []\n",
    "for i in range(len(product_url)):\n",
    "    url_list = base_url + product_url[i]\n",
    "    pro_url_list.append(url_list)"
   ]
  },
  {
   "cell_type": "code",
   "execution_count": 128,
   "metadata": {},
   "outputs": [
    {
     "data": {
      "text/plain": [
       "['http://www.snipershop.co.kr/product/detail.html?product_no=21034&cate_no=47&display_group=1',\n",
       " 'http://www.snipershop.co.kr/product/detail.html?product_no=20559&cate_no=47&display_group=1',\n",
       " 'http://www.snipershop.co.kr/product/detail.html?product_no=24792&cate_no=47&display_group=1',\n",
       " 'http://www.snipershop.co.kr/product/detail.html?product_no=24730&cate_no=47&display_group=1',\n",
       " 'http://www.snipershop.co.kr/product/detail.html?product_no=24664&cate_no=47&display_group=1']"
      ]
     },
     "execution_count": 128,
     "metadata": {},
     "output_type": "execute_result"
    }
   ],
   "source": [
    "pro_url_list"
   ]
  },
  {
   "cell_type": "code",
   "execution_count": 134,
   "metadata": {},
   "outputs": [],
   "source": [
    "for i in pro_url_list:\n",
    "    res = requests.get(i,headers =  {'user-agent' : ('Mozilla/5.0 (Windows NT 10.0; Win64; x64) AppleWebKit/537.36 (KHTML, like Gecko) Chrome/72.0.3626.119 Safari/537.36')})\n",
    "    html = BeautifulSoup(res.content,'html.parser')\n",
    "    table = html.find('div',{'class','thumbnail'})\n",
    "    img = table.find_all('img')"
   ]
  },
  {
   "cell_type": "code",
   "execution_count": 135,
   "metadata": {},
   "outputs": [
    {
     "data": {
      "text/plain": [
       "[<img alt=\"렛지 배색 두줄니트\" class=\" \" src=\"//www.snipershop.co.kr/web/product/medium/201812/9eb3db784a6b7120ff6f12b729495dec.jpg\"/>]"
      ]
     },
     "execution_count": 135,
     "metadata": {},
     "output_type": "execute_result"
    }
   ],
   "source": [
    "img"
   ]
  },
  {
   "cell_type": "code",
   "execution_count": 136,
   "metadata": {},
   "outputs": [],
   "source": [
    "img_src = []\n",
    "for i in range(len(img)):\n",
    "    img_s = img[i]['src']\n",
    "    img_src.append(img_s)"
   ]
  },
  {
   "cell_type": "code",
   "execution_count": 137,
   "metadata": {},
   "outputs": [
    {
     "data": {
      "text/plain": [
       "['//www.snipershop.co.kr/web/product/medium/201812/9eb3db784a6b7120ff6f12b729495dec.jpg']"
      ]
     },
     "execution_count": 137,
     "metadata": {},
     "output_type": "execute_result"
    }
   ],
   "source": [
    "img_src"
   ]
  },
  {
   "cell_type": "code",
   "execution_count": null,
   "metadata": {},
   "outputs": [],
   "source": []
  },
  {
   "cell_type": "code",
   "execution_count": 138,
   "metadata": {},
   "outputs": [],
   "source": [
    "list = pd.DataFrame({'color_view' : []})\n",
    "\n",
    "start_url = category_list_url[0]\n",
    "#가장먼저 각 카테고리별로 상품들의 페이지를 넘어갈 수 있도록 하기위해서 코드를 짬\n",
    "page_url = category_list_url[0] + '&page=' + '{}'\n",
    "\n",
    "#각 상품카테고리별로 페이지의 수를 세주기 위해서\n",
    "page1 = requests.get(start_url,headers = {'user-agent' : ('Mozilla/5.0 (Windows NT 10.0; Win64; x64) AppleWebKit/537.36 (KHTML, like Gecko) Chrome/72.0.3626.119 Safari/537.36')})\n",
    "\n",
    "page2 = BeautifulSoup(page1.content,'html.parser')\n",
    "#html형식으로 불러온 뒤에 페이지수를 세기 위해서 페이지의 정보를 불러옴\n",
    "page3 = page2.find('div',{'class':'xans-element- xans-product xans-product-normalpaging ec-base-paginate'})\n",
    "page4 = page3.find_all('li',{'class':'xans-record-'})\n",
    "page5=len(page4)\n",
    "\n",
    "for i in range(1,page5+1):\n",
    "    res = requests.get(page_url.format(str(i)),headers = {'user-agent' : ('Mozilla/5.0 (Windows NT 10.0; Win64; x64) AppleWebKit/537.36 (KHTML, like Gecko) Chrome/72.0.3626.119 Safari/537.36')})\n",
    "    html = BeautifulSoup(res.content,'html.parser')\n",
    "    table1 = html.find('div',{'class':'xans-element- xans-product xans-product-listnormal ec-base-product normal'})\n",
    "    table2 = table1.find_all('div',{'class','thumbnail'})\n",
    "    \n",
    "    \n",
    "    product_url=[]\n",
    "    for i in range(len(table2)):\n",
    "        pro = table2[i].find('a')['href']\n",
    "        product_url.append(pro)\n",
    "        \n",
    "    pro_url_list = []\n",
    "    for i in range(len(product_url)):\n",
    "        url_list = base_url + product_url[i]\n",
    "        pro_url_list.append(url_list)\n",
    "        \n",
    "    for i in pro_url_list:\n",
    "        res = requests.get(i,headers =  {'user-agent' : ('Mozilla/5.0 (Windows NT 10.0; Win64; x64) AppleWebKit/537.36 (KHTML, like Gecko) Chrome/72.0.3626.119 Safari/537.36')})\n",
    "        html = BeautifulSoup(res.content,'html.parser')\n",
    "        table = html.find('div',{'class','thumbnail'}) #일단 썸네일만 긁어온 뒤 추후에 생각\n",
    "        img = table.find_all('img')\n",
    "        \n",
    "        src=[]\n",
    "        for i in range(len(img)):\n",
    "            img_s = img[i]['src']\n",
    "            src.append(img_s)\n",
    "        \n",
    "        cv = base_url + src[0]\n",
    "        df = pd.DataFrame({'color_view' :[cv]})\n",
    "        list = list.append(df) # 데이터 프레임 형식으로 저장  "
   ]
  },
  {
   "cell_type": "code",
   "execution_count": 139,
   "metadata": {},
   "outputs": [],
   "source": [
    "list.index = range(len(list)) "
   ]
  },
  {
   "cell_type": "code",
   "execution_count": 140,
   "metadata": {},
   "outputs": [
    {
     "data": {
      "text/html": [
       "<div>\n",
       "<style scoped>\n",
       "    .dataframe tbody tr th:only-of-type {\n",
       "        vertical-align: middle;\n",
       "    }\n",
       "\n",
       "    .dataframe tbody tr th {\n",
       "        vertical-align: top;\n",
       "    }\n",
       "\n",
       "    .dataframe thead th {\n",
       "        text-align: right;\n",
       "    }\n",
       "</style>\n",
       "<table border=\"1\" class=\"dataframe\">\n",
       "  <thead>\n",
       "    <tr style=\"text-align: right;\">\n",
       "      <th></th>\n",
       "      <th>color_view</th>\n",
       "    </tr>\n",
       "  </thead>\n",
       "  <tbody>\n",
       "    <tr>\n",
       "      <th>0</th>\n",
       "      <td>http://www.snipershop.co.kr//www.snipershop.co...</td>\n",
       "    </tr>\n",
       "    <tr>\n",
       "      <th>1</th>\n",
       "      <td>http://www.snipershop.co.kr//www.snipershop.co...</td>\n",
       "    </tr>\n",
       "    <tr>\n",
       "      <th>2</th>\n",
       "      <td>http://www.snipershop.co.kr//www.snipershop.co...</td>\n",
       "    </tr>\n",
       "    <tr>\n",
       "      <th>3</th>\n",
       "      <td>http://www.snipershop.co.kr//www.snipershop.co...</td>\n",
       "    </tr>\n",
       "    <tr>\n",
       "      <th>4</th>\n",
       "      <td>http://www.snipershop.co.kr//www.snipershop.co...</td>\n",
       "    </tr>\n",
       "    <tr>\n",
       "      <th>5</th>\n",
       "      <td>http://www.snipershop.co.kr//www.snipershop.co...</td>\n",
       "    </tr>\n",
       "    <tr>\n",
       "      <th>6</th>\n",
       "      <td>http://www.snipershop.co.kr//www.snipershop.co...</td>\n",
       "    </tr>\n",
       "    <tr>\n",
       "      <th>7</th>\n",
       "      <td>http://www.snipershop.co.kr//www.snipershop.co...</td>\n",
       "    </tr>\n",
       "    <tr>\n",
       "      <th>8</th>\n",
       "      <td>http://www.snipershop.co.kr//www.snipershop.co...</td>\n",
       "    </tr>\n",
       "    <tr>\n",
       "      <th>9</th>\n",
       "      <td>http://www.snipershop.co.kr//www.snipershop.co...</td>\n",
       "    </tr>\n",
       "    <tr>\n",
       "      <th>10</th>\n",
       "      <td>http://www.snipershop.co.kr//www.snipershop.co...</td>\n",
       "    </tr>\n",
       "    <tr>\n",
       "      <th>11</th>\n",
       "      <td>http://www.snipershop.co.kr//www.snipershop.co...</td>\n",
       "    </tr>\n",
       "    <tr>\n",
       "      <th>12</th>\n",
       "      <td>http://www.snipershop.co.kr//www.snipershop.co...</td>\n",
       "    </tr>\n",
       "    <tr>\n",
       "      <th>13</th>\n",
       "      <td>http://www.snipershop.co.kr//www.snipershop.co...</td>\n",
       "    </tr>\n",
       "    <tr>\n",
       "      <th>14</th>\n",
       "      <td>http://www.snipershop.co.kr//www.snipershop.co...</td>\n",
       "    </tr>\n",
       "    <tr>\n",
       "      <th>15</th>\n",
       "      <td>http://www.snipershop.co.kr//www.snipershop.co...</td>\n",
       "    </tr>\n",
       "    <tr>\n",
       "      <th>16</th>\n",
       "      <td>http://www.snipershop.co.kr//www.snipershop.co...</td>\n",
       "    </tr>\n",
       "    <tr>\n",
       "      <th>17</th>\n",
       "      <td>http://www.snipershop.co.kr//www.snipershop.co...</td>\n",
       "    </tr>\n",
       "    <tr>\n",
       "      <th>18</th>\n",
       "      <td>http://www.snipershop.co.kr//www.snipershop.co...</td>\n",
       "    </tr>\n",
       "    <tr>\n",
       "      <th>19</th>\n",
       "      <td>http://www.snipershop.co.kr//www.snipershop.co...</td>\n",
       "    </tr>\n",
       "    <tr>\n",
       "      <th>20</th>\n",
       "      <td>http://www.snipershop.co.kr//www.snipershop.co...</td>\n",
       "    </tr>\n",
       "    <tr>\n",
       "      <th>21</th>\n",
       "      <td>http://www.snipershop.co.kr//www.snipershop.co...</td>\n",
       "    </tr>\n",
       "    <tr>\n",
       "      <th>22</th>\n",
       "      <td>http://www.snipershop.co.kr//www.snipershop.co...</td>\n",
       "    </tr>\n",
       "    <tr>\n",
       "      <th>23</th>\n",
       "      <td>http://www.snipershop.co.kr//www.snipershop.co...</td>\n",
       "    </tr>\n",
       "    <tr>\n",
       "      <th>24</th>\n",
       "      <td>http://www.snipershop.co.kr//www.snipershop.co...</td>\n",
       "    </tr>\n",
       "    <tr>\n",
       "      <th>25</th>\n",
       "      <td>http://www.snipershop.co.kr//www.snipershop.co...</td>\n",
       "    </tr>\n",
       "    <tr>\n",
       "      <th>26</th>\n",
       "      <td>http://www.snipershop.co.kr//www.snipershop.co...</td>\n",
       "    </tr>\n",
       "    <tr>\n",
       "      <th>27</th>\n",
       "      <td>http://www.snipershop.co.kr//www.snipershop.co...</td>\n",
       "    </tr>\n",
       "    <tr>\n",
       "      <th>28</th>\n",
       "      <td>http://www.snipershop.co.kr//www.snipershop.co...</td>\n",
       "    </tr>\n",
       "    <tr>\n",
       "      <th>29</th>\n",
       "      <td>http://www.snipershop.co.kr//www.snipershop.co...</td>\n",
       "    </tr>\n",
       "    <tr>\n",
       "      <th>...</th>\n",
       "      <td>...</td>\n",
       "    </tr>\n",
       "    <tr>\n",
       "      <th>375</th>\n",
       "      <td>http://www.snipershop.co.kr//www.snipershop.co...</td>\n",
       "    </tr>\n",
       "    <tr>\n",
       "      <th>376</th>\n",
       "      <td>http://www.snipershop.co.kr//www.snipershop.co...</td>\n",
       "    </tr>\n",
       "    <tr>\n",
       "      <th>377</th>\n",
       "      <td>http://www.snipershop.co.kr//www.snipershop.co...</td>\n",
       "    </tr>\n",
       "    <tr>\n",
       "      <th>378</th>\n",
       "      <td>http://www.snipershop.co.kr//www.snipershop.co...</td>\n",
       "    </tr>\n",
       "    <tr>\n",
       "      <th>379</th>\n",
       "      <td>http://www.snipershop.co.kr//www.snipershop.co...</td>\n",
       "    </tr>\n",
       "    <tr>\n",
       "      <th>380</th>\n",
       "      <td>http://www.snipershop.co.kr//www.snipershop.co...</td>\n",
       "    </tr>\n",
       "    <tr>\n",
       "      <th>381</th>\n",
       "      <td>http://www.snipershop.co.kr//www.snipershop.co...</td>\n",
       "    </tr>\n",
       "    <tr>\n",
       "      <th>382</th>\n",
       "      <td>http://www.snipershop.co.kr//www.snipershop.co...</td>\n",
       "    </tr>\n",
       "    <tr>\n",
       "      <th>383</th>\n",
       "      <td>http://www.snipershop.co.kr//www.snipershop.co...</td>\n",
       "    </tr>\n",
       "    <tr>\n",
       "      <th>384</th>\n",
       "      <td>http://www.snipershop.co.kr//www.snipershop.co...</td>\n",
       "    </tr>\n",
       "    <tr>\n",
       "      <th>385</th>\n",
       "      <td>http://www.snipershop.co.kr//www.snipershop.co...</td>\n",
       "    </tr>\n",
       "    <tr>\n",
       "      <th>386</th>\n",
       "      <td>http://www.snipershop.co.kr//www.snipershop.co...</td>\n",
       "    </tr>\n",
       "    <tr>\n",
       "      <th>387</th>\n",
       "      <td>http://www.snipershop.co.kr//www.snipershop.co...</td>\n",
       "    </tr>\n",
       "    <tr>\n",
       "      <th>388</th>\n",
       "      <td>http://www.snipershop.co.kr//www.snipershop.co...</td>\n",
       "    </tr>\n",
       "    <tr>\n",
       "      <th>389</th>\n",
       "      <td>http://www.snipershop.co.kr//www.snipershop.co...</td>\n",
       "    </tr>\n",
       "    <tr>\n",
       "      <th>390</th>\n",
       "      <td>http://www.snipershop.co.kr//www.snipershop.co...</td>\n",
       "    </tr>\n",
       "    <tr>\n",
       "      <th>391</th>\n",
       "      <td>http://www.snipershop.co.kr//www.snipershop.co...</td>\n",
       "    </tr>\n",
       "    <tr>\n",
       "      <th>392</th>\n",
       "      <td>http://www.snipershop.co.kr//www.snipershop.co...</td>\n",
       "    </tr>\n",
       "    <tr>\n",
       "      <th>393</th>\n",
       "      <td>http://www.snipershop.co.kr//www.snipershop.co...</td>\n",
       "    </tr>\n",
       "    <tr>\n",
       "      <th>394</th>\n",
       "      <td>http://www.snipershop.co.kr//www.snipershop.co...</td>\n",
       "    </tr>\n",
       "    <tr>\n",
       "      <th>395</th>\n",
       "      <td>http://www.snipershop.co.kr//www.snipershop.co...</td>\n",
       "    </tr>\n",
       "    <tr>\n",
       "      <th>396</th>\n",
       "      <td>http://www.snipershop.co.kr//www.snipershop.co...</td>\n",
       "    </tr>\n",
       "    <tr>\n",
       "      <th>397</th>\n",
       "      <td>http://www.snipershop.co.kr//www.snipershop.co...</td>\n",
       "    </tr>\n",
       "    <tr>\n",
       "      <th>398</th>\n",
       "      <td>http://www.snipershop.co.kr//www.snipershop.co...</td>\n",
       "    </tr>\n",
       "    <tr>\n",
       "      <th>399</th>\n",
       "      <td>http://www.snipershop.co.kr//www.snipershop.co...</td>\n",
       "    </tr>\n",
       "    <tr>\n",
       "      <th>400</th>\n",
       "      <td>http://www.snipershop.co.kr//www.snipershop.co...</td>\n",
       "    </tr>\n",
       "    <tr>\n",
       "      <th>401</th>\n",
       "      <td>http://www.snipershop.co.kr//www.snipershop.co...</td>\n",
       "    </tr>\n",
       "    <tr>\n",
       "      <th>402</th>\n",
       "      <td>http://www.snipershop.co.kr//www.snipershop.co...</td>\n",
       "    </tr>\n",
       "    <tr>\n",
       "      <th>403</th>\n",
       "      <td>http://www.snipershop.co.kr//www.snipershop.co...</td>\n",
       "    </tr>\n",
       "    <tr>\n",
       "      <th>404</th>\n",
       "      <td>http://www.snipershop.co.kr//www.snipershop.co...</td>\n",
       "    </tr>\n",
       "  </tbody>\n",
       "</table>\n",
       "<p>405 rows × 1 columns</p>\n",
       "</div>"
      ],
      "text/plain": [
       "                                            color_view\n",
       "0    http://www.snipershop.co.kr//www.snipershop.co...\n",
       "1    http://www.snipershop.co.kr//www.snipershop.co...\n",
       "2    http://www.snipershop.co.kr//www.snipershop.co...\n",
       "3    http://www.snipershop.co.kr//www.snipershop.co...\n",
       "4    http://www.snipershop.co.kr//www.snipershop.co...\n",
       "5    http://www.snipershop.co.kr//www.snipershop.co...\n",
       "6    http://www.snipershop.co.kr//www.snipershop.co...\n",
       "7    http://www.snipershop.co.kr//www.snipershop.co...\n",
       "8    http://www.snipershop.co.kr//www.snipershop.co...\n",
       "9    http://www.snipershop.co.kr//www.snipershop.co...\n",
       "10   http://www.snipershop.co.kr//www.snipershop.co...\n",
       "11   http://www.snipershop.co.kr//www.snipershop.co...\n",
       "12   http://www.snipershop.co.kr//www.snipershop.co...\n",
       "13   http://www.snipershop.co.kr//www.snipershop.co...\n",
       "14   http://www.snipershop.co.kr//www.snipershop.co...\n",
       "15   http://www.snipershop.co.kr//www.snipershop.co...\n",
       "16   http://www.snipershop.co.kr//www.snipershop.co...\n",
       "17   http://www.snipershop.co.kr//www.snipershop.co...\n",
       "18   http://www.snipershop.co.kr//www.snipershop.co...\n",
       "19   http://www.snipershop.co.kr//www.snipershop.co...\n",
       "20   http://www.snipershop.co.kr//www.snipershop.co...\n",
       "21   http://www.snipershop.co.kr//www.snipershop.co...\n",
       "22   http://www.snipershop.co.kr//www.snipershop.co...\n",
       "23   http://www.snipershop.co.kr//www.snipershop.co...\n",
       "24   http://www.snipershop.co.kr//www.snipershop.co...\n",
       "25   http://www.snipershop.co.kr//www.snipershop.co...\n",
       "26   http://www.snipershop.co.kr//www.snipershop.co...\n",
       "27   http://www.snipershop.co.kr//www.snipershop.co...\n",
       "28   http://www.snipershop.co.kr//www.snipershop.co...\n",
       "29   http://www.snipershop.co.kr//www.snipershop.co...\n",
       "..                                                 ...\n",
       "375  http://www.snipershop.co.kr//www.snipershop.co...\n",
       "376  http://www.snipershop.co.kr//www.snipershop.co...\n",
       "377  http://www.snipershop.co.kr//www.snipershop.co...\n",
       "378  http://www.snipershop.co.kr//www.snipershop.co...\n",
       "379  http://www.snipershop.co.kr//www.snipershop.co...\n",
       "380  http://www.snipershop.co.kr//www.snipershop.co...\n",
       "381  http://www.snipershop.co.kr//www.snipershop.co...\n",
       "382  http://www.snipershop.co.kr//www.snipershop.co...\n",
       "383  http://www.snipershop.co.kr//www.snipershop.co...\n",
       "384  http://www.snipershop.co.kr//www.snipershop.co...\n",
       "385  http://www.snipershop.co.kr//www.snipershop.co...\n",
       "386  http://www.snipershop.co.kr//www.snipershop.co...\n",
       "387  http://www.snipershop.co.kr//www.snipershop.co...\n",
       "388  http://www.snipershop.co.kr//www.snipershop.co...\n",
       "389  http://www.snipershop.co.kr//www.snipershop.co...\n",
       "390  http://www.snipershop.co.kr//www.snipershop.co...\n",
       "391  http://www.snipershop.co.kr//www.snipershop.co...\n",
       "392  http://www.snipershop.co.kr//www.snipershop.co...\n",
       "393  http://www.snipershop.co.kr//www.snipershop.co...\n",
       "394  http://www.snipershop.co.kr//www.snipershop.co...\n",
       "395  http://www.snipershop.co.kr//www.snipershop.co...\n",
       "396  http://www.snipershop.co.kr//www.snipershop.co...\n",
       "397  http://www.snipershop.co.kr//www.snipershop.co...\n",
       "398  http://www.snipershop.co.kr//www.snipershop.co...\n",
       "399  http://www.snipershop.co.kr//www.snipershop.co...\n",
       "400  http://www.snipershop.co.kr//www.snipershop.co...\n",
       "401  http://www.snipershop.co.kr//www.snipershop.co...\n",
       "402  http://www.snipershop.co.kr//www.snipershop.co...\n",
       "403  http://www.snipershop.co.kr//www.snipershop.co...\n",
       "404  http://www.snipershop.co.kr//www.snipershop.co...\n",
       "\n",
       "[405 rows x 1 columns]"
      ]
     },
     "execution_count": 140,
     "metadata": {},
     "output_type": "execute_result"
    }
   ],
   "source": [
    "list"
   ]
  },
  {
   "cell_type": "code",
   "execution_count": null,
   "metadata": {},
   "outputs": [],
   "source": []
  }
 ],
 "metadata": {
  "kernelspec": {
   "display_name": "Python 3",
   "language": "python",
   "name": "python3"
  },
  "language_info": {
   "codemirror_mode": {
    "name": "ipython",
    "version": 3
   },
   "file_extension": ".py",
   "mimetype": "text/x-python",
   "name": "python",
   "nbconvert_exporter": "python",
   "pygments_lexer": "ipython3",
   "version": "3.6.5"
  }
 },
 "nbformat": 4,
 "nbformat_minor": 2
}
