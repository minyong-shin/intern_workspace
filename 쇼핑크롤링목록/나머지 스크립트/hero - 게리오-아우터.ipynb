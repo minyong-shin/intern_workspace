{
 "cells": [
  {
   "cell_type": "markdown",
   "metadata": {},
   "source": [
    "# 종합"
   ]
  },
  {
   "cell_type": "markdown",
   "metadata": {},
   "source": [
    "#### 필요한 라이브러리 import"
   ]
  },
  {
   "cell_type": "code",
   "execution_count": 5,
   "metadata": {},
   "outputs": [],
   "source": [
    "import requests # 웹 페이지 소스를 얻기 위한 패키지\n",
    "from bs4 import BeautifulSoup # 웹 페이지 소스를 얻기 위한 패키지, 더 간단히 얻을 수 있다는 장점이 있다고 한다.\n",
    "                              # (!pip install beautifulsoup4 으로 다운받을 수 있다.)\n",
    "import pandas as pd # 데이터를 처리하기 위한 가장 기본적인 패키지\n",
    "import time # 사이트를 불러올 때, 작업 지연시간을 지정해주기 위한 패키지이다. (사이트가 늦게 켜지면 에러가 발생하기 때문)"
   ]
  },
  {
   "cell_type": "code",
   "execution_count": 6,
   "metadata": {},
   "outputs": [],
   "source": [
    "base_url = 'http://www.gerio.co.kr' # 게리오 초기 홈 페이지"
   ]
  },
  {
   "cell_type": "markdown",
   "metadata": {},
   "source": [
    "#### 각 카테고리별 전체상품 페이지 접근 주소"
   ]
  },
  {
   "cell_type": "code",
   "execution_count": 8,
   "metadata": {},
   "outputs": [],
   "source": [
    "res = requests.get(base_url) # 초기 홈페이지의 주소획득\n",
    "    \n",
    "html = BeautifulSoup(res.content, 'html.parser') # 홈페이지의 html 소스 획득\n",
    "table = html.find_all('div', { 'class': 't_cate' }) # 홈페이지 내에서 카테고리의 종류를 가지고 오기 위한 클래스를 획득하는 것"
   ]
  },
  {
   "cell_type": "code",
   "execution_count": 5,
   "metadata": {
    "scrolled": true
   },
   "outputs": [
    {
     "data": {
      "text/plain": [
       "'\\n\\n\\n\\n\\n\\n\\n신상품10%세일\\n탑 베스트100\\nHELP ME!\\n문의게시판\\n미확인입금자\\n주문/배송조회\\n개인결제\\nC/S CENTER\\n1544-3668\\n평일 10:00~17:00\\n점심 13:00~14:00\\n토,일,공휴일 휴무\\n게시판으로 문의 주세요\\n\\n\\n\\n\\n\\n\\n\\nOUTER\\n패딩조끼/패딩점퍼/돕바\\n자켓/점퍼\\n항공점퍼/블루종\\n코트/블레이져/수트\\n가디건\\n레더자켓/무스탕\\n후드/집업\\n\\n\\n\\n\\nTEE\\n니트\\n긴팔티\\n맨투맨\\n폴라넥\\n후드티\\n헨리넥\\n카라티\\n반팔티/7부티\\n민소매/나시\\n브랜드맨투맨\\n\\n\\n\\n\\nSHIRTS\\n솔리드셔츠\\n체크/패턴\\n헨리넥/데님\\n빅사이즈\\n\\n\\n\\n\\n\\nPANTS\\n키플레이스 +5cm jean ↑\\n청바지(일자/스키니/보이핏)\\n슬랙스\\n기모/본딩/모직팬츠\\n면바지/카고팬츠\\n밴딩팬츠\\n디스트로이드/컷팅진\\n빅사이즈팬츠\\n디자인&프리미엄진\\n반바지/7부\\n\\n\\n\\n\\n\\n\\nTRAINING\\n트레이닝 세트\\n트레이닝 팬츠\\n트레이닝 상의\\n배기팬츠/반바지\\n휘트니스웨어\\n\\n\\n\\n\\nSHOES\\n키높이슈즈\\n스니커즈/슬립온/운동화\\n구두/로퍼\\n워커\\n샌들/쪼리/슬리퍼\\n키높이깔창\\n\\n\\n\\n\\nACC\\n모자\\n가방\\n벨트/지갑/키링\\n시계\\n넥타이/보타이/스카프\\n반지/팔찌/목걸이\\n선글라스/안경\\n뷰티\\n양말/언더웨어\\n드론\\n\\n\\n\\n\\nKEYPLACE +5CM JEAN\\n\\n1+1 할인\\n빅사이즈\\n베이직 아이템\\n9,900원#\\n\\n\\n\\n\\n\\n\\n\\n\\n\\n'"
      ]
     },
     "execution_count": 5,
     "metadata": {},
     "output_type": "execute_result"
    }
   ],
   "source": [
    "table[0].text"
   ]
  },
  {
   "cell_type": "code",
   "execution_count": 17,
   "metadata": {},
   "outputs": [],
   "source": [
    "category_list = [] # 각 카테고리별 접근 href 저장\n",
    "category_list_name = [] # 각 카테고리별 이름을 저장\n",
    "for i in range(len(table)) : # 각 카테고리의 href와 이름을 저장하기 위한 반복문.\n",
    "    category = table[i].find('a')['href']\n",
    "    category_name = table[i].find('a').text\n",
    "    category_list.append(category)\n",
    "    category_list_name.append(category_name)"
   ]
  },
  {
   "cell_type": "code",
   "execution_count": 18,
   "metadata": {},
   "outputs": [
    {
     "data": {
      "text/plain": [
       "['#none',\n",
       " '/shop/shopbrand.html?xcode=059&type=P',\n",
       " '/shop/bestseller.html?xcode=BEST',\n",
       " '/shop/shopbrand.html?xcode=045&type=N&mcode=003',\n",
       " '/shop/shopbrand.html?xcode=046&type=Y',\n",
       " '/shop/shopbrand.html?xcode=048&type=Y',\n",
       " '/shop/shopbrand.html?xcode=047&type=Y',\n",
       " '/shop/shopbrand.html?xcode=045&type=Y',\n",
       " '/shop/shopbrand.html?xcode=050&type=Y',\n",
       " '/shop/shopbrand.html?xcode=054&type=Y',\n",
       " '/shop/shopbrand.html?xcode=044&type=Y',\n",
       " '/shop/shopbrand.html?xcode=045&type=N&mcode=009']"
      ]
     },
     "execution_count": 18,
     "metadata": {},
     "output_type": "execute_result"
    }
   ],
   "source": [
    "category_list"
   ]
  },
  {
   "cell_type": "code",
   "execution_count": 19,
   "metadata": {},
   "outputs": [
    {
     "data": {
      "text/plain": [
       "['',\n",
       " 'NEW10%신상품10%',\n",
       " 'BEST100베스트100',\n",
       " 'JEANS청바지',\n",
       " 'OUTER아우터',\n",
       " 'TEE티',\n",
       " 'SHIRTS셔츠',\n",
       " 'PANTS팬츠',\n",
       " 'TRAINING트레이닝',\n",
       " 'SHOES슈즈',\n",
       " 'ACCESSORY악세사리',\n",
       " 'KEYPLACE+5CM JEAN키가 커보이는 팬츠']"
      ]
     },
     "execution_count": 19,
     "metadata": {},
     "output_type": "execute_result"
    }
   ],
   "source": [
    "category_list_name"
   ]
  },
  {
   "cell_type": "code",
   "execution_count": 20,
   "metadata": {},
   "outputs": [],
   "source": [
    "category_list_name = category_list_name[3:8] # 사용할 카테고리를 지정"
   ]
  },
  {
   "cell_type": "code",
   "execution_count": 21,
   "metadata": {},
   "outputs": [
    {
     "data": {
      "text/plain": [
       "['JEANS청바지', 'OUTER아우터', 'TEE티', 'SHIRTS셔츠', 'PANTS팬츠']"
      ]
     },
     "execution_count": 21,
     "metadata": {},
     "output_type": "execute_result"
    }
   ],
   "source": [
    "category_list_name # 사용할 카테고리 이름을 지정"
   ]
  },
  {
   "cell_type": "code",
   "execution_count": 22,
   "metadata": {
    "scrolled": false
   },
   "outputs": [
    {
     "data": {
      "text/plain": [
       "['#none',\n",
       " '/shop/shopbrand.html?xcode=059&type=P',\n",
       " '/shop/bestseller.html?xcode=BEST',\n",
       " '/shop/shopbrand.html?xcode=045&type=N&mcode=003',\n",
       " '/shop/shopbrand.html?xcode=046&type=Y',\n",
       " '/shop/shopbrand.html?xcode=048&type=Y',\n",
       " '/shop/shopbrand.html?xcode=047&type=Y',\n",
       " '/shop/shopbrand.html?xcode=045&type=Y',\n",
       " '/shop/shopbrand.html?xcode=050&type=Y',\n",
       " '/shop/shopbrand.html?xcode=054&type=Y',\n",
       " '/shop/shopbrand.html?xcode=044&type=Y',\n",
       " '/shop/shopbrand.html?xcode=045&type=N&mcode=009']"
      ]
     },
     "execution_count": 22,
     "metadata": {},
     "output_type": "execute_result"
    }
   ],
   "source": [
    "category_list"
   ]
  },
  {
   "cell_type": "code",
   "execution_count": 23,
   "metadata": {},
   "outputs": [],
   "source": [
    "category_list = category_list[3:8] # 필요한 카테고리만 추출 [ 아우터, 티, 셔츠, 팬츠, 트레이닝복 ]"
   ]
  },
  {
   "cell_type": "code",
   "execution_count": 24,
   "metadata": {},
   "outputs": [
    {
     "data": {
      "text/plain": [
       "['/shop/shopbrand.html?xcode=045&type=N&mcode=003',\n",
       " '/shop/shopbrand.html?xcode=046&type=Y',\n",
       " '/shop/shopbrand.html?xcode=048&type=Y',\n",
       " '/shop/shopbrand.html?xcode=047&type=Y',\n",
       " '/shop/shopbrand.html?xcode=045&type=Y']"
      ]
     },
     "execution_count": 24,
     "metadata": {},
     "output_type": "execute_result"
    }
   ],
   "source": [
    "category_list"
   ]
  },
  {
   "cell_type": "code",
   "execution_count": 25,
   "metadata": {},
   "outputs": [],
   "source": [
    "category_list_url = [] # 각 카테고리별 접근 주소 저장\n",
    "for i in range(len(category_list)) : # base_url과 각 카테고리의 href를 합쳐야 해당 카테고리 주소로 접근할 수 있으므로 합쳐주는 작업을 진행하는 반복문\n",
    "    url = base_url + category_list[i]\n",
    "    category_list_url.append(url)"
   ]
  },
  {
   "cell_type": "code",
   "execution_count": 26,
   "metadata": {},
   "outputs": [
    {
     "data": {
      "text/plain": [
       "['http://www.gerio.co.kr/shop/shopbrand.html?xcode=045&type=N&mcode=003',\n",
       " 'http://www.gerio.co.kr/shop/shopbrand.html?xcode=046&type=Y',\n",
       " 'http://www.gerio.co.kr/shop/shopbrand.html?xcode=048&type=Y',\n",
       " 'http://www.gerio.co.kr/shop/shopbrand.html?xcode=047&type=Y',\n",
       " 'http://www.gerio.co.kr/shop/shopbrand.html?xcode=045&type=Y']"
      ]
     },
     "execution_count": 26,
     "metadata": {},
     "output_type": "execute_result"
    }
   ],
   "source": [
    "category_list_url"
   ]
  },
  {
   "cell_type": "markdown",
   "metadata": {},
   "source": [
    "### 각 카테고리별로 따로 실행을 한다면 빠른 처리속도를 가져올 수 있음.\n",
    "\n",
    "### 여기서 정리하고 주소만 바꿔서 이후 여러개 동시 실행"
   ]
  },
  {
   "cell_type": "markdown",
   "metadata": {},
   "source": [
    "#### 아우터 카테코리 상품 주소 저장"
   ]
  },
  {
   "cell_type": "code",
   "execution_count": 29,
   "metadata": {},
   "outputs": [
    {
     "data": {
      "text/plain": [
       "'http://www.gerio.co.kr/shop/shopbrand.html?xcode=046&type=Y&page=0'"
      ]
     },
     "execution_count": 29,
     "metadata": {},
     "output_type": "execute_result"
    }
   ],
   "source": [
    "category_list_url[1] + '&page=' + str(0) # 게리오 사이트는 페이지수가 넘어 갈수록 끝에 &page=1 , &page=2 , &page=3 형식으로 일정한 패턴을 가진다."
   ]
  },
  {
   "cell_type": "code",
   "execution_count": 30,
   "metadata": {},
   "outputs": [],
   "source": [
    "list = pd.DataFrame({'color_view' : [], 'size' : []})\n",
    "\n",
    "start_url = category_list_url[1]\n",
    "start_url_name = category_list_url[1]\n",
    "page_url = category_list_url[1] + '&page=' + '{}'\n",
    "\n",
    "\n",
    "page_1 = requests.get(start_url)\n",
    "page_2 = BeautifulSoup(page_1.content, 'html.parser')\n",
    "page_3 = page_2.find('div', {'class' : 'item-page'}) # 상품 페이지 클래스 획득\n",
    "page_4 = page_3.find_all('a')\n",
    "page_5 = len(page_4) # 페이지 수를 각 카테고리 별로 일일히 다르게 주기보다 페이지 수의 소스를 가지고와 자동으로 추출하기 위해 진행하였다.\n",
    "        \n",
    "for page in range(1,page_5) : # 각 페이지를 반복해서 데이터를 수집하기 위한 반복문\n",
    "    res = requests.get(page_url.format(str(page)))\n",
    "    html = BeautifulSoup(res.content, 'html.parser') # html 소스 획득\n",
    "    table = html.find_all('div', { 'class': 'prod_thumb' }) # 각각의 상품에 접근하기 위해 클래스획득\n",
    "        \n",
    "    products = []\n",
    "    for i in range(len(table)) :\n",
    "        prod = table[i].find('a')['href'] # 카테고리의 href를 가지고 온것 처럼 한 카테고리의 한 상품에 대한 href를 가지고 오는 것\n",
    "        products.append(prod)\n",
    "    \n",
    "    url_list = []\n",
    "    for i in range(len(products)) :\n",
    "        url = base_url + products[i] # 이를 base_url과 합쳐서 각각의 상품에 접근할 수 있는 url을 획득한다.\n",
    "        url_list.append(url)\n",
    "            \n",
    "    for product_url in url_list :\n",
    "        res = requests.get(product_url) # 주소획득\n",
    "        html = BeautifulSoup(res.content, 'html.parser') # html 소스 획득\n",
    "        table = html.find('div', { 'class': 'prd-detail' }) # 각 상품의 이미지를 추출하기 위한 클래스획득\n",
    "        img = table.find_all('img')\n",
    "            \n",
    "        color_view = []\n",
    "        size_table = []\n",
    "            \n",
    "        src = []\n",
    "        for i in range(len(img)) :\n",
    "            img_src = img[i]['src'] # 이미지의 주소에 대한 정보는 img 태그 내의 src 속성에 있다. 이를 가지고 오는 것.\n",
    "            src.append(img_src)\n",
    " # 각 상품에 대한 color_view(옷 이미지), size(사이즈표) 를 추출하기 위한 반복문 구문인데, \n",
    " # 게리오의 페이지 소스에는 옷 이미지에 해당하는 곳에 color_view라는 단어가 있고,\n",
    " # 사이즈표 이미지에 해당하는 곳에 size, SIZE 라는 단어가 존재하므로 이를 통해 옷이미지와 사이즈표를 추출하였다.\n",
    "        for result in src :\n",
    "            if \"color view\" in result :\n",
    "                x = result \n",
    "                if x not in color_view :\n",
    "                    color_view.append(x)\n",
    "            \n",
    "            elif \"SIZE\" in result or \"size\" in result:\n",
    "                x = result\n",
    "                if x not in size_table :\n",
    "                    size_table.append(x)\n",
    "        \n",
    "            else :\n",
    "                pass\n",
    "        \n",
    "        if color_view and size_table : # 각각의 옷이미지와 사이즈표가 두 가지 이상 있는 상품이 있으므로 필요한 하나만을 추출.\n",
    "            cv = color_view[0]\n",
    "            sz = size_table[0]\n",
    "            df = pd.DataFrame({'color_view' :[cv], 'size' : [sz]})\n",
    "            list = list.append(df) # 데이터 프레임 형식으로 저장"
   ]
  },
  {
   "cell_type": "code",
   "execution_count": 31,
   "metadata": {},
   "outputs": [],
   "source": [
    "list.index = range(len(list)) # append한 것이기 때문에 인덱스가 엉망이므로, 재설정을 해줌."
   ]
  },
  {
   "cell_type": "code",
   "execution_count": 32,
   "metadata": {
    "scrolled": true
   },
   "outputs": [
    {
     "data": {
      "text/html": [
       "<div>\n",
       "<style scoped>\n",
       "    .dataframe tbody tr th:only-of-type {\n",
       "        vertical-align: middle;\n",
       "    }\n",
       "\n",
       "    .dataframe tbody tr th {\n",
       "        vertical-align: top;\n",
       "    }\n",
       "\n",
       "    .dataframe thead th {\n",
       "        text-align: right;\n",
       "    }\n",
       "</style>\n",
       "<table border=\"1\" class=\"dataframe\">\n",
       "  <thead>\n",
       "    <tr style=\"text-align: right;\">\n",
       "      <th></th>\n",
       "      <th>color_view</th>\n",
       "      <th>size</th>\n",
       "    </tr>\n",
       "  </thead>\n",
       "  <tbody>\n",
       "    <tr>\n",
       "      <th>0</th>\n",
       "      <td>http://img.gerio.co.kr/outer/LEEN_149outer/col...</td>\n",
       "      <td>http://img.gerio.co.kr/outer/LEEN_149outer/SIZ...</td>\n",
       "    </tr>\n",
       "    <tr>\n",
       "      <th>1</th>\n",
       "      <td>http://img.gerio.co.kr/outer/ADL_03outer/color...</td>\n",
       "      <td>http://img.gerio.co.kr/outer/ADL_03outer/SIZE.jpg</td>\n",
       "    </tr>\n",
       "    <tr>\n",
       "      <th>2</th>\n",
       "      <td>http://img.gerio.co.kr/JSW/outer/LEEN_167outer...</td>\n",
       "      <td>http://img.gerio.co.kr/JSW/outer/LEEN_167outer...</td>\n",
       "    </tr>\n",
       "    <tr>\n",
       "      <th>3</th>\n",
       "      <td>http://img.gerio.co.kr/outer/ADL_08outer/color...</td>\n",
       "      <td>http://img.gerio.co.kr/outer/ADL_08outer/SIZE.jpg</td>\n",
       "    </tr>\n",
       "    <tr>\n",
       "      <th>4</th>\n",
       "      <td>http://img.gerio.co.kr/outer/IP_03-1outer/colo...</td>\n",
       "      <td>http://img.gerio.co.kr/outer/IP_03-1outer/SIZE...</td>\n",
       "    </tr>\n",
       "    <tr>\n",
       "      <th>5</th>\n",
       "      <td>http://img.gerio.co.kr/outer/LEM_05outer/color...</td>\n",
       "      <td>http://img.gerio.co.kr/outer/LEM_05outer/SIZE.jpg</td>\n",
       "    </tr>\n",
       "    <tr>\n",
       "      <th>6</th>\n",
       "      <td>http://img.gerio.co.kr/JSW/outer/WH_62outer/co...</td>\n",
       "      <td>http://img.gerio.co.kr/JSW/outer/WH_62outer/SI...</td>\n",
       "    </tr>\n",
       "    <tr>\n",
       "      <th>7</th>\n",
       "      <td>http://img.gerio.co.kr/outer/KT_48outer/color ...</td>\n",
       "      <td>http://img.gerio.co.kr/outer/KT_48outer/SIZE.jpg</td>\n",
       "    </tr>\n",
       "    <tr>\n",
       "      <th>8</th>\n",
       "      <td>http://img.gerio.co.kr/JSW/outer/EZ_26outer/co...</td>\n",
       "      <td>http://img.gerio.co.kr/JSW/outer/EZ_26outer/SI...</td>\n",
       "    </tr>\n",
       "    <tr>\n",
       "      <th>9</th>\n",
       "      <td>http://img.gerio.co.kr/JSW/outer/PN_28outer/co...</td>\n",
       "      <td>http://img.gerio.co.kr/JSW/outer/PN_28outer/SI...</td>\n",
       "    </tr>\n",
       "    <tr>\n",
       "      <th>10</th>\n",
       "      <td>http://img.gerio.co.kr/JSW/set/POI_02-1set/col...</td>\n",
       "      <td>http://img.gerio.co.kr/JSW/set/POI_02-1set/SIZ...</td>\n",
       "    </tr>\n",
       "    <tr>\n",
       "      <th>11</th>\n",
       "      <td>http://img.gerio.co.kr/JSW/outer/POI_02outer/c...</td>\n",
       "      <td>http://img.gerio.co.kr/JSW/outer/POI_02outer/S...</td>\n",
       "    </tr>\n",
       "    <tr>\n",
       "      <th>12</th>\n",
       "      <td>http://img.gerio.co.kr/JSW/outer/HIT_07outer/c...</td>\n",
       "      <td>http://img.gerio.co.kr/JSW/outer/HIT_07outer/S...</td>\n",
       "    </tr>\n",
       "    <tr>\n",
       "      <th>13</th>\n",
       "      <td>http://img.gerio.co.kr/JSW/outer/FNL_57outer/c...</td>\n",
       "      <td>http://img.gerio.co.kr/JSW/outer/FNL_57outer/S...</td>\n",
       "    </tr>\n",
       "    <tr>\n",
       "      <th>14</th>\n",
       "      <td>http://img.gerio.co.kr/JSW/outer/RW_318outer/c...</td>\n",
       "      <td>http://img.gerio.co.kr/JSW/outer/RW_318outer/S...</td>\n",
       "    </tr>\n",
       "    <tr>\n",
       "      <th>15</th>\n",
       "      <td>http://img.gerio.co.kr/JSW/outer/LW_67outer/co...</td>\n",
       "      <td>http://img.gerio.co.kr/JSW/outer/LW_67outer/SI...</td>\n",
       "    </tr>\n",
       "    <tr>\n",
       "      <th>16</th>\n",
       "      <td>http://img.gerio.co.kr/JSW/outer/BRS_10outer/c...</td>\n",
       "      <td>http://img.gerio.co.kr/JSW/outer/BRS_10outer/S...</td>\n",
       "    </tr>\n",
       "    <tr>\n",
       "      <th>17</th>\n",
       "      <td>http://img.gerio.co.kr/JSW/outer/WH_63outer/co...</td>\n",
       "      <td>http://img.gerio.co.kr/JSW/outer/WH_63outer/SI...</td>\n",
       "    </tr>\n",
       "    <tr>\n",
       "      <th>18</th>\n",
       "      <td>http://img.gerio.co.kr/JSW/outer/WH_62outer/co...</td>\n",
       "      <td>http://img.gerio.co.kr/JSW/outer/WH_62outer/SI...</td>\n",
       "    </tr>\n",
       "    <tr>\n",
       "      <th>19</th>\n",
       "      <td>http://img.gerio.co.kr/JSW/outer/BRS_08outer/c...</td>\n",
       "      <td>http://img.gerio.co.kr/JSW/outer/BRS_08outer/S...</td>\n",
       "    </tr>\n",
       "    <tr>\n",
       "      <th>20</th>\n",
       "      <td>http://img.gerio.co.kr/JSW/outer/JER_09outer/c...</td>\n",
       "      <td>http://img.gerio.co.kr/JSW/outer/JER_09outer/S...</td>\n",
       "    </tr>\n",
       "    <tr>\n",
       "      <th>21</th>\n",
       "      <td>http://img.gerio.co.kr/JSW/outer/PN_17outer/co...</td>\n",
       "      <td>http://img.gerio.co.kr/JSW/outer/PN_17outer/SI...</td>\n",
       "    </tr>\n",
       "    <tr>\n",
       "      <th>22</th>\n",
       "      <td>http://img.gerio.co.kr/JSW/outer/SE_91outer/co...</td>\n",
       "      <td>http://img.gerio.co.kr/JSW/outer/SE_91outer/SI...</td>\n",
       "    </tr>\n",
       "    <tr>\n",
       "      <th>23</th>\n",
       "      <td>http://img.gerio.co.kr/JSW/outer/DD_09outer/co...</td>\n",
       "      <td>http://img.gerio.co.kr/JSW/outer/DD_09outer/SI...</td>\n",
       "    </tr>\n",
       "    <tr>\n",
       "      <th>24</th>\n",
       "      <td>http://img.gerio.co.kr/JSW/outer/YN_53outer/co...</td>\n",
       "      <td>http://img.gerio.co.kr/JSW/outer/YN_53outer/SI...</td>\n",
       "    </tr>\n",
       "    <tr>\n",
       "      <th>25</th>\n",
       "      <td>http://img.gerio.co.kr/JSW/outer/DRE_16outer/c...</td>\n",
       "      <td>http://img.gerio.co.kr/JSW/outer/DRE_16outer/S...</td>\n",
       "    </tr>\n",
       "    <tr>\n",
       "      <th>26</th>\n",
       "      <td>http://img.gerio.co.kr/JSW/outer/ACK_03outer/c...</td>\n",
       "      <td>http://img.gerio.co.kr/JSW/outer/ACK_03outer/S...</td>\n",
       "    </tr>\n",
       "    <tr>\n",
       "      <th>27</th>\n",
       "      <td>http://img.gerio.co.kr/JSW/outer/KT_84outer/co...</td>\n",
       "      <td>http://img.gerio.co.kr/JSW/outer/KT_84outer/SI...</td>\n",
       "    </tr>\n",
       "    <tr>\n",
       "      <th>28</th>\n",
       "      <td>http://img.gerio.co.kr/JSW/outer/RW_317outer/c...</td>\n",
       "      <td>http://img.gerio.co.kr/JSW/outer/RW_317outer/S...</td>\n",
       "    </tr>\n",
       "    <tr>\n",
       "      <th>29</th>\n",
       "      <td>http://img.gerio.co.kr/JSW/outer/LEEN_170outer...</td>\n",
       "      <td>http://img.gerio.co.kr/JSW/outer/LEEN_170outer...</td>\n",
       "    </tr>\n",
       "    <tr>\n",
       "      <th>...</th>\n",
       "      <td>...</td>\n",
       "      <td>...</td>\n",
       "    </tr>\n",
       "    <tr>\n",
       "      <th>204</th>\n",
       "      <td>http://img.gerio.co.kr/outer/ADL_08outer/color...</td>\n",
       "      <td>http://img.gerio.co.kr/outer/ADL_08outer/SIZE.jpg</td>\n",
       "    </tr>\n",
       "    <tr>\n",
       "      <th>205</th>\n",
       "      <td>http://img.gerio.co.kr/outer/IP_03-1outer/colo...</td>\n",
       "      <td>http://img.gerio.co.kr/outer/IP_03-1outer/SIZE...</td>\n",
       "    </tr>\n",
       "    <tr>\n",
       "      <th>206</th>\n",
       "      <td>http://img.gerio.co.kr/outer/LEM_05outer/color...</td>\n",
       "      <td>http://img.gerio.co.kr/outer/LEM_05outer/SIZE.jpg</td>\n",
       "    </tr>\n",
       "    <tr>\n",
       "      <th>207</th>\n",
       "      <td>http://img.gerio.co.kr/JSW/outer/WH_62outer/co...</td>\n",
       "      <td>http://img.gerio.co.kr/JSW/outer/WH_62outer/SI...</td>\n",
       "    </tr>\n",
       "    <tr>\n",
       "      <th>208</th>\n",
       "      <td>http://img.gerio.co.kr/outer/KT_48outer/color ...</td>\n",
       "      <td>http://img.gerio.co.kr/outer/KT_48outer/SIZE.jpg</td>\n",
       "    </tr>\n",
       "    <tr>\n",
       "      <th>209</th>\n",
       "      <td>http://img.gerio.co.kr/outer/DON_201outer/colo...</td>\n",
       "      <td>http://img.gerio.co.kr/outer/DON_201outer/SIZE...</td>\n",
       "    </tr>\n",
       "    <tr>\n",
       "      <th>210</th>\n",
       "      <td>http://img.gerio.co.kr/outer/NB_226outer/color...</td>\n",
       "      <td>http://img.gerio.co.kr/outer/NB_226outer/SIZE.jpg</td>\n",
       "    </tr>\n",
       "    <tr>\n",
       "      <th>211</th>\n",
       "      <td>http://img.gerio.co.kr/outer/REN_21outer/color...</td>\n",
       "      <td>http://img.gerio.co.kr/outer/REN_21outer/SIZE.jpg</td>\n",
       "    </tr>\n",
       "    <tr>\n",
       "      <th>212</th>\n",
       "      <td>http://img.gerio.co.kr/outer/REN_20outer/color...</td>\n",
       "      <td>http://img.gerio.co.kr/outer/REN_20outer/SIZE.jpg</td>\n",
       "    </tr>\n",
       "    <tr>\n",
       "      <th>213</th>\n",
       "      <td>http://img.gerio.co.kr/outer/PM_41outer/color ...</td>\n",
       "      <td>http://img.gerio.co.kr/outer/PM_41outer/SIZE.jpg</td>\n",
       "    </tr>\n",
       "    <tr>\n",
       "      <th>214</th>\n",
       "      <td>http://img.gerio.co.kr/JHY/outer/BYA_21outer/c...</td>\n",
       "      <td>http://img.gerio.co.kr/JHY/outer/BYA_21outer/S...</td>\n",
       "    </tr>\n",
       "    <tr>\n",
       "      <th>215</th>\n",
       "      <td>http://img.gerio.co.kr/JHY/outer/BYA_20outer/c...</td>\n",
       "      <td>http://img.gerio.co.kr/JHY/outer/BYA_20outer/S...</td>\n",
       "    </tr>\n",
       "    <tr>\n",
       "      <th>216</th>\n",
       "      <td>http://img.gerio.co.kr/outer/TCL_01outer/color...</td>\n",
       "      <td>http://img.gerio.co.kr/outer/TCL_01outer/SIZE.jpg</td>\n",
       "    </tr>\n",
       "    <tr>\n",
       "      <th>217</th>\n",
       "      <td>http://img.gerio.co.kr/outer/VIT_01-1outer/col...</td>\n",
       "      <td>http://img.gerio.co.kr/outer/VIT_01-1outer/SIZ...</td>\n",
       "    </tr>\n",
       "    <tr>\n",
       "      <th>218</th>\n",
       "      <td>http://img.gerio.co.kr/outer/RM_40outer/color ...</td>\n",
       "      <td>http://img.gerio.co.kr/outer/RM_40outer/SIZE.jpg</td>\n",
       "    </tr>\n",
       "    <tr>\n",
       "      <th>219</th>\n",
       "      <td>http://img.gerio.co.kr/outer/VIT_01outer/color...</td>\n",
       "      <td>http://img.gerio.co.kr/outer/VIT_01outer/SIZE.jpg</td>\n",
       "    </tr>\n",
       "    <tr>\n",
       "      <th>220</th>\n",
       "      <td>http://img.gerio.co.kr/outer/SEU_02outer/color...</td>\n",
       "      <td>http://img.gerio.co.kr/outer/SEU_02outer/SIZE.jpg</td>\n",
       "    </tr>\n",
       "    <tr>\n",
       "      <th>221</th>\n",
       "      <td>http://img.gerio.co.kr/outer/KT_74outer/color ...</td>\n",
       "      <td>http://img.gerio.co.kr/outer/KT_74outer/SIZE.jpg</td>\n",
       "    </tr>\n",
       "    <tr>\n",
       "      <th>222</th>\n",
       "      <td>http://img.gerio.co.kr/outer/JM_60outer/color ...</td>\n",
       "      <td>http://img.gerio.co.kr/outer/JM_60outer/SIZE.jpg</td>\n",
       "    </tr>\n",
       "    <tr>\n",
       "      <th>223</th>\n",
       "      <td>http://img.gerio.co.kr/outer/SE_33outer/color ...</td>\n",
       "      <td>http://img.gerio.co.kr/outer/SE_33outer/SIZE.jpg</td>\n",
       "    </tr>\n",
       "    <tr>\n",
       "      <th>224</th>\n",
       "      <td>http://img.gerio.co.kr/outer/R2_134outer/color...</td>\n",
       "      <td>http://img.gerio.co.kr/outer/R2_134outer/SIZE.jpg</td>\n",
       "    </tr>\n",
       "    <tr>\n",
       "      <th>225</th>\n",
       "      <td>http://img.gerio.co.kr/outer/R2_133outer/color...</td>\n",
       "      <td>http://img.gerio.co.kr/outer/R2_133outer/SIZE.jpg</td>\n",
       "    </tr>\n",
       "    <tr>\n",
       "      <th>226</th>\n",
       "      <td>http://img.gerio.co.kr/outer/SE_57outer/color ...</td>\n",
       "      <td>http://img.gerio.co.kr/outer/SE_57outer/SIZE.jpg</td>\n",
       "    </tr>\n",
       "    <tr>\n",
       "      <th>227</th>\n",
       "      <td>http://img.gerio.co.kr/outer/SHI_24outer/color...</td>\n",
       "      <td>http://img.gerio.co.kr/outer/SHI_24outer/SIZE.jpg</td>\n",
       "    </tr>\n",
       "    <tr>\n",
       "      <th>228</th>\n",
       "      <td>http://img.gerio.co.kr/outer/KT_56outer/color ...</td>\n",
       "      <td>http://img.gerio.co.kr/outer/KT_56outer/SIZE.jpg</td>\n",
       "    </tr>\n",
       "    <tr>\n",
       "      <th>229</th>\n",
       "      <td>http://img.gerio.co.kr/outer/DGT_49outer/color...</td>\n",
       "      <td>http://img.gerio.co.kr/outer/DGT_49outer/SIZE.jpg</td>\n",
       "    </tr>\n",
       "    <tr>\n",
       "      <th>230</th>\n",
       "      <td>http://img.gerio.co.kr/outer/KT_45outer/color ...</td>\n",
       "      <td>http://img.gerio.co.kr/outer/KT_45outer/SIZE.jpg</td>\n",
       "    </tr>\n",
       "    <tr>\n",
       "      <th>231</th>\n",
       "      <td>http://img.gerio.co.kr/outer/BW_58outer/color ...</td>\n",
       "      <td>http://img.gerio.co.kr/outer/BW_58outer/SIZE.jpg</td>\n",
       "    </tr>\n",
       "    <tr>\n",
       "      <th>232</th>\n",
       "      <td>http://img.gerio.co.kr/outer/DB_18outer/color ...</td>\n",
       "      <td>http://img.gerio.co.kr/outer/DB_18outer/SIZE.jpg</td>\n",
       "    </tr>\n",
       "    <tr>\n",
       "      <th>233</th>\n",
       "      <td>http://img.gerio.co.kr/outer/ID_07outer/color ...</td>\n",
       "      <td>http://img.gerio.co.kr/outer/ID_07outer/SIZE.jpg</td>\n",
       "    </tr>\n",
       "  </tbody>\n",
       "</table>\n",
       "<p>234 rows × 2 columns</p>\n",
       "</div>"
      ],
      "text/plain": [
       "                                            color_view  \\\n",
       "0    http://img.gerio.co.kr/outer/LEEN_149outer/col...   \n",
       "1    http://img.gerio.co.kr/outer/ADL_03outer/color...   \n",
       "2    http://img.gerio.co.kr/JSW/outer/LEEN_167outer...   \n",
       "3    http://img.gerio.co.kr/outer/ADL_08outer/color...   \n",
       "4    http://img.gerio.co.kr/outer/IP_03-1outer/colo...   \n",
       "5    http://img.gerio.co.kr/outer/LEM_05outer/color...   \n",
       "6    http://img.gerio.co.kr/JSW/outer/WH_62outer/co...   \n",
       "7    http://img.gerio.co.kr/outer/KT_48outer/color ...   \n",
       "8    http://img.gerio.co.kr/JSW/outer/EZ_26outer/co...   \n",
       "9    http://img.gerio.co.kr/JSW/outer/PN_28outer/co...   \n",
       "10   http://img.gerio.co.kr/JSW/set/POI_02-1set/col...   \n",
       "11   http://img.gerio.co.kr/JSW/outer/POI_02outer/c...   \n",
       "12   http://img.gerio.co.kr/JSW/outer/HIT_07outer/c...   \n",
       "13   http://img.gerio.co.kr/JSW/outer/FNL_57outer/c...   \n",
       "14   http://img.gerio.co.kr/JSW/outer/RW_318outer/c...   \n",
       "15   http://img.gerio.co.kr/JSW/outer/LW_67outer/co...   \n",
       "16   http://img.gerio.co.kr/JSW/outer/BRS_10outer/c...   \n",
       "17   http://img.gerio.co.kr/JSW/outer/WH_63outer/co...   \n",
       "18   http://img.gerio.co.kr/JSW/outer/WH_62outer/co...   \n",
       "19   http://img.gerio.co.kr/JSW/outer/BRS_08outer/c...   \n",
       "20   http://img.gerio.co.kr/JSW/outer/JER_09outer/c...   \n",
       "21   http://img.gerio.co.kr/JSW/outer/PN_17outer/co...   \n",
       "22   http://img.gerio.co.kr/JSW/outer/SE_91outer/co...   \n",
       "23   http://img.gerio.co.kr/JSW/outer/DD_09outer/co...   \n",
       "24   http://img.gerio.co.kr/JSW/outer/YN_53outer/co...   \n",
       "25   http://img.gerio.co.kr/JSW/outer/DRE_16outer/c...   \n",
       "26   http://img.gerio.co.kr/JSW/outer/ACK_03outer/c...   \n",
       "27   http://img.gerio.co.kr/JSW/outer/KT_84outer/co...   \n",
       "28   http://img.gerio.co.kr/JSW/outer/RW_317outer/c...   \n",
       "29   http://img.gerio.co.kr/JSW/outer/LEEN_170outer...   \n",
       "..                                                 ...   \n",
       "204  http://img.gerio.co.kr/outer/ADL_08outer/color...   \n",
       "205  http://img.gerio.co.kr/outer/IP_03-1outer/colo...   \n",
       "206  http://img.gerio.co.kr/outer/LEM_05outer/color...   \n",
       "207  http://img.gerio.co.kr/JSW/outer/WH_62outer/co...   \n",
       "208  http://img.gerio.co.kr/outer/KT_48outer/color ...   \n",
       "209  http://img.gerio.co.kr/outer/DON_201outer/colo...   \n",
       "210  http://img.gerio.co.kr/outer/NB_226outer/color...   \n",
       "211  http://img.gerio.co.kr/outer/REN_21outer/color...   \n",
       "212  http://img.gerio.co.kr/outer/REN_20outer/color...   \n",
       "213  http://img.gerio.co.kr/outer/PM_41outer/color ...   \n",
       "214  http://img.gerio.co.kr/JHY/outer/BYA_21outer/c...   \n",
       "215  http://img.gerio.co.kr/JHY/outer/BYA_20outer/c...   \n",
       "216  http://img.gerio.co.kr/outer/TCL_01outer/color...   \n",
       "217  http://img.gerio.co.kr/outer/VIT_01-1outer/col...   \n",
       "218  http://img.gerio.co.kr/outer/RM_40outer/color ...   \n",
       "219  http://img.gerio.co.kr/outer/VIT_01outer/color...   \n",
       "220  http://img.gerio.co.kr/outer/SEU_02outer/color...   \n",
       "221  http://img.gerio.co.kr/outer/KT_74outer/color ...   \n",
       "222  http://img.gerio.co.kr/outer/JM_60outer/color ...   \n",
       "223  http://img.gerio.co.kr/outer/SE_33outer/color ...   \n",
       "224  http://img.gerio.co.kr/outer/R2_134outer/color...   \n",
       "225  http://img.gerio.co.kr/outer/R2_133outer/color...   \n",
       "226  http://img.gerio.co.kr/outer/SE_57outer/color ...   \n",
       "227  http://img.gerio.co.kr/outer/SHI_24outer/color...   \n",
       "228  http://img.gerio.co.kr/outer/KT_56outer/color ...   \n",
       "229  http://img.gerio.co.kr/outer/DGT_49outer/color...   \n",
       "230  http://img.gerio.co.kr/outer/KT_45outer/color ...   \n",
       "231  http://img.gerio.co.kr/outer/BW_58outer/color ...   \n",
       "232  http://img.gerio.co.kr/outer/DB_18outer/color ...   \n",
       "233  http://img.gerio.co.kr/outer/ID_07outer/color ...   \n",
       "\n",
       "                                                  size  \n",
       "0    http://img.gerio.co.kr/outer/LEEN_149outer/SIZ...  \n",
       "1    http://img.gerio.co.kr/outer/ADL_03outer/SIZE.jpg  \n",
       "2    http://img.gerio.co.kr/JSW/outer/LEEN_167outer...  \n",
       "3    http://img.gerio.co.kr/outer/ADL_08outer/SIZE.jpg  \n",
       "4    http://img.gerio.co.kr/outer/IP_03-1outer/SIZE...  \n",
       "5    http://img.gerio.co.kr/outer/LEM_05outer/SIZE.jpg  \n",
       "6    http://img.gerio.co.kr/JSW/outer/WH_62outer/SI...  \n",
       "7     http://img.gerio.co.kr/outer/KT_48outer/SIZE.jpg  \n",
       "8    http://img.gerio.co.kr/JSW/outer/EZ_26outer/SI...  \n",
       "9    http://img.gerio.co.kr/JSW/outer/PN_28outer/SI...  \n",
       "10   http://img.gerio.co.kr/JSW/set/POI_02-1set/SIZ...  \n",
       "11   http://img.gerio.co.kr/JSW/outer/POI_02outer/S...  \n",
       "12   http://img.gerio.co.kr/JSW/outer/HIT_07outer/S...  \n",
       "13   http://img.gerio.co.kr/JSW/outer/FNL_57outer/S...  \n",
       "14   http://img.gerio.co.kr/JSW/outer/RW_318outer/S...  \n",
       "15   http://img.gerio.co.kr/JSW/outer/LW_67outer/SI...  \n",
       "16   http://img.gerio.co.kr/JSW/outer/BRS_10outer/S...  \n",
       "17   http://img.gerio.co.kr/JSW/outer/WH_63outer/SI...  \n",
       "18   http://img.gerio.co.kr/JSW/outer/WH_62outer/SI...  \n",
       "19   http://img.gerio.co.kr/JSW/outer/BRS_08outer/S...  \n",
       "20   http://img.gerio.co.kr/JSW/outer/JER_09outer/S...  \n",
       "21   http://img.gerio.co.kr/JSW/outer/PN_17outer/SI...  \n",
       "22   http://img.gerio.co.kr/JSW/outer/SE_91outer/SI...  \n",
       "23   http://img.gerio.co.kr/JSW/outer/DD_09outer/SI...  \n",
       "24   http://img.gerio.co.kr/JSW/outer/YN_53outer/SI...  \n",
       "25   http://img.gerio.co.kr/JSW/outer/DRE_16outer/S...  \n",
       "26   http://img.gerio.co.kr/JSW/outer/ACK_03outer/S...  \n",
       "27   http://img.gerio.co.kr/JSW/outer/KT_84outer/SI...  \n",
       "28   http://img.gerio.co.kr/JSW/outer/RW_317outer/S...  \n",
       "29   http://img.gerio.co.kr/JSW/outer/LEEN_170outer...  \n",
       "..                                                 ...  \n",
       "204  http://img.gerio.co.kr/outer/ADL_08outer/SIZE.jpg  \n",
       "205  http://img.gerio.co.kr/outer/IP_03-1outer/SIZE...  \n",
       "206  http://img.gerio.co.kr/outer/LEM_05outer/SIZE.jpg  \n",
       "207  http://img.gerio.co.kr/JSW/outer/WH_62outer/SI...  \n",
       "208   http://img.gerio.co.kr/outer/KT_48outer/SIZE.jpg  \n",
       "209  http://img.gerio.co.kr/outer/DON_201outer/SIZE...  \n",
       "210  http://img.gerio.co.kr/outer/NB_226outer/SIZE.jpg  \n",
       "211  http://img.gerio.co.kr/outer/REN_21outer/SIZE.jpg  \n",
       "212  http://img.gerio.co.kr/outer/REN_20outer/SIZE.jpg  \n",
       "213   http://img.gerio.co.kr/outer/PM_41outer/SIZE.jpg  \n",
       "214  http://img.gerio.co.kr/JHY/outer/BYA_21outer/S...  \n",
       "215  http://img.gerio.co.kr/JHY/outer/BYA_20outer/S...  \n",
       "216  http://img.gerio.co.kr/outer/TCL_01outer/SIZE.jpg  \n",
       "217  http://img.gerio.co.kr/outer/VIT_01-1outer/SIZ...  \n",
       "218   http://img.gerio.co.kr/outer/RM_40outer/SIZE.jpg  \n",
       "219  http://img.gerio.co.kr/outer/VIT_01outer/SIZE.jpg  \n",
       "220  http://img.gerio.co.kr/outer/SEU_02outer/SIZE.jpg  \n",
       "221   http://img.gerio.co.kr/outer/KT_74outer/SIZE.jpg  \n",
       "222   http://img.gerio.co.kr/outer/JM_60outer/SIZE.jpg  \n",
       "223   http://img.gerio.co.kr/outer/SE_33outer/SIZE.jpg  \n",
       "224  http://img.gerio.co.kr/outer/R2_134outer/SIZE.jpg  \n",
       "225  http://img.gerio.co.kr/outer/R2_133outer/SIZE.jpg  \n",
       "226   http://img.gerio.co.kr/outer/SE_57outer/SIZE.jpg  \n",
       "227  http://img.gerio.co.kr/outer/SHI_24outer/SIZE.jpg  \n",
       "228   http://img.gerio.co.kr/outer/KT_56outer/SIZE.jpg  \n",
       "229  http://img.gerio.co.kr/outer/DGT_49outer/SIZE.jpg  \n",
       "230   http://img.gerio.co.kr/outer/KT_45outer/SIZE.jpg  \n",
       "231   http://img.gerio.co.kr/outer/BW_58outer/SIZE.jpg  \n",
       "232   http://img.gerio.co.kr/outer/DB_18outer/SIZE.jpg  \n",
       "233   http://img.gerio.co.kr/outer/ID_07outer/SIZE.jpg  \n",
       "\n",
       "[234 rows x 2 columns]"
      ]
     },
     "execution_count": 32,
     "metadata": {},
     "output_type": "execute_result"
    }
   ],
   "source": [
    "list"
   ]
  },
  {
   "cell_type": "code",
   "execution_count": 154,
   "metadata": {},
   "outputs": [],
   "source": [
    "import urllib.request # 이미지 파일을 저장하기 위한 패키지, 웹사이트의 이미지 주소가 있으면 다운 받을 수 있다."
   ]
  },
  {
   "cell_type": "code",
   "execution_count": 186,
   "metadata": {},
   "outputs": [],
   "source": [
    "for i in range(len(list)) : # 사이즈 표에 대한 이미지 파일을 저장하는 것, 반복문을 통해 하나씩 저장해주었다.\n",
    "    url = list['size'].iloc[i]\n",
    "    name = category_list_name[0] + 'size' + str(i) + '.jpg' # ex) 아우터size100.jpg 형식으로 파일을 저장\n",
    "    urllib.request.urlretrieve(url, name)"
   ]
  },
  {
   "cell_type": "code",
   "execution_count": 187,
   "metadata": {},
   "outputs": [],
   "source": [
    "for i in range(len(list)) : # 옷 이미지에 대한 이미지 파일을 저장하는 것, 반복문을 통해 하나씩 저장해주었다.\n",
    "    url = list['color_view'].iloc[i]\n",
    "    name = category_list_name[0] + 'color_view' + str(i) + '.jpg' # ex) 아우터color_view100.jpg 형식으로 파일을 저장하였다.\n",
    "    urllib.request.urlretrieve(url, name)"
   ]
  }
 ],
 "metadata": {
  "kernelspec": {
   "display_name": "Python 3",
   "language": "python",
   "name": "python3"
  },
  "language_info": {
   "codemirror_mode": {
    "name": "ipython",
    "version": 3
   },
   "file_extension": ".py",
   "mimetype": "text/x-python",
   "name": "python",
   "nbconvert_exporter": "python",
   "pygments_lexer": "ipython3",
   "version": "3.6.5"
  }
 },
 "nbformat": 4,
 "nbformat_minor": 2
}
