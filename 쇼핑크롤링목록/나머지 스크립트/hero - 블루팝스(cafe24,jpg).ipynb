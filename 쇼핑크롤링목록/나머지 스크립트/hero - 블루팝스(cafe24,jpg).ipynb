{
 "cells": [
  {
   "cell_type": "code",
   "execution_count": 1,
   "metadata": {},
   "outputs": [],
   "source": [
    "import os \n",
    "import sys\n",
    "import requests\n",
    "from bs4 import BeautifulSoup\n",
    "import pandas as pd                      # 가장 기초적인 데이터전처리 패키지\n",
    "import re                                # 정규표현식을 사용할 수 있는 패키지\n",
    "from datetime import datetime  "
   ]
  },
  {
   "cell_type": "code",
   "execution_count": 2,
   "metadata": {},
   "outputs": [],
   "source": [
    "base_url = 'http://www.bluepops.co.kr'"
   ]
  },
  {
   "cell_type": "code",
   "execution_count": 5,
   "metadata": {},
   "outputs": [],
   "source": [
    "req = requests.get(base_url)\n",
    "if req == 200 :\n",
    "    soup = BeautifulSoup(req.content, 'html.parser')\n",
    "else :\n",
    "    req = requests.get(base_url, headers = {'user-agent': ('Mozilla/5.0 (Windows NT 10.0; Win64; x64) AppleWebKit/537.36 (KHTML, like Gecko)'\n",
    "                                                                            'Chrome/71.0.3578.98 Safari/537.36')})\n",
    "    soup = BeautifulSoup(req.content, 'html.parser')"
   ]
  },
  {
   "cell_type": "code",
   "execution_count": 7,
   "metadata": {},
   "outputs": [],
   "source": [
    "category_1 = soup.find('ul',{'class' : 'xans-element- xans-layout xans-layout-category gnb'})"
   ]
  },
  {
   "cell_type": "code",
   "execution_count": 9,
   "metadata": {},
   "outputs": [],
   "source": [
    "category_2 = category_1.find_all('li',{'class' : 'xans-record-'})"
   ]
  },
  {
   "cell_type": "code",
   "execution_count": 31,
   "metadata": {},
   "outputs": [
    {
     "data": {
      "text/plain": [
       "[<li class=\"xans-record-\"><a href=\"/product/list.html?cate_no=423\">NEW</a></li>,\n",
       " <li class=\"xans-record-\"><a href=\"/product/list.html?cate_no=118\">BEST</a></li>,\n",
       " <li class=\"xans-record-\"><a href=\"/product/list.html?cate_no=54\">MADE</a></li>,\n",
       " <li class=\"xans-record-\"><a href=\"/product/list.html?cate_no=38\">OUTER</a></li>,\n",
       " <li class=\"xans-record-\"><a href=\"/product/list.html?cate_no=43\">TOP</a></li>,\n",
       " <li class=\"xans-record-\"><a href=\"/product/list.html?cate_no=628\">BOTTOM</a></li>,\n",
       " <li class=\"xans-record-\"><a href=\"/product/list.html?cate_no=65\">DRESS</a></li>,\n",
       " <li class=\"xans-record-\"><a href=\"/product/list.html?cate_no=631\">BAG.SHOES</a></li>,\n",
       " <li class=\"xans-record-\"><a href=\"/product/list.html?cate_no=618\">JEWELLERY</a></li>,\n",
       " <li class=\"xans-record-\"><a href=\"/product/list.html?cate_no=46\">ACC</a></li>,\n",
       " <li class=\"xans-record-\"><a href=\"/product/list.html?cate_no=616\">SUMMER</a></li>,\n",
       " <li class=\"xans-record-\"><a href=\"/product/list.html?cate_no=643\">REAL FIT</a></li>,\n",
       " <li class=\"xans-record-\"><a href=\"/product/list.html?cate_no=559\">SALE</a></li>,\n",
       " <li class=\"xans-record-\"><a href=\"/product/list.html?cate_no=55\">SORRY</a></li>,\n",
       " <li class=\"xans-record-\"><a href=\"/board/공지사항/1/\">공지사항</a></li>,\n",
       " <li class=\"xans-record-\"><a href=\"/board/통합문의게시판/6/\">통합문의게시판</a></li>,\n",
       " <li class=\"xans-record-\"><a href=\"/board/이벤트/8/\">이벤트</a></li>,\n",
       " <li class=\"xans-record-\"><a href=\"/board/모델-지원/15/\">모델 지원</a></li>]"
      ]
     },
     "execution_count": 31,
     "metadata": {},
     "output_type": "execute_result"
    }
   ],
   "source": [
    "category_2"
   ]
  },
  {
   "cell_type": "code",
   "execution_count": 29,
   "metadata": {},
   "outputs": [],
   "source": [
    "category_url =[]\n",
    "for i in range(len(category_2)):\n",
    "    category_list = base_url + category_2[i].find('a')['href']\n",
    "    category_url.append(category_list)"
   ]
  },
  {
   "cell_type": "code",
   "execution_count": 34,
   "metadata": {},
   "outputs": [],
   "source": [
    "category_url2 = category_url[3:7]"
   ]
  },
  {
   "cell_type": "code",
   "execution_count": 35,
   "metadata": {},
   "outputs": [
    {
     "data": {
      "text/plain": [
       "['http://www.bluepops.co.kr/product/list.html?cate_no=38',\n",
       " 'http://www.bluepops.co.kr/product/list.html?cate_no=43',\n",
       " 'http://www.bluepops.co.kr/product/list.html?cate_no=628',\n",
       " 'http://www.bluepops.co.kr/product/list.html?cate_no=65']"
      ]
     },
     "execution_count": 35,
     "metadata": {},
     "output_type": "execute_result"
    }
   ],
   "source": [
    "category_url2"
   ]
  },
  {
   "cell_type": "code",
   "execution_count": null,
   "metadata": {},
   "outputs": [],
   "source": [
    "base_url = 'http://www.bluepops.co.kr'\n",
    "req = requests.get(base_url)\n",
    "if req == 200 :\n",
    "    soup = BeautifulSoup(req.content, 'html.parser')\n",
    "else :\n",
    "    req = requests.get(base_url, headers = {'user-agent': ('Mozilla/5.0 (Windows NT 10.0; Win64; x64) AppleWebKit/537.36 (KHTML, like Gecko)'\n",
    "                                                                            'Chrome/71.0.3578.98 Safari/537.36')})\n",
    "    soup = BeautifulSoup(req.content, 'html.parser')\n",
    "    \n",
    "category_1 = soup.find('ul',{'class' : 'xans-element- xans-layout xans-layout-category gnb'})\n",
    "\n",
    "category_2 = category_1.find_all('li',{'class' : 'xans-record-'})\n",
    "\n",
    "category_url =[]\n",
    "for i in range(len(category_2)):\n",
    "    category_list = base_url + category_2[i].find('a')['href']\n",
    "    category_url.append(category_list)\n",
    "    \n",
    "category_url2 = category_url[3:7]\n",
    "\n",
    "#for i in category_url2 부터시작하기 위해서는 나중에 한번에 크롤링 할 때 지금은 아우터만 크롤링 해보자\n",
    "#for i in range(len(category_url2)):\n",
    "    #start_url = category_url2[i]\n",
    "    #page_url = category_url2[i] + '&page=' + '{}'\n",
    "\n",
    "start_url=category_url2[0]\n",
    "page_url = category_url2[0] + '&page=' + '{}'\n",
    "\n",
    "\n",
    "\n"
   ]
  },
  {
   "cell_type": "code",
   "execution_count": 85,
   "metadata": {},
   "outputs": [],
   "source": [
    "req2 = requests.get(start_url)\n",
    "if req2 == 200 :\n",
    "    soup2 = BeautifulSoup(req2.content, 'html.parser')\n",
    "else :\n",
    "    req2 = requests.get(start_url, headers = {'user-agent': ('Mozilla/5.0 (Windows NT 10.0; Win64; x64) AppleWebKit/537.36 (KHTML, like Gecko)'\n",
    "                                                                            'Chrome/71.0.3578.98 Safari/537.36')})\n",
    "    soup2 = BeautifulSoup(req2.content, 'html.parser')\n",
    "\n",
    "page1_a = soup2.find('div',{'class':'xans-element- xans-product xans-product-normalpaging ec-base-paginate'})\n",
    "page2_a = page1_a.find_all('li',{'class','xans-record-'})\n",
    "\n",
    "page1_b = page1_a.find_all('a')[-1]['href'] #가장 마지막 페이지로 가는 url\n",
    "page2_b = start_url + page1_b\n",
    "req3 = requests.get(page2_b)\n",
    "if req3 == 200 :\n",
    "    soup3 = BeautifulSoup(req3.content, 'html.parser')\n",
    "else :\n",
    "    req3 = requests.get(page2_b, headers = {'user-agent': ('Mozilla/5.0 (Windows NT 10.0; Win64; x64) AppleWebKit/537.36 (KHTML, like Gecko)'\n",
    "                                                                            'Chrome/71.0.3578.98 Safari/537.36')})\n",
    "    soup3 = BeautifulSoup(req3.content, 'html.parser')\n",
    "\n",
    "page3_b = soup3.find('div',{'class':'xans-element- xans-product xans-product-normalpaging ec-base-paginate'})\n",
    "page4_b = page3_b.find_all('li',{'class','xans-record-'})\n",
    "\n",
    "page5 = len(page2_a) + len(page4_b)"
   ]
  },
  {
   "cell_type": "code",
   "execution_count": 86,
   "metadata": {},
   "outputs": [
    {
     "data": {
      "text/plain": [
       "7"
      ]
     },
     "execution_count": 86,
     "metadata": {},
     "output_type": "execute_result"
    }
   ],
   "source": [
    "page5"
   ]
  },
  {
   "cell_type": "code",
   "execution_count": null,
   "metadata": {},
   "outputs": [],
   "source": [
    "#link에서 반목문 사용할 필요없이 바로 parser해서 들어가서 사이즈 이미지만 긁어오면 됨"
   ]
  },
  {
   "cell_type": "code",
   "execution_count": 87,
   "metadata": {},
   "outputs": [
    {
     "data": {
      "text/plain": [
       "'http://www.bluepops.co.kr/product/list.html?cate_no=38'"
      ]
     },
     "execution_count": 87,
     "metadata": {},
     "output_type": "execute_result"
    }
   ],
   "source": [
    "start_url"
   ]
  },
  {
   "cell_type": "code",
   "execution_count": 147,
   "metadata": {},
   "outputs": [],
   "source": [
    "for i in range(1,page5+1):\n",
    "    req4 = requests.get(page_url.format(str(i)))\n",
    "    if req4 == 200 :\n",
    "        soup4 = BeautifulSoup(req4.content, 'html.parser')\n",
    "    else :\n",
    "        req4 = requests.get(page_url.format(str(i)), headers = {'user-agent': ('Mozilla/5.0 (Windows NT 10.0; Win64; x64) AppleWebKit/537.36 (KHTML, like Gecko)'\n",
    "                                                                            'Chrome/71.0.3578.98 Safari/537.36')})\n",
    "        soup4 = BeautifulSoup(req4.content, 'html.parser')\n",
    "    \n",
    "    product_1 = soup4.find('div',{'class':'xans-element- xans-product xans-product-listnormal ec-base-product'})\n",
    "    product_2 = product_1.find_all('li',{'class':'xans-record-','id':'[a-zA-Z]'})#고유한 class가 아니기 때문에 xans-record-의 클래스가 다 딸려옴 - 정규표현식으로 풀수가있나\n",
    "    #id에 가-힣a-zA-Z아무문자나 오면 뽑는 것만 찾으면 됨 or 4의 배수 리스트만 뽑아서 다시 정렬\n",
    "  "
   ]
  },
  {
   "cell_type": "code",
   "execution_count": 139,
   "metadata": {
    "scrolled": true
   },
   "outputs": [
    {
     "ename": "TypeError",
     "evalue": "unsupported operand type(s) for +: 'Tag' and 'int'",
     "output_type": "error",
     "traceback": [
      "\u001b[1;31m---------------------------------------------------------------------------\u001b[0m",
      "\u001b[1;31mTypeError\u001b[0m                                 Traceback (most recent call last)",
      "\u001b[1;32m<ipython-input-139-5235f5bda0a1>\u001b[0m in \u001b[0;36m<module>\u001b[1;34m()\u001b[0m\n\u001b[0;32m      1\u001b[0m \u001b[1;32mfor\u001b[0m \u001b[0mi\u001b[0m \u001b[1;32min\u001b[0m \u001b[0mproduct_2\u001b[0m\u001b[1;33m:\u001b[0m\u001b[1;33m\u001b[0m\u001b[0m\n\u001b[1;32m----> 2\u001b[1;33m     \u001b[0mprint\u001b[0m\u001b[1;33m(\u001b[0m\u001b[0mi\u001b[0m\u001b[1;33m+\u001b[0m\u001b[1;36m4\u001b[0m\u001b[1;33m)\u001b[0m\u001b[1;33m\u001b[0m\u001b[0m\n\u001b[0m",
      "\u001b[1;31mTypeError\u001b[0m: unsupported operand type(s) for +: 'Tag' and 'int'"
     ]
    }
   ],
   "source": [
    "  product_3= product_2[]#4의 배수마다 뽑아야하는데....\n",
    "for i in product_2:\n",
    "    print(i+4)"
   ]
  },
  {
   "cell_type": "code",
   "execution_count": 149,
   "metadata": {},
   "outputs": [
    {
     "data": {
      "text/plain": [
       "[]"
      ]
     },
     "execution_count": 149,
     "metadata": {},
     "output_type": "execute_result"
    }
   ],
   "source": [
    "product_2"
   ]
  },
  {
   "cell_type": "code",
   "execution_count": 120,
   "metadata": {},
   "outputs": [],
   "source": [
    "for i in range(0,len(product_2)):#베스트상품 3개 제외\n",
    "    image_1 = product_2[i*4].find('div', {'class' : 'thumbnail'})\n",
    "     "
   ]
  },
  {
   "cell_type": "code",
   "execution_count": 121,
   "metadata": {},
   "outputs": [],
   "source": [
    "image_1"
   ]
  },
  {
   "cell_type": "code",
   "execution_count": null,
   "metadata": {},
   "outputs": [],
   "source": [
    "  image_2 = image_1.find('div',{'class':'prdImg'})\n",
    "    image_url = image_2.find('img')['src'] "
   ]
  },
  {
   "cell_type": "code",
   "execution_count": null,
   "metadata": {},
   "outputs": [],
   "source": [
    "name = product.find('strong', {'class' : 'name'}).find('span').text\n",
    "        name = re.sub('[^가-힣0-9a-zA-Z\\\\s\\+\\[\\]\\,\\.\\=\\-\\_\\~\\!\\@\\#\\$\\%\\^\\&\\*\\(\\)\\;\\:\\?]','',name)\n"
   ]
  },
  {
   "cell_type": "code",
   "execution_count": null,
   "metadata": {},
   "outputs": [],
   "source": []
  },
  {
   "cell_type": "code",
   "execution_count": null,
   "metadata": {},
   "outputs": [],
   "source": []
  },
  {
   "cell_type": "code",
   "execution_count": null,
   "metadata": {},
   "outputs": [],
   "source": []
  },
  {
   "cell_type": "code",
   "execution_count": null,
   "metadata": {},
   "outputs": [],
   "source": []
  },
  {
   "cell_type": "code",
   "execution_count": null,
   "metadata": {},
   "outputs": [],
   "source": []
  }
 ],
 "metadata": {
  "kernelspec": {
   "display_name": "Python 3",
   "language": "python",
   "name": "python3"
  },
  "language_info": {
   "codemirror_mode": {
    "name": "ipython",
    "version": 3
   },
   "file_extension": ".py",
   "mimetype": "text/x-python",
   "name": "python",
   "nbconvert_exporter": "python",
   "pygments_lexer": "ipython3",
   "version": "3.6.5"
  }
 },
 "nbformat": 4,
 "nbformat_minor": 2
}
