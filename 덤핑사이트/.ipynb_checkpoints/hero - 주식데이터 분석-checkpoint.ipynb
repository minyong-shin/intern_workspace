{
 "cells": [
  {
   "cell_type": "code",
   "execution_count": 1,
   "metadata": {},
   "outputs": [],
   "source": [
    "import requests # 웹 페이지 소스를 얻기 위한 패키지(기본 내장 패키지이다.)\n",
    "from bs4 import BeautifulSoup # 웹 페이지 소스를 얻기 위한 패키지, 더 간단히 얻을 수 있다는 장점이 있다고 한다.\n",
    "from datetime import datetime                                # (!pip install beautifulsoup4 으로 다운받을 수 있다.)\n",
    "import pandas as pd # 데이터를 처리하기 위한 가장 기본적인 패키지\n",
    "import time # 사이트를 불러올 때, 작업 지연시간을 지정해주기 위한 패키지이다. (사이트가 늦게 켜지면 에러가 발생하기 때문)\n",
    "import urllib.request #\n",
    "from selenium.webdriver import Chrome\n",
    "import json\n",
    "import re     \n",
    "from selenium.webdriver.chrome.options import Options\n",
    "from selenium.webdriver.common.keys import Keys\n",
    "import datetime as dt"
   ]
  },
  {
   "cell_type": "code",
   "execution_count": 2,
   "metadata": {},
   "outputs": [],
   "source": [
    "base_url = 'https://finance.naver.com/item/sise_day.nhn?code=005930&page=1'"
   ]
  },
  {
   "cell_type": "code",
   "execution_count": 57,
   "metadata": {},
   "outputs": [],
   "source": [
    "#총 페이지 수 확인\n",
    "base_url = 'https://finance.naver.com/item/sise_day.nhn?code=005930&page='"
   ]
  },
  {
   "cell_type": "code",
   "execution_count": 66,
   "metadata": {},
   "outputs": [
    {
     "data": {
      "text/plain": [
       "'https://finance.naver.com/item/sise_day.nhn?code=005930&page=1'"
      ]
     },
     "execution_count": 66,
     "metadata": {},
     "output_type": "execute_result"
    }
   ],
   "source": [
    "base_url+str(1)"
   ]
  },
  {
   "cell_type": "code",
   "execution_count": 60,
   "metadata": {},
   "outputs": [],
   "source": [
    "res = requests.get(base_url)"
   ]
  },
  {
   "cell_type": "code",
   "execution_count": 61,
   "metadata": {},
   "outputs": [],
   "source": [
    "html = BeautifulSoup(res.content,'html.parser')"
   ]
  },
  {
   "cell_type": "code",
   "execution_count": 65,
   "metadata": {},
   "outputs": [
    {
     "data": {
      "text/plain": [
       "<td class=\"pgRR\">\n",
       "<a href=\"/item/sise_day.nhn?code=005930&amp;page=575\">맨뒤\n",
       "\t\t\t\t<img alt=\"\" border=\"0\" height=\"5\" src=\"https://ssl.pstatic.net/static/n/cmn/bu_pgarRR.gif\" width=\"8\"/>\n",
       "</a>\n",
       "</td>"
      ]
     },
     "execution_count": 65,
     "metadata": {},
     "output_type": "execute_result"
    }
   ],
   "source": [
    "html.find('table',{'class':'Nnavi'}).find('td',{'class':'pgRR'})\n",
    "#575페이지까지 존재"
   ]
  },
  {
   "cell_type": "code",
   "execution_count": 7,
   "metadata": {},
   "outputs": [],
   "source": [
    "table0 = html.find('table',{'class':'type2'})"
   ]
  },
  {
   "cell_type": "code",
   "execution_count": 10,
   "metadata": {},
   "outputs": [],
   "source": [
    "cate0 = table0.find_all('th')"
   ]
  },
  {
   "cell_type": "code",
   "execution_count": 51,
   "metadata": {},
   "outputs": [],
   "source": [
    "cate = []\n",
    "for i in range(len(cate0)):\n",
    "    if i == 2:\n",
    "        cate.append(cate0[i].text)\n",
    "        cate.append('상승/하락')\n",
    "    else:\n",
    "        cate.append(cate0[i].text)"
   ]
  },
  {
   "cell_type": "code",
   "execution_count": 52,
   "metadata": {},
   "outputs": [
    {
     "data": {
      "text/plain": [
       "['날짜', '종가', '전일비', '상승/하락', '시가', '고가', '저가', '거래량']"
      ]
     },
     "execution_count": 52,
     "metadata": {},
     "output_type": "execute_result"
    }
   ],
   "source": [
    "cate"
   ]
  },
  {
   "cell_type": "code",
   "execution_count": 14,
   "metadata": {},
   "outputs": [],
   "source": [
    "main0 = table0.find_all('tr',{'onmouseout':'mouseOut(this)'})"
   ]
  },
  {
   "cell_type": "code",
   "execution_count": 36,
   "metadata": {},
   "outputs": [
    {
     "data": {
      "text/plain": [
       "6"
      ]
     },
     "execution_count": 36,
     "metadata": {},
     "output_type": "execute_result"
    }
   ],
   "source": [
    "len(main0[9].find_all('td',{'class':'num'}))"
   ]
  },
  {
   "cell_type": "code",
   "execution_count": 41,
   "metadata": {},
   "outputs": [
    {
     "data": {
      "text/plain": [
       "7"
      ]
     },
     "execution_count": 41,
     "metadata": {},
     "output_type": "execute_result"
    }
   ],
   "source": [
    "len(main0[9].find_all('td'))"
   ]
  },
  {
   "cell_type": "code",
   "execution_count": 38,
   "metadata": {},
   "outputs": [
    {
     "data": {
      "text/plain": [
       "'47,050'"
      ]
     },
     "execution_count": 38,
     "metadata": {},
     "output_type": "execute_result"
    }
   ],
   "source": [
    "main0[9].find_all('td',{'class':'num'})[0].text"
   ]
  },
  {
   "cell_type": "code",
   "execution_count": 33,
   "metadata": {},
   "outputs": [],
   "source": [
    "p = re.compile('[0-9]')"
   ]
  },
  {
   "cell_type": "code",
   "execution_count": 37,
   "metadata": {},
   "outputs": [
    {
     "data": {
      "text/plain": [
       "'200하락'"
      ]
     },
     "execution_count": 37,
     "metadata": {},
     "output_type": "execute_result"
    }
   ],
   "source": [
    "''.join(p.findall(main0[9].find_all('td',{'class':'num'})[1].text))"
   ]
  },
  {
   "cell_type": "code",
   "execution_count": 29,
   "metadata": {},
   "outputs": [
    {
     "data": {
      "text/plain": [
       "'하락'"
      ]
     },
     "execution_count": 29,
     "metadata": {},
     "output_type": "execute_result"
    }
   ],
   "source": [
    "#항상 두번째 리스트에서 상승/하락 여부 확인\n",
    "main0[9].find_all('td',{'class':'num'})[1].find('img')['alt']"
   ]
  },
  {
   "cell_type": "code",
   "execution_count": 46,
   "metadata": {},
   "outputs": [],
   "source": [
    "stock = []\n",
    "for i in range(len(main0)):\n",
    "    stock2 = []\n",
    "    a = main0[i].find_all('td')\n",
    "    for j in range(len(a)):\n",
    "        if j == 2:\n",
    "            p = re.compile('[0-9]')\n",
    "            aa = ''.join(p.findall(a[j].text))\n",
    "            stock2.append(aa)\n",
    "            bb = a[j].find('img')['alt']\n",
    "            stock2.append(bb)\n",
    "        else:\n",
    "            aa = a[j].text\n",
    "            stock2.append(aa)\n",
    "    stock.append(stock2)"
   ]
  },
  {
   "cell_type": "code",
   "execution_count": 47,
   "metadata": {
    "scrolled": true
   },
   "outputs": [
    {
     "data": {
      "text/plain": [
       "[['2019.04.30',\n",
       "  '45,500',\n",
       "  '650',\n",
       "  '하락',\n",
       "  '46,000',\n",
       "  '46,000',\n",
       "  '45,350',\n",
       "  '3,191,595'],\n",
       " ['2019.04.29',\n",
       "  '46,150',\n",
       "  '1300',\n",
       "  '상승',\n",
       "  '45,150',\n",
       "  '46,150',\n",
       "  '45,100',\n",
       "  '8,777,517'],\n",
       " ['2019.04.26',\n",
       "  '44,850',\n",
       "  '200',\n",
       "  '상승',\n",
       "  '44,200',\n",
       "  '45,000',\n",
       "  '43,800',\n",
       "  '9,739,982'],\n",
       " ['2019.04.25',\n",
       "  '44,650',\n",
       "  '100',\n",
       "  '하락',\n",
       "  '44,250',\n",
       "  '45,000',\n",
       "  '44,100',\n",
       "  '10,868,965'],\n",
       " ['2019.04.24',\n",
       "  '44,750',\n",
       "  '450',\n",
       "  '하락',\n",
       "  '45,400',\n",
       "  '45,650',\n",
       "  '44,150',\n",
       "  '13,299,267'],\n",
       " ['2019.04.23',\n",
       "  '45,200',\n",
       "  '150',\n",
       "  '하락',\n",
       "  '45,050',\n",
       "  '45,500',\n",
       "  '45,000',\n",
       "  '6,920,566'],\n",
       " ['2019.04.22',\n",
       "  '45,350',\n",
       "  '50',\n",
       "  '상승',\n",
       "  '45,400',\n",
       "  '45,900',\n",
       "  '45,100',\n",
       "  '6,006,957'],\n",
       " ['2019.04.19',\n",
       "  '45,300',\n",
       "  '300',\n",
       "  '하락',\n",
       "  '45,750',\n",
       "  '46,000',\n",
       "  '45,250',\n",
       "  '8,479,710'],\n",
       " ['2019.04.18',\n",
       "  '45,600',\n",
       "  '1450',\n",
       "  '하락',\n",
       "  '47,200',\n",
       "  '47,250',\n",
       "  '45,500',\n",
       "  '12,808,747'],\n",
       " ['2019.04.17',\n",
       "  '47,050',\n",
       "  '200',\n",
       "  '하락',\n",
       "  '47,300',\n",
       "  '47,600',\n",
       "  '47,000',\n",
       "  '5,513,658']]"
      ]
     },
     "execution_count": 47,
     "metadata": {},
     "output_type": "execute_result"
    }
   ],
   "source": [
    "stock"
   ]
  },
  {
   "cell_type": "code",
   "execution_count": 53,
   "metadata": {},
   "outputs": [
    {
     "data": {
      "text/html": [
       "<div>\n",
       "<style scoped>\n",
       "    .dataframe tbody tr th:only-of-type {\n",
       "        vertical-align: middle;\n",
       "    }\n",
       "\n",
       "    .dataframe tbody tr th {\n",
       "        vertical-align: top;\n",
       "    }\n",
       "\n",
       "    .dataframe thead th {\n",
       "        text-align: right;\n",
       "    }\n",
       "</style>\n",
       "<table border=\"1\" class=\"dataframe\">\n",
       "  <thead>\n",
       "    <tr style=\"text-align: right;\">\n",
       "      <th></th>\n",
       "      <th>날짜</th>\n",
       "      <th>종가</th>\n",
       "      <th>전일비</th>\n",
       "      <th>상승/하락</th>\n",
       "      <th>시가</th>\n",
       "      <th>고가</th>\n",
       "      <th>저가</th>\n",
       "      <th>거래량</th>\n",
       "    </tr>\n",
       "  </thead>\n",
       "  <tbody>\n",
       "    <tr>\n",
       "      <th>0</th>\n",
       "      <td>2019.04.30</td>\n",
       "      <td>45,500</td>\n",
       "      <td>650</td>\n",
       "      <td>하락</td>\n",
       "      <td>46,000</td>\n",
       "      <td>46,000</td>\n",
       "      <td>45,350</td>\n",
       "      <td>3,191,595</td>\n",
       "    </tr>\n",
       "    <tr>\n",
       "      <th>1</th>\n",
       "      <td>2019.04.29</td>\n",
       "      <td>46,150</td>\n",
       "      <td>1300</td>\n",
       "      <td>상승</td>\n",
       "      <td>45,150</td>\n",
       "      <td>46,150</td>\n",
       "      <td>45,100</td>\n",
       "      <td>8,777,517</td>\n",
       "    </tr>\n",
       "    <tr>\n",
       "      <th>2</th>\n",
       "      <td>2019.04.26</td>\n",
       "      <td>44,850</td>\n",
       "      <td>200</td>\n",
       "      <td>상승</td>\n",
       "      <td>44,200</td>\n",
       "      <td>45,000</td>\n",
       "      <td>43,800</td>\n",
       "      <td>9,739,982</td>\n",
       "    </tr>\n",
       "    <tr>\n",
       "      <th>3</th>\n",
       "      <td>2019.04.25</td>\n",
       "      <td>44,650</td>\n",
       "      <td>100</td>\n",
       "      <td>하락</td>\n",
       "      <td>44,250</td>\n",
       "      <td>45,000</td>\n",
       "      <td>44,100</td>\n",
       "      <td>10,868,965</td>\n",
       "    </tr>\n",
       "    <tr>\n",
       "      <th>4</th>\n",
       "      <td>2019.04.24</td>\n",
       "      <td>44,750</td>\n",
       "      <td>450</td>\n",
       "      <td>하락</td>\n",
       "      <td>45,400</td>\n",
       "      <td>45,650</td>\n",
       "      <td>44,150</td>\n",
       "      <td>13,299,267</td>\n",
       "    </tr>\n",
       "    <tr>\n",
       "      <th>5</th>\n",
       "      <td>2019.04.23</td>\n",
       "      <td>45,200</td>\n",
       "      <td>150</td>\n",
       "      <td>하락</td>\n",
       "      <td>45,050</td>\n",
       "      <td>45,500</td>\n",
       "      <td>45,000</td>\n",
       "      <td>6,920,566</td>\n",
       "    </tr>\n",
       "    <tr>\n",
       "      <th>6</th>\n",
       "      <td>2019.04.22</td>\n",
       "      <td>45,350</td>\n",
       "      <td>50</td>\n",
       "      <td>상승</td>\n",
       "      <td>45,400</td>\n",
       "      <td>45,900</td>\n",
       "      <td>45,100</td>\n",
       "      <td>6,006,957</td>\n",
       "    </tr>\n",
       "    <tr>\n",
       "      <th>7</th>\n",
       "      <td>2019.04.19</td>\n",
       "      <td>45,300</td>\n",
       "      <td>300</td>\n",
       "      <td>하락</td>\n",
       "      <td>45,750</td>\n",
       "      <td>46,000</td>\n",
       "      <td>45,250</td>\n",
       "      <td>8,479,710</td>\n",
       "    </tr>\n",
       "    <tr>\n",
       "      <th>8</th>\n",
       "      <td>2019.04.18</td>\n",
       "      <td>45,600</td>\n",
       "      <td>1450</td>\n",
       "      <td>하락</td>\n",
       "      <td>47,200</td>\n",
       "      <td>47,250</td>\n",
       "      <td>45,500</td>\n",
       "      <td>12,808,747</td>\n",
       "    </tr>\n",
       "    <tr>\n",
       "      <th>9</th>\n",
       "      <td>2019.04.17</td>\n",
       "      <td>47,050</td>\n",
       "      <td>200</td>\n",
       "      <td>하락</td>\n",
       "      <td>47,300</td>\n",
       "      <td>47,600</td>\n",
       "      <td>47,000</td>\n",
       "      <td>5,513,658</td>\n",
       "    </tr>\n",
       "  </tbody>\n",
       "</table>\n",
       "</div>"
      ],
      "text/plain": [
       "           날짜      종가   전일비 상승/하락      시가      고가      저가         거래량\n",
       "0  2019.04.30  45,500   650    하락  46,000  46,000  45,350   3,191,595\n",
       "1  2019.04.29  46,150  1300    상승  45,150  46,150  45,100   8,777,517\n",
       "2  2019.04.26  44,850   200    상승  44,200  45,000  43,800   9,739,982\n",
       "3  2019.04.25  44,650   100    하락  44,250  45,000  44,100  10,868,965\n",
       "4  2019.04.24  44,750   450    하락  45,400  45,650  44,150  13,299,267\n",
       "5  2019.04.23  45,200   150    하락  45,050  45,500  45,000   6,920,566\n",
       "6  2019.04.22  45,350    50    상승  45,400  45,900  45,100   6,006,957\n",
       "7  2019.04.19  45,300   300    하락  45,750  46,000  45,250   8,479,710\n",
       "8  2019.04.18  45,600  1450    하락  47,200  47,250  45,500  12,808,747\n",
       "9  2019.04.17  47,050   200    하락  47,300  47,600  47,000   5,513,658"
      ]
     },
     "execution_count": 53,
     "metadata": {},
     "output_type": "execute_result"
    }
   ],
   "source": [
    "pd.DataFrame(stock,columns = cate)"
   ]
  },
  {
   "cell_type": "code",
   "execution_count": 82,
   "metadata": {},
   "outputs": [],
   "source": [
    "stock_data = pd.DataFrame({'날짜':[],\n",
    "                          '종가':[],\n",
    "                          '전일비':[],\n",
    "                          '상승/하락':[],\n",
    "                          '시가':[],\n",
    "                          '고가':[],\n",
    "                          '저가':[],\n",
    "                          '거래량':[]})\n",
    "base_url = 'https://finance.naver.com/item/sise_day.nhn?code=005930&page='\n",
    "for page in range(1,575):\n",
    "    res = requests.get(base_url+str(page))\n",
    "    html = BeautifulSoup(res.content,'html.parser')\n",
    "    table0 = html.find('table',{'class':'type2'})\n",
    "    \n",
    "    cate0 = table0.find_all('th')\n",
    "    cate = []\n",
    "    for i in range(len(cate0)):\n",
    "        if i == 2:\n",
    "            cate.append(cate0[i].text)\n",
    "            cate.append('상승/하락')\n",
    "        else:\n",
    "            cate.append(cate0[i].text)\n",
    "            \n",
    "    main0 = table0.find_all('tr',{'onmouseout':'mouseOut(this)'})\n",
    "    stock = []\n",
    "    for i in range(len(main0)):\n",
    "        stock2 = []\n",
    "        a = main0[i].find_all('td')\n",
    "        for j in range(len(a)):\n",
    "            if j == 2:\n",
    "                p = re.compile('[0-9]')\n",
    "                aa = ''.join(p.findall(a[j].text))\n",
    "                stock2.append(aa)\n",
    "                try:\n",
    "                    bb = a[j].find('img')['alt']\n",
    "                    stock2.append(bb)\n",
    "                except:\n",
    "                    bb = '변동x'\n",
    "                    stock2.append(bb)\n",
    "            else:\n",
    "                aa = a[j].text\n",
    "                stock2.append(''.join(p.findall(aa)))\n",
    "        stock.append(stock2)\n",
    "        \n",
    "    insert_data = pd.DataFrame(stock,columns = cate)\n",
    "    stock_data = stock_data.append(insert_data)\n",
    "    \n",
    "stock_data.index = range(len(stock_data))"
   ]
  },
  {
   "cell_type": "code",
   "execution_count": 71,
   "metadata": {},
   "outputs": [],
   "source": [
    "stock_data2 = stock_data.drop(stock_data.index[5749])"
   ]
  },
  {
   "cell_type": "code",
   "execution_count": 77,
   "metadata": {
    "scrolled": true
   },
   "outputs": [
    {
     "data": {
      "text/plain": [
       "'45550'"
      ]
     },
     "execution_count": 77,
     "metadata": {},
     "output_type": "execute_result"
    }
   ],
   "source": [
    "''.join(p.findall(stock_data2['종가'].iloc[0]))"
   ]
  },
  {
   "cell_type": "code",
   "execution_count": 118,
   "metadata": {
    "scrolled": true
   },
   "outputs": [],
   "source": [
    "#오늘 날짜 제외\n",
    "stock_data2 = stock_data[1:]"
   ]
  },
  {
   "cell_type": "code",
   "execution_count": 170,
   "metadata": {
    "scrolled": true
   },
   "outputs": [
    {
     "name": "stderr",
     "output_type": "stream",
     "text": [
      "C:\\Users\\tlsal\\Anaconda3\\lib\\site-packages\\ipykernel_launcher.py:1: SettingWithCopyWarning: \n",
      "A value is trying to be set on a copy of a slice from a DataFrame.\n",
      "Try using .loc[row_indexer,col_indexer] = value instead\n",
      "\n",
      "See the caveats in the documentation: http://pandas.pydata.org/pandas-docs/stable/indexing.html#indexing-view-versus-copy\n",
      "  \"\"\"Entry point for launching an IPython kernel.\n"
     ]
    }
   ],
   "source": [
    "stock_data2['변동폭']=stock_data2['변동폭'].astype('float64')"
   ]
  },
  {
   "cell_type": "code",
   "execution_count": 173,
   "metadata": {},
   "outputs": [
    {
     "name": "stderr",
     "output_type": "stream",
     "text": [
      "C:\\Users\\tlsal\\Anaconda3\\lib\\site-packages\\ipykernel_launcher.py:1: SettingWithCopyWarning: \n",
      "A value is trying to be set on a copy of a slice from a DataFrame.\n",
      "Try using .loc[row_indexer,col_indexer] = value instead\n",
      "\n",
      "See the caveats in the documentation: http://pandas.pydata.org/pandas-docs/stable/indexing.html#indexing-view-versus-copy\n",
      "  \"\"\"Entry point for launching an IPython kernel.\n"
     ]
    }
   ],
   "source": [
    "stock_data2['거래량']=stock_data2['거래량'].astype('float64')"
   ]
  },
  {
   "cell_type": "code",
   "execution_count": 121,
   "metadata": {},
   "outputs": [
    {
     "name": "stderr",
     "output_type": "stream",
     "text": [
      "C:\\Users\\tlsal\\Anaconda3\\lib\\site-packages\\pandas\\core\\indexing.py:189: SettingWithCopyWarning: \n",
      "A value is trying to be set on a copy of a slice from a DataFrame\n",
      "\n",
      "See the caveats in the documentation: http://pandas.pydata.org/pandas-docs/stable/indexing.html#indexing-view-versus-copy\n",
      "  self._setitem_with_indexer(indexer, value)\n",
      "C:\\Users\\tlsal\\Anaconda3\\lib\\site-packages\\ipykernel_launcher.py:1: SettingWithCopyWarning: \n",
      "A value is trying to be set on a copy of a slice from a DataFrame\n",
      "\n",
      "See the caveats in the documentation: http://pandas.pydata.org/pandas-docs/stable/indexing.html#indexing-view-versus-copy\n",
      "  \"\"\"Entry point for launching an IPython kernel.\n"
     ]
    }
   ],
   "source": [
    "stock_data2.iloc[:,[1,2,4,5,6,7]] = stock_data2.iloc[:,[1,2,4,5,6,7]].astype('float64')"
   ]
  },
  {
   "cell_type": "code",
   "execution_count": 122,
   "metadata": {
    "scrolled": true
   },
   "outputs": [
    {
     "name": "stderr",
     "output_type": "stream",
     "text": [
      "C:\\Users\\tlsal\\Anaconda3\\lib\\site-packages\\ipykernel_launcher.py:2: SettingWithCopyWarning: \n",
      "A value is trying to be set on a copy of a slice from a DataFrame.\n",
      "Try using .loc[row_indexer,col_indexer] = value instead\n",
      "\n",
      "See the caveats in the documentation: http://pandas.pydata.org/pandas-docs/stable/indexing.html#indexing-view-versus-copy\n",
      "  \n"
     ]
    }
   ],
   "source": [
    "#변동폭 계산\n",
    "stock_data2['변동폭'] = stock_data2['고가']-stock_data2['저가']"
   ]
  },
  {
   "cell_type": "code",
   "execution_count": 123,
   "metadata": {
    "scrolled": true
   },
   "outputs": [
    {
     "data": {
      "text/html": [
       "<div>\n",
       "<style scoped>\n",
       "    .dataframe tbody tr th:only-of-type {\n",
       "        vertical-align: middle;\n",
       "    }\n",
       "\n",
       "    .dataframe tbody tr th {\n",
       "        vertical-align: top;\n",
       "    }\n",
       "\n",
       "    .dataframe thead th {\n",
       "        text-align: right;\n",
       "    }\n",
       "</style>\n",
       "<table border=\"1\" class=\"dataframe\">\n",
       "  <thead>\n",
       "    <tr style=\"text-align: right;\">\n",
       "      <th></th>\n",
       "      <th>날짜</th>\n",
       "      <th>종가</th>\n",
       "      <th>전일비</th>\n",
       "      <th>상승/하락</th>\n",
       "      <th>시가</th>\n",
       "      <th>고가</th>\n",
       "      <th>저가</th>\n",
       "      <th>거래량</th>\n",
       "      <th>변동폭</th>\n",
       "    </tr>\n",
       "  </thead>\n",
       "  <tbody>\n",
       "    <tr>\n",
       "      <th>1</th>\n",
       "      <td>20190429</td>\n",
       "      <td>46150</td>\n",
       "      <td>1300</td>\n",
       "      <td>상승</td>\n",
       "      <td>45150</td>\n",
       "      <td>46150</td>\n",
       "      <td>45100</td>\n",
       "      <td>8.77752e+06</td>\n",
       "      <td>1050</td>\n",
       "    </tr>\n",
       "    <tr>\n",
       "      <th>2</th>\n",
       "      <td>20190426</td>\n",
       "      <td>44850</td>\n",
       "      <td>200</td>\n",
       "      <td>상승</td>\n",
       "      <td>44200</td>\n",
       "      <td>45000</td>\n",
       "      <td>43800</td>\n",
       "      <td>9.73998e+06</td>\n",
       "      <td>1200</td>\n",
       "    </tr>\n",
       "    <tr>\n",
       "      <th>3</th>\n",
       "      <td>20190425</td>\n",
       "      <td>44650</td>\n",
       "      <td>100</td>\n",
       "      <td>하락</td>\n",
       "      <td>44250</td>\n",
       "      <td>45000</td>\n",
       "      <td>44100</td>\n",
       "      <td>1.0869e+07</td>\n",
       "      <td>900</td>\n",
       "    </tr>\n",
       "    <tr>\n",
       "      <th>4</th>\n",
       "      <td>20190424</td>\n",
       "      <td>44750</td>\n",
       "      <td>450</td>\n",
       "      <td>하락</td>\n",
       "      <td>45400</td>\n",
       "      <td>45650</td>\n",
       "      <td>44150</td>\n",
       "      <td>1.32993e+07</td>\n",
       "      <td>1500</td>\n",
       "    </tr>\n",
       "    <tr>\n",
       "      <th>5</th>\n",
       "      <td>20190423</td>\n",
       "      <td>45200</td>\n",
       "      <td>150</td>\n",
       "      <td>하락</td>\n",
       "      <td>45050</td>\n",
       "      <td>45500</td>\n",
       "      <td>45000</td>\n",
       "      <td>6.92057e+06</td>\n",
       "      <td>500</td>\n",
       "    </tr>\n",
       "    <tr>\n",
       "      <th>6</th>\n",
       "      <td>20190422</td>\n",
       "      <td>45350</td>\n",
       "      <td>50</td>\n",
       "      <td>상승</td>\n",
       "      <td>45400</td>\n",
       "      <td>45900</td>\n",
       "      <td>45100</td>\n",
       "      <td>6.00696e+06</td>\n",
       "      <td>800</td>\n",
       "    </tr>\n",
       "    <tr>\n",
       "      <th>7</th>\n",
       "      <td>20190419</td>\n",
       "      <td>45300</td>\n",
       "      <td>300</td>\n",
       "      <td>하락</td>\n",
       "      <td>45750</td>\n",
       "      <td>46000</td>\n",
       "      <td>45250</td>\n",
       "      <td>8.47971e+06</td>\n",
       "      <td>750</td>\n",
       "    </tr>\n",
       "    <tr>\n",
       "      <th>8</th>\n",
       "      <td>20190418</td>\n",
       "      <td>45600</td>\n",
       "      <td>1450</td>\n",
       "      <td>하락</td>\n",
       "      <td>47200</td>\n",
       "      <td>47250</td>\n",
       "      <td>45500</td>\n",
       "      <td>1.28087e+07</td>\n",
       "      <td>1750</td>\n",
       "    </tr>\n",
       "    <tr>\n",
       "      <th>9</th>\n",
       "      <td>20190417</td>\n",
       "      <td>47050</td>\n",
       "      <td>200</td>\n",
       "      <td>하락</td>\n",
       "      <td>47300</td>\n",
       "      <td>47600</td>\n",
       "      <td>47000</td>\n",
       "      <td>5.51366e+06</td>\n",
       "      <td>600</td>\n",
       "    </tr>\n",
       "    <tr>\n",
       "      <th>10</th>\n",
       "      <td>20190416</td>\n",
       "      <td>47250</td>\n",
       "      <td>200</td>\n",
       "      <td>상승</td>\n",
       "      <td>47400</td>\n",
       "      <td>47400</td>\n",
       "      <td>46800</td>\n",
       "      <td>7.73088e+06</td>\n",
       "      <td>600</td>\n",
       "    </tr>\n",
       "    <tr>\n",
       "      <th>11</th>\n",
       "      <td>20190415</td>\n",
       "      <td>47050</td>\n",
       "      <td>200</td>\n",
       "      <td>상승</td>\n",
       "      <td>47150</td>\n",
       "      <td>47500</td>\n",
       "      <td>47000</td>\n",
       "      <td>8.73302e+06</td>\n",
       "      <td>500</td>\n",
       "    </tr>\n",
       "    <tr>\n",
       "      <th>12</th>\n",
       "      <td>20190412</td>\n",
       "      <td>46850</td>\n",
       "      <td>600</td>\n",
       "      <td>상승</td>\n",
       "      <td>46050</td>\n",
       "      <td>46900</td>\n",
       "      <td>46000</td>\n",
       "      <td>7.66894e+06</td>\n",
       "      <td>900</td>\n",
       "    </tr>\n",
       "    <tr>\n",
       "      <th>13</th>\n",
       "      <td>20190411</td>\n",
       "      <td>46250</td>\n",
       "      <td>450</td>\n",
       "      <td>하락</td>\n",
       "      <td>46700</td>\n",
       "      <td>46800</td>\n",
       "      <td>46150</td>\n",
       "      <td>1.36974e+07</td>\n",
       "      <td>650</td>\n",
       "    </tr>\n",
       "    <tr>\n",
       "      <th>14</th>\n",
       "      <td>20190410</td>\n",
       "      <td>46700</td>\n",
       "      <td>50</td>\n",
       "      <td>상승</td>\n",
       "      <td>46400</td>\n",
       "      <td>46700</td>\n",
       "      <td>46050</td>\n",
       "      <td>1.1884e+07</td>\n",
       "      <td>650</td>\n",
       "    </tr>\n",
       "    <tr>\n",
       "      <th>15</th>\n",
       "      <td>20190409</td>\n",
       "      <td>46650</td>\n",
       "      <td>0</td>\n",
       "      <td>변동x</td>\n",
       "      <td>46700</td>\n",
       "      <td>46950</td>\n",
       "      <td>46200</td>\n",
       "      <td>6.87876e+06</td>\n",
       "      <td>750</td>\n",
       "    </tr>\n",
       "    <tr>\n",
       "      <th>16</th>\n",
       "      <td>20190408</td>\n",
       "      <td>46650</td>\n",
       "      <td>200</td>\n",
       "      <td>하락</td>\n",
       "      <td>47250</td>\n",
       "      <td>47250</td>\n",
       "      <td>46150</td>\n",
       "      <td>8.50791e+06</td>\n",
       "      <td>1100</td>\n",
       "    </tr>\n",
       "    <tr>\n",
       "      <th>17</th>\n",
       "      <td>20190405</td>\n",
       "      <td>46850</td>\n",
       "      <td>100</td>\n",
       "      <td>하락</td>\n",
       "      <td>46950</td>\n",
       "      <td>47550</td>\n",
       "      <td>46600</td>\n",
       "      <td>8.54634e+06</td>\n",
       "      <td>950</td>\n",
       "    </tr>\n",
       "    <tr>\n",
       "      <th>18</th>\n",
       "      <td>20190404</td>\n",
       "      <td>46950</td>\n",
       "      <td>350</td>\n",
       "      <td>상승</td>\n",
       "      <td>46150</td>\n",
       "      <td>47100</td>\n",
       "      <td>46150</td>\n",
       "      <td>1.26502e+07</td>\n",
       "      <td>950</td>\n",
       "    </tr>\n",
       "    <tr>\n",
       "      <th>19</th>\n",
       "      <td>20190403</td>\n",
       "      <td>46600</td>\n",
       "      <td>850</td>\n",
       "      <td>상승</td>\n",
       "      <td>46750</td>\n",
       "      <td>46750</td>\n",
       "      <td>45800</td>\n",
       "      <td>1.24366e+07</td>\n",
       "      <td>950</td>\n",
       "    </tr>\n",
       "    <tr>\n",
       "      <th>20</th>\n",
       "      <td>20190402</td>\n",
       "      <td>45750</td>\n",
       "      <td>700</td>\n",
       "      <td>상승</td>\n",
       "      <td>45550</td>\n",
       "      <td>46100</td>\n",
       "      <td>45350</td>\n",
       "      <td>9.48069e+06</td>\n",
       "      <td>750</td>\n",
       "    </tr>\n",
       "    <tr>\n",
       "      <th>21</th>\n",
       "      <td>20190401</td>\n",
       "      <td>45050</td>\n",
       "      <td>400</td>\n",
       "      <td>상승</td>\n",
       "      <td>45200</td>\n",
       "      <td>45450</td>\n",
       "      <td>44850</td>\n",
       "      <td>7.36213e+06</td>\n",
       "      <td>600</td>\n",
       "    </tr>\n",
       "    <tr>\n",
       "      <th>22</th>\n",
       "      <td>20190329</td>\n",
       "      <td>44650</td>\n",
       "      <td>200</td>\n",
       "      <td>하락</td>\n",
       "      <td>44500</td>\n",
       "      <td>44900</td>\n",
       "      <td>44200</td>\n",
       "      <td>1.14917e+07</td>\n",
       "      <td>700</td>\n",
       "    </tr>\n",
       "    <tr>\n",
       "      <th>23</th>\n",
       "      <td>20190328</td>\n",
       "      <td>44850</td>\n",
       "      <td>500</td>\n",
       "      <td>하락</td>\n",
       "      <td>44950</td>\n",
       "      <td>45200</td>\n",
       "      <td>44300</td>\n",
       "      <td>6.82131e+06</td>\n",
       "      <td>900</td>\n",
       "    </tr>\n",
       "    <tr>\n",
       "      <th>24</th>\n",
       "      <td>20190327</td>\n",
       "      <td>45350</td>\n",
       "      <td>100</td>\n",
       "      <td>상승</td>\n",
       "      <td>44750</td>\n",
       "      <td>45600</td>\n",
       "      <td>44250</td>\n",
       "      <td>9.56808e+06</td>\n",
       "      <td>1350</td>\n",
       "    </tr>\n",
       "    <tr>\n",
       "      <th>25</th>\n",
       "      <td>20190326</td>\n",
       "      <td>45250</td>\n",
       "      <td>250</td>\n",
       "      <td>하락</td>\n",
       "      <td>45500</td>\n",
       "      <td>45700</td>\n",
       "      <td>44900</td>\n",
       "      <td>9.72981e+06</td>\n",
       "      <td>800</td>\n",
       "    </tr>\n",
       "    <tr>\n",
       "      <th>26</th>\n",
       "      <td>20190325</td>\n",
       "      <td>45500</td>\n",
       "      <td>1050</td>\n",
       "      <td>하락</td>\n",
       "      <td>45300</td>\n",
       "      <td>45650</td>\n",
       "      <td>44800</td>\n",
       "      <td>8.69973e+06</td>\n",
       "      <td>850</td>\n",
       "    </tr>\n",
       "    <tr>\n",
       "      <th>27</th>\n",
       "      <td>20190322</td>\n",
       "      <td>46550</td>\n",
       "      <td>700</td>\n",
       "      <td>상승</td>\n",
       "      <td>46850</td>\n",
       "      <td>47000</td>\n",
       "      <td>46250</td>\n",
       "      <td>1.25359e+07</td>\n",
       "      <td>750</td>\n",
       "    </tr>\n",
       "    <tr>\n",
       "      <th>28</th>\n",
       "      <td>20190321</td>\n",
       "      <td>45850</td>\n",
       "      <td>1800</td>\n",
       "      <td>상승</td>\n",
       "      <td>44600</td>\n",
       "      <td>46250</td>\n",
       "      <td>44050</td>\n",
       "      <td>2.1138e+07</td>\n",
       "      <td>2200</td>\n",
       "    </tr>\n",
       "    <tr>\n",
       "      <th>29</th>\n",
       "      <td>20190320</td>\n",
       "      <td>44050</td>\n",
       "      <td>150</td>\n",
       "      <td>상승</td>\n",
       "      <td>43800</td>\n",
       "      <td>44200</td>\n",
       "      <td>43100</td>\n",
       "      <td>9.84624e+06</td>\n",
       "      <td>1100</td>\n",
       "    </tr>\n",
       "    <tr>\n",
       "      <th>30</th>\n",
       "      <td>20190319</td>\n",
       "      <td>43900</td>\n",
       "      <td>200</td>\n",
       "      <td>상승</td>\n",
       "      <td>43750</td>\n",
       "      <td>43900</td>\n",
       "      <td>43550</td>\n",
       "      <td>7.60956e+06</td>\n",
       "      <td>350</td>\n",
       "    </tr>\n",
       "    <tr>\n",
       "      <th>...</th>\n",
       "      <td>...</td>\n",
       "      <td>...</td>\n",
       "      <td>...</td>\n",
       "      <td>...</td>\n",
       "      <td>...</td>\n",
       "      <td>...</td>\n",
       "      <td>...</td>\n",
       "      <td>...</td>\n",
       "      <td>...</td>\n",
       "    </tr>\n",
       "    <tr>\n",
       "      <th>5710</th>\n",
       "      <td>19960809</td>\n",
       "      <td>71800</td>\n",
       "      <td>2000</td>\n",
       "      <td>하락</td>\n",
       "      <td>72500</td>\n",
       "      <td>73000</td>\n",
       "      <td>71500</td>\n",
       "      <td>160570</td>\n",
       "      <td>1500</td>\n",
       "    </tr>\n",
       "    <tr>\n",
       "      <th>5711</th>\n",
       "      <td>19960808</td>\n",
       "      <td>73800</td>\n",
       "      <td>2500</td>\n",
       "      <td>상승</td>\n",
       "      <td>72000</td>\n",
       "      <td>75400</td>\n",
       "      <td>71600</td>\n",
       "      <td>226600</td>\n",
       "      <td>3800</td>\n",
       "    </tr>\n",
       "    <tr>\n",
       "      <th>5712</th>\n",
       "      <td>19960807</td>\n",
       "      <td>71300</td>\n",
       "      <td>0</td>\n",
       "      <td>변동x</td>\n",
       "      <td>71300</td>\n",
       "      <td>71800</td>\n",
       "      <td>71000</td>\n",
       "      <td>61000</td>\n",
       "      <td>800</td>\n",
       "    </tr>\n",
       "    <tr>\n",
       "      <th>5713</th>\n",
       "      <td>19960806</td>\n",
       "      <td>71300</td>\n",
       "      <td>300</td>\n",
       "      <td>상승</td>\n",
       "      <td>70000</td>\n",
       "      <td>72000</td>\n",
       "      <td>70000</td>\n",
       "      <td>59640</td>\n",
       "      <td>2000</td>\n",
       "    </tr>\n",
       "    <tr>\n",
       "      <th>5714</th>\n",
       "      <td>19960805</td>\n",
       "      <td>71000</td>\n",
       "      <td>900</td>\n",
       "      <td>상승</td>\n",
       "      <td>69900</td>\n",
       "      <td>71000</td>\n",
       "      <td>69800</td>\n",
       "      <td>48640</td>\n",
       "      <td>1200</td>\n",
       "    </tr>\n",
       "    <tr>\n",
       "      <th>5715</th>\n",
       "      <td>19960803</td>\n",
       "      <td>70100</td>\n",
       "      <td>0</td>\n",
       "      <td>변동x</td>\n",
       "      <td>70000</td>\n",
       "      <td>70100</td>\n",
       "      <td>69500</td>\n",
       "      <td>30090</td>\n",
       "      <td>600</td>\n",
       "    </tr>\n",
       "    <tr>\n",
       "      <th>5716</th>\n",
       "      <td>19960802</td>\n",
       "      <td>70100</td>\n",
       "      <td>100</td>\n",
       "      <td>하락</td>\n",
       "      <td>70200</td>\n",
       "      <td>70500</td>\n",
       "      <td>69800</td>\n",
       "      <td>67490</td>\n",
       "      <td>700</td>\n",
       "    </tr>\n",
       "    <tr>\n",
       "      <th>5717</th>\n",
       "      <td>19960801</td>\n",
       "      <td>70200</td>\n",
       "      <td>200</td>\n",
       "      <td>상승</td>\n",
       "      <td>71000</td>\n",
       "      <td>71000</td>\n",
       "      <td>70000</td>\n",
       "      <td>101810</td>\n",
       "      <td>1000</td>\n",
       "    </tr>\n",
       "    <tr>\n",
       "      <th>5718</th>\n",
       "      <td>19960731</td>\n",
       "      <td>70000</td>\n",
       "      <td>200</td>\n",
       "      <td>하락</td>\n",
       "      <td>70200</td>\n",
       "      <td>70500</td>\n",
       "      <td>69700</td>\n",
       "      <td>65220</td>\n",
       "      <td>800</td>\n",
       "    </tr>\n",
       "    <tr>\n",
       "      <th>5719</th>\n",
       "      <td>19960730</td>\n",
       "      <td>70200</td>\n",
       "      <td>600</td>\n",
       "      <td>하락</td>\n",
       "      <td>70800</td>\n",
       "      <td>70800</td>\n",
       "      <td>69300</td>\n",
       "      <td>68800</td>\n",
       "      <td>1500</td>\n",
       "    </tr>\n",
       "    <tr>\n",
       "      <th>5720</th>\n",
       "      <td>19960729</td>\n",
       "      <td>70800</td>\n",
       "      <td>500</td>\n",
       "      <td>상승</td>\n",
       "      <td>70300</td>\n",
       "      <td>71600</td>\n",
       "      <td>70300</td>\n",
       "      <td>57710</td>\n",
       "      <td>1300</td>\n",
       "    </tr>\n",
       "    <tr>\n",
       "      <th>5721</th>\n",
       "      <td>19960727</td>\n",
       "      <td>70300</td>\n",
       "      <td>500</td>\n",
       "      <td>상승</td>\n",
       "      <td>69800</td>\n",
       "      <td>71000</td>\n",
       "      <td>69100</td>\n",
       "      <td>57160</td>\n",
       "      <td>1900</td>\n",
       "    </tr>\n",
       "    <tr>\n",
       "      <th>5722</th>\n",
       "      <td>19960726</td>\n",
       "      <td>69800</td>\n",
       "      <td>200</td>\n",
       "      <td>하락</td>\n",
       "      <td>70000</td>\n",
       "      <td>71000</td>\n",
       "      <td>69600</td>\n",
       "      <td>102560</td>\n",
       "      <td>1400</td>\n",
       "    </tr>\n",
       "    <tr>\n",
       "      <th>5723</th>\n",
       "      <td>19960725</td>\n",
       "      <td>70000</td>\n",
       "      <td>2500</td>\n",
       "      <td>하락</td>\n",
       "      <td>71500</td>\n",
       "      <td>71900</td>\n",
       "      <td>69500</td>\n",
       "      <td>123880</td>\n",
       "      <td>2400</td>\n",
       "    </tr>\n",
       "    <tr>\n",
       "      <th>5724</th>\n",
       "      <td>19960724</td>\n",
       "      <td>72500</td>\n",
       "      <td>2200</td>\n",
       "      <td>하락</td>\n",
       "      <td>74800</td>\n",
       "      <td>75500</td>\n",
       "      <td>72500</td>\n",
       "      <td>91300</td>\n",
       "      <td>3000</td>\n",
       "    </tr>\n",
       "    <tr>\n",
       "      <th>5725</th>\n",
       "      <td>19960723</td>\n",
       "      <td>74700</td>\n",
       "      <td>300</td>\n",
       "      <td>하락</td>\n",
       "      <td>75000</td>\n",
       "      <td>75200</td>\n",
       "      <td>73600</td>\n",
       "      <td>89150</td>\n",
       "      <td>1600</td>\n",
       "    </tr>\n",
       "    <tr>\n",
       "      <th>5726</th>\n",
       "      <td>19960722</td>\n",
       "      <td>75000</td>\n",
       "      <td>1700</td>\n",
       "      <td>하락</td>\n",
       "      <td>76100</td>\n",
       "      <td>77400</td>\n",
       "      <td>75000</td>\n",
       "      <td>178690</td>\n",
       "      <td>2400</td>\n",
       "    </tr>\n",
       "    <tr>\n",
       "      <th>5727</th>\n",
       "      <td>19960720</td>\n",
       "      <td>76700</td>\n",
       "      <td>2500</td>\n",
       "      <td>상승</td>\n",
       "      <td>75700</td>\n",
       "      <td>78600</td>\n",
       "      <td>74200</td>\n",
       "      <td>298780</td>\n",
       "      <td>4400</td>\n",
       "    </tr>\n",
       "    <tr>\n",
       "      <th>5728</th>\n",
       "      <td>19960719</td>\n",
       "      <td>74200</td>\n",
       "      <td>4200</td>\n",
       "      <td>상승</td>\n",
       "      <td>70000</td>\n",
       "      <td>74200</td>\n",
       "      <td>70000</td>\n",
       "      <td>179810</td>\n",
       "      <td>4200</td>\n",
       "    </tr>\n",
       "    <tr>\n",
       "      <th>5729</th>\n",
       "      <td>19960718</td>\n",
       "      <td>70000</td>\n",
       "      <td>1200</td>\n",
       "      <td>상승</td>\n",
       "      <td>69000</td>\n",
       "      <td>72000</td>\n",
       "      <td>68900</td>\n",
       "      <td>222710</td>\n",
       "      <td>3100</td>\n",
       "    </tr>\n",
       "    <tr>\n",
       "      <th>5730</th>\n",
       "      <td>19960716</td>\n",
       "      <td>68800</td>\n",
       "      <td>800</td>\n",
       "      <td>상승</td>\n",
       "      <td>67000</td>\n",
       "      <td>69100</td>\n",
       "      <td>66500</td>\n",
       "      <td>55880</td>\n",
       "      <td>2600</td>\n",
       "    </tr>\n",
       "    <tr>\n",
       "      <th>5731</th>\n",
       "      <td>19960715</td>\n",
       "      <td>68000</td>\n",
       "      <td>900</td>\n",
       "      <td>하락</td>\n",
       "      <td>69000</td>\n",
       "      <td>69500</td>\n",
       "      <td>68000</td>\n",
       "      <td>66490</td>\n",
       "      <td>1500</td>\n",
       "    </tr>\n",
       "    <tr>\n",
       "      <th>5732</th>\n",
       "      <td>19960713</td>\n",
       "      <td>68900</td>\n",
       "      <td>100</td>\n",
       "      <td>상승</td>\n",
       "      <td>69000</td>\n",
       "      <td>69500</td>\n",
       "      <td>68900</td>\n",
       "      <td>59150</td>\n",
       "      <td>600</td>\n",
       "    </tr>\n",
       "    <tr>\n",
       "      <th>5733</th>\n",
       "      <td>19960712</td>\n",
       "      <td>68800</td>\n",
       "      <td>0</td>\n",
       "      <td>변동x</td>\n",
       "      <td>68800</td>\n",
       "      <td>70000</td>\n",
       "      <td>68300</td>\n",
       "      <td>91420</td>\n",
       "      <td>1700</td>\n",
       "    </tr>\n",
       "    <tr>\n",
       "      <th>5734</th>\n",
       "      <td>19960711</td>\n",
       "      <td>68800</td>\n",
       "      <td>1800</td>\n",
       "      <td>하락</td>\n",
       "      <td>70600</td>\n",
       "      <td>70800</td>\n",
       "      <td>68500</td>\n",
       "      <td>109690</td>\n",
       "      <td>2300</td>\n",
       "    </tr>\n",
       "    <tr>\n",
       "      <th>5735</th>\n",
       "      <td>19960710</td>\n",
       "      <td>70600</td>\n",
       "      <td>1100</td>\n",
       "      <td>하락</td>\n",
       "      <td>71700</td>\n",
       "      <td>72000</td>\n",
       "      <td>70500</td>\n",
       "      <td>99200</td>\n",
       "      <td>1500</td>\n",
       "    </tr>\n",
       "    <tr>\n",
       "      <th>5736</th>\n",
       "      <td>19960709</td>\n",
       "      <td>71700</td>\n",
       "      <td>800</td>\n",
       "      <td>상승</td>\n",
       "      <td>70900</td>\n",
       "      <td>71700</td>\n",
       "      <td>70100</td>\n",
       "      <td>64910</td>\n",
       "      <td>1600</td>\n",
       "    </tr>\n",
       "    <tr>\n",
       "      <th>5737</th>\n",
       "      <td>19960708</td>\n",
       "      <td>70900</td>\n",
       "      <td>600</td>\n",
       "      <td>하락</td>\n",
       "      <td>71600</td>\n",
       "      <td>71600</td>\n",
       "      <td>70800</td>\n",
       "      <td>62100</td>\n",
       "      <td>800</td>\n",
       "    </tr>\n",
       "    <tr>\n",
       "      <th>5738</th>\n",
       "      <td>19960706</td>\n",
       "      <td>71500</td>\n",
       "      <td>200</td>\n",
       "      <td>상승</td>\n",
       "      <td>71300</td>\n",
       "      <td>72700</td>\n",
       "      <td>71300</td>\n",
       "      <td>35510</td>\n",
       "      <td>1400</td>\n",
       "    </tr>\n",
       "    <tr>\n",
       "      <th>5739</th>\n",
       "      <td>19960705</td>\n",
       "      <td>71300</td>\n",
       "      <td>600</td>\n",
       "      <td>하락</td>\n",
       "      <td>72000</td>\n",
       "      <td>72300</td>\n",
       "      <td>71000</td>\n",
       "      <td>77960</td>\n",
       "      <td>1300</td>\n",
       "    </tr>\n",
       "  </tbody>\n",
       "</table>\n",
       "<p>5739 rows × 9 columns</p>\n",
       "</div>"
      ],
      "text/plain": [
       "            날짜     종가   전일비 상승/하락     시가     고가     저가          거래량   변동폭\n",
       "1     20190429  46150  1300    상승  45150  46150  45100  8.77752e+06  1050\n",
       "2     20190426  44850   200    상승  44200  45000  43800  9.73998e+06  1200\n",
       "3     20190425  44650   100    하락  44250  45000  44100   1.0869e+07   900\n",
       "4     20190424  44750   450    하락  45400  45650  44150  1.32993e+07  1500\n",
       "5     20190423  45200   150    하락  45050  45500  45000  6.92057e+06   500\n",
       "6     20190422  45350    50    상승  45400  45900  45100  6.00696e+06   800\n",
       "7     20190419  45300   300    하락  45750  46000  45250  8.47971e+06   750\n",
       "8     20190418  45600  1450    하락  47200  47250  45500  1.28087e+07  1750\n",
       "9     20190417  47050   200    하락  47300  47600  47000  5.51366e+06   600\n",
       "10    20190416  47250   200    상승  47400  47400  46800  7.73088e+06   600\n",
       "11    20190415  47050   200    상승  47150  47500  47000  8.73302e+06   500\n",
       "12    20190412  46850   600    상승  46050  46900  46000  7.66894e+06   900\n",
       "13    20190411  46250   450    하락  46700  46800  46150  1.36974e+07   650\n",
       "14    20190410  46700    50    상승  46400  46700  46050   1.1884e+07   650\n",
       "15    20190409  46650     0   변동x  46700  46950  46200  6.87876e+06   750\n",
       "16    20190408  46650   200    하락  47250  47250  46150  8.50791e+06  1100\n",
       "17    20190405  46850   100    하락  46950  47550  46600  8.54634e+06   950\n",
       "18    20190404  46950   350    상승  46150  47100  46150  1.26502e+07   950\n",
       "19    20190403  46600   850    상승  46750  46750  45800  1.24366e+07   950\n",
       "20    20190402  45750   700    상승  45550  46100  45350  9.48069e+06   750\n",
       "21    20190401  45050   400    상승  45200  45450  44850  7.36213e+06   600\n",
       "22    20190329  44650   200    하락  44500  44900  44200  1.14917e+07   700\n",
       "23    20190328  44850   500    하락  44950  45200  44300  6.82131e+06   900\n",
       "24    20190327  45350   100    상승  44750  45600  44250  9.56808e+06  1350\n",
       "25    20190326  45250   250    하락  45500  45700  44900  9.72981e+06   800\n",
       "26    20190325  45500  1050    하락  45300  45650  44800  8.69973e+06   850\n",
       "27    20190322  46550   700    상승  46850  47000  46250  1.25359e+07   750\n",
       "28    20190321  45850  1800    상승  44600  46250  44050   2.1138e+07  2200\n",
       "29    20190320  44050   150    상승  43800  44200  43100  9.84624e+06  1100\n",
       "30    20190319  43900   200    상승  43750  43900  43550  7.60956e+06   350\n",
       "...        ...    ...   ...   ...    ...    ...    ...          ...   ...\n",
       "5710  19960809  71800  2000    하락  72500  73000  71500       160570  1500\n",
       "5711  19960808  73800  2500    상승  72000  75400  71600       226600  3800\n",
       "5712  19960807  71300     0   변동x  71300  71800  71000        61000   800\n",
       "5713  19960806  71300   300    상승  70000  72000  70000        59640  2000\n",
       "5714  19960805  71000   900    상승  69900  71000  69800        48640  1200\n",
       "5715  19960803  70100     0   변동x  70000  70100  69500        30090   600\n",
       "5716  19960802  70100   100    하락  70200  70500  69800        67490   700\n",
       "5717  19960801  70200   200    상승  71000  71000  70000       101810  1000\n",
       "5718  19960731  70000   200    하락  70200  70500  69700        65220   800\n",
       "5719  19960730  70200   600    하락  70800  70800  69300        68800  1500\n",
       "5720  19960729  70800   500    상승  70300  71600  70300        57710  1300\n",
       "5721  19960727  70300   500    상승  69800  71000  69100        57160  1900\n",
       "5722  19960726  69800   200    하락  70000  71000  69600       102560  1400\n",
       "5723  19960725  70000  2500    하락  71500  71900  69500       123880  2400\n",
       "5724  19960724  72500  2200    하락  74800  75500  72500        91300  3000\n",
       "5725  19960723  74700   300    하락  75000  75200  73600        89150  1600\n",
       "5726  19960722  75000  1700    하락  76100  77400  75000       178690  2400\n",
       "5727  19960720  76700  2500    상승  75700  78600  74200       298780  4400\n",
       "5728  19960719  74200  4200    상승  70000  74200  70000       179810  4200\n",
       "5729  19960718  70000  1200    상승  69000  72000  68900       222710  3100\n",
       "5730  19960716  68800   800    상승  67000  69100  66500        55880  2600\n",
       "5731  19960715  68000   900    하락  69000  69500  68000        66490  1500\n",
       "5732  19960713  68900   100    상승  69000  69500  68900        59150   600\n",
       "5733  19960712  68800     0   변동x  68800  70000  68300        91420  1700\n",
       "5734  19960711  68800  1800    하락  70600  70800  68500       109690  2300\n",
       "5735  19960710  70600  1100    하락  71700  72000  70500        99200  1500\n",
       "5736  19960709  71700   800    상승  70900  71700  70100        64910  1600\n",
       "5737  19960708  70900   600    하락  71600  71600  70800        62100   800\n",
       "5738  19960706  71500   200    상승  71300  72700  71300        35510  1400\n",
       "5739  19960705  71300   600    하락  72000  72300  71000        77960  1300\n",
       "\n",
       "[5739 rows x 9 columns]"
      ]
     },
     "execution_count": 123,
     "metadata": {},
     "output_type": "execute_result"
    }
   ],
   "source": [
    "stock_data2"
   ]
  },
  {
   "cell_type": "code",
   "execution_count": 194,
   "metadata": {},
   "outputs": [],
   "source": [
    "stock_data2.to_csv('주식데이터.csv')"
   ]
  },
  {
   "cell_type": "code",
   "execution_count": 135,
   "metadata": {},
   "outputs": [
    {
     "data": {
      "text/plain": [
       "False"
      ]
     },
     "execution_count": 135,
     "metadata": {},
     "output_type": "execute_result"
    }
   ],
   "source": [
    "stock_data2.isnull().values.any()"
   ]
  },
  {
   "cell_type": "code",
   "execution_count": 112,
   "metadata": {},
   "outputs": [
    {
     "data": {
      "text/plain": [
       "pandas.core.series.Series"
      ]
     },
     "execution_count": 112,
     "metadata": {},
     "output_type": "execute_result"
    }
   ],
   "source": [
    "type(stock_data2['변동폭'])"
   ]
  },
  {
   "cell_type": "markdown",
   "metadata": {},
   "source": [
    "# 상관분석\n",
    "### seaborn을 사용"
   ]
  },
  {
   "cell_type": "markdown",
   "metadata": {},
   "source": [
    "#상관분석을 진행하기 위해서는 데이터의 형식을 float나 float64로 맞춰줘야함"
   ]
  },
  {
   "cell_type": "code",
   "execution_count": 181,
   "metadata": {},
   "outputs": [],
   "source": [
    "#import matplotlib as mpl\n",
    "import matplotlib.pylab as plt"
   ]
  },
  {
   "cell_type": "code",
   "execution_count": 186,
   "metadata": {},
   "outputs": [],
   "source": [
    "plt.rc('font', family='nanumgothic')\n",
    "plt.rc('axes', unicode_minus=False)\n",
    "\n"
   ]
  },
  {
   "cell_type": "code",
   "execution_count": 141,
   "metadata": {},
   "outputs": [],
   "source": [
    "import seaborn as sns\n",
    "import matplotlib.pyplot as plt\n",
    "from matplotlib import font_manager, rc\n",
    "import matplotlib"
   ]
  },
  {
   "cell_type": "code",
   "execution_count": 159,
   "metadata": {},
   "outputs": [],
   "source": [
    "x = stock_data2['거래량']/10000"
   ]
  },
  {
   "cell_type": "code",
   "execution_count": 160,
   "metadata": {},
   "outputs": [],
   "source": [
    "x=x.tolist()"
   ]
  },
  {
   "cell_type": "code",
   "execution_count": 149,
   "metadata": {},
   "outputs": [],
   "source": [
    "y = stock_data2['변동폭'].tolist()"
   ]
  },
  {
   "cell_type": "code",
   "execution_count": 164,
   "metadata": {},
   "outputs": [
    {
     "data": {
      "text/plain": [
       "<matplotlib.collections.PathCollection at 0x1d2d220feb8>"
      ]
     },
     "execution_count": 164,
     "metadata": {},
     "output_type": "execute_result"
    },
    {
     "data": {
      "image/png": "[encoded data removed]",
      "text/plain": [
       "<Figure size 432x288 with 1 Axes>"
      ]
     },
     "metadata": {},
     "output_type": "display_data"
    }
   ],
   "source": [
    "plt.scatter(x, y)"
   ]
  },
  {
   "cell_type": "code",
   "execution_count": 179,
   "metadata": {},
   "outputs": [],
   "source": [
    "#거래량과 변동폭을 이용한 상관분석\n",
    "var_cor = stock_data2[['거래량','변동폭']].corr()"
   ]
  },
  {
   "cell_type": "code",
   "execution_count": 177,
   "metadata": {},
   "outputs": [
    {
     "data": {
      "text/html": [
       "<div>\n",
       "<style scoped>\n",
       "    .dataframe tbody tr th:only-of-type {\n",
       "        vertical-align: middle;\n",
       "    }\n",
       "\n",
       "    .dataframe tbody tr th {\n",
       "        vertical-align: top;\n",
       "    }\n",
       "\n",
       "    .dataframe thead th {\n",
       "        text-align: right;\n",
       "    }\n",
       "</style>\n",
       "<table border=\"1\" class=\"dataframe\">\n",
       "  <thead>\n",
       "    <tr style=\"text-align: right;\">\n",
       "      <th></th>\n",
       "      <th>거래량</th>\n",
       "      <th>변동폭</th>\n",
       "    </tr>\n",
       "  </thead>\n",
       "  <tbody>\n",
       "    <tr>\n",
       "      <th>거래량</th>\n",
       "      <td>1.000000</td>\n",
       "      <td>-0.205824</td>\n",
       "    </tr>\n",
       "    <tr>\n",
       "      <th>변동폭</th>\n",
       "      <td>-0.205824</td>\n",
       "      <td>1.000000</td>\n",
       "    </tr>\n",
       "  </tbody>\n",
       "</table>\n",
       "</div>"
      ],
      "text/plain": [
       "          거래량       변동폭\n",
       "거래량  1.000000 -0.205824\n",
       "변동폭 -0.205824  1.000000"
      ]
     },
     "execution_count": 177,
     "metadata": {},
     "output_type": "execute_result"
    }
   ],
   "source": [
    "stock_data2[['거래량','변동폭']].corr()"
   ]
  },
  {
   "cell_type": "code",
   "execution_count": 183,
   "metadata": {
    "scrolled": true
   },
   "outputs": [
    {
     "data": {
      "text/plain": [
       "<matplotlib.axes._subplots.AxesSubplot at 0x1d2d20b1748>"
      ]
     },
     "execution_count": 183,
     "metadata": {},
     "output_type": "execute_result"
    },
    {
     "data": {
      "image/png": "[encoded data removed]",
      "text/plain": [
       "<Figure size 432x288 with 2 Axes>"
      ]
     },
     "metadata": {},
     "output_type": "display_data"
    }
   ],
   "source": [
    "sns.heatmap(var_cor,annot=True)"
   ]
  },
  {
   "cell_type": "code",
   "execution_count": 189,
   "metadata": {},
   "outputs": [],
   "source": [
    "from scipy import stats"
   ]
  },
  {
   "cell_type": "code",
   "execution_count": 190,
   "metadata": {
    "scrolled": true
   },
   "outputs": [
    {
     "name": "stderr",
     "output_type": "stream",
     "text": [
      "C:\\Users\\tlsal\\Anaconda3\\lib\\site-packages\\scipy\\stats\\stats.py:4567: RuntimeWarning: divide by zero encountered in true_divide\n",
      "  terms = (f_obs - f_exp)**2 / f_exp\n",
      "C:\\Users\\tlsal\\Anaconda3\\lib\\site-packages\\scipy\\stats\\stats.py:4567: RuntimeWarning: invalid value encountered in true_divide\n",
      "  terms = (f_obs - f_exp)**2 / f_exp\n",
      "C:\\Users\\tlsal\\Anaconda3\\lib\\site-packages\\scipy\\stats\\_distn_infrastructure.py:879: RuntimeWarning: invalid value encountered in greater\n",
      "  return (self.a < x) & (x < self.b)\n",
      "C:\\Users\\tlsal\\Anaconda3\\lib\\site-packages\\scipy\\stats\\_distn_infrastructure.py:879: RuntimeWarning: invalid value encountered in less\n",
      "  return (self.a < x) & (x < self.b)\n",
      "C:\\Users\\tlsal\\Anaconda3\\lib\\site-packages\\scipy\\stats\\_distn_infrastructure.py:1821: RuntimeWarning: invalid value encountered in less_equal\n",
      "  cond2 = cond0 & (x <= self.a)\n"
     ]
    },
    {
     "data": {
      "text/plain": [
       "Power_divergenceResult(statistic=nan, pvalue=nan)"
      ]
     },
     "execution_count": 190,
     "metadata": {},
     "output_type": "execute_result"
    }
   ],
   "source": [
    "stats.chisquare(stock_data2['거래량'],stock_data2['변동폭'])"
   ]
  },
  {
   "cell_type": "markdown",
   "metadata": {},
   "source": [
    "#통계검정 사이트 (p-value중심) http://blog.naver.com/PostView.nhn?blogId=nonamed0000&logNo=220908890568&parentCategoryNo=&categoryNo=26&viewDate=&isShowPopularPosts=false&from=section"
   ]
  },
  {
   "cell_type": "markdown",
   "metadata": {},
   "source": [
    "# 회귀분석"
   ]
  },
  {
   "cell_type": "code",
   "execution_count": 187,
   "metadata": {
    "scrolled": true
   },
   "outputs": [
    {
     "data": {
      "text/html": [
       "<table class=\"simpletable\">\n",
       "<caption>OLS Regression Results</caption>\n",
       "<tr>\n",
       "  <th>Dep. Variable:</th>           <td>거래량</td>       <th>  R-squared:         </th> <td>   0.042</td> \n",
       "</tr>\n",
       "<tr>\n",
       "  <th>Model:</th>                   <td>OLS</td>       <th>  Adj. R-squared:    </th> <td>   0.042</td> \n",
       "</tr>\n",
       "<tr>\n",
       "  <th>Method:</th>             <td>Least Squares</td>  <th>  F-statistic:       </th> <td>   253.8</td> \n",
       "</tr>\n",
       "<tr>\n",
       "  <th>Date:</th>             <td>Tue, 30 Apr 2019</td> <th>  Prob (F-statistic):</th> <td>6.04e-56</td> \n",
       "</tr>\n",
       "<tr>\n",
       "  <th>Time:</th>                 <td>15:12:19</td>     <th>  Log-Likelihood:    </th> <td> -26539.</td> \n",
       "</tr>\n",
       "<tr>\n",
       "  <th>No. Observations:</th>      <td>  5739</td>      <th>  AIC:               </th> <td>5.308e+04</td>\n",
       "</tr>\n",
       "<tr>\n",
       "  <th>Df Residuals:</th>          <td>  5737</td>      <th>  BIC:               </th> <td>5.310e+04</td>\n",
       "</tr>\n",
       "<tr>\n",
       "  <th>Df Model:</th>              <td>     1</td>      <th>                     </th>     <td> </td>    \n",
       "</tr>\n",
       "<tr>\n",
       "  <th>Covariance Type:</th>      <td>nonrobust</td>    <th>                     </th>     <td> </td>    \n",
       "</tr>\n",
       "</table>\n",
       "<table class=\"simpletable\">\n",
       "<tr>\n",
       "    <td></td>       <th>coef</th>     <th>std err</th>      <th>t</th>      <th>P>|t|</th>  <th>[0.025</th>    <th>0.975]</th>  \n",
       "</tr>\n",
       "<tr>\n",
       "  <th>const</th> <td>   15.2445</td> <td>    0.490</td> <td>   31.095</td> <td> 0.000</td> <td>   14.283</td> <td>   16.206</td>\n",
       "</tr>\n",
       "<tr>\n",
       "  <th>변동폭</th>   <td>   -0.0004</td> <td>  2.3e-05</td> <td>  -15.931</td> <td> 0.000</td> <td>   -0.000</td> <td>   -0.000</td>\n",
       "</tr>\n",
       "</table>\n",
       "<table class=\"simpletable\">\n",
       "<tr>\n",
       "  <th>Omnibus:</th>       <td>7671.211</td> <th>  Durbin-Watson:     </th>  <td>   0.343</td>  \n",
       "</tr>\n",
       "<tr>\n",
       "  <th>Prob(Omnibus):</th>  <td> 0.000</td>  <th>  Jarque-Bera (JB):  </th> <td>2472309.746</td>\n",
       "</tr>\n",
       "<tr>\n",
       "  <th>Skew:</th>           <td> 7.427</td>  <th>  Prob(JB):          </th>  <td>    0.00</td>  \n",
       "</tr>\n",
       "<tr>\n",
       "  <th>Kurtosis:</th>       <td>103.590</td> <th>  Cond. No.          </th>  <td>3.21e+04</td>  \n",
       "</tr>\n",
       "</table><br/><br/>Warnings:<br/>[1] Standard Errors assume that the covariance matrix of the errors is correctly specified.<br/>[2] The condition number is large, 3.21e+04. This might indicate that there are<br/>strong multicollinearity or other numerical problems."
      ],
      "text/plain": [
       "<class 'statsmodels.iolib.summary.Summary'>\n",
       "\"\"\"\n",
       "                            OLS Regression Results                            \n",
       "==============================================================================\n",
       "Dep. Variable:                    거래량   R-squared:                       0.042\n",
       "Model:                            OLS   Adj. R-squared:                  0.042\n",
       "Method:                 Least Squares   F-statistic:                     253.8\n",
       "Date:                Tue, 30 Apr 2019   Prob (F-statistic):           6.04e-56\n",
       "Time:                        15:12:19   Log-Likelihood:                -26539.\n",
       "No. Observations:                5739   AIC:                         5.308e+04\n",
       "Df Residuals:                    5737   BIC:                         5.310e+04\n",
       "Df Model:                           1                                         \n",
       "Covariance Type:            nonrobust                                         \n",
       "==============================================================================\n",
       "                 coef    std err          t      P>|t|      [0.025      0.975]\n",
       "------------------------------------------------------------------------------\n",
       "const         15.2445      0.490     31.095      0.000      14.283      16.206\n",
       "변동폭           -0.0004    2.3e-05    -15.931      0.000      -0.000      -0.000\n",
       "==============================================================================\n",
       "Omnibus:                     7671.211   Durbin-Watson:                   0.343\n",
       "Prob(Omnibus):                  0.000   Jarque-Bera (JB):          2472309.746\n",
       "Skew:                           7.427   Prob(JB):                         0.00\n",
       "Kurtosis:                     103.590   Cond. No.                     3.21e+04\n",
       "==============================================================================\n",
       "\n",
       "Warnings:\n",
       "[1] Standard Errors assume that the covariance matrix of the errors is correctly specified.\n",
       "[2] The condition number is large, 3.21e+04. This might indicate that there are\n",
       "strong multicollinearity or other numerical problems.\n",
       "\"\"\""
      ]
     },
     "execution_count": 187,
     "metadata": {},
     "output_type": "execute_result"
    }
   ],
   "source": [
    "import statsmodels.api as sm\n",
    "x = stock_data2[\"변동폭\"] #키 생각하시면 됩니다. \n",
    "x = sm.add_constant(x) #상수 추가하고자 할 때 \n",
    "y = stock_data2[\"거래량\"]/100000 #몸무게 생각하시면 됩니다. x와 y의 척도 차이가 커서 줄이기 위해 /100000을 하였습니다. \n",
    "model = sm.OLS(y, x).fit() \n",
    "prediction = model.predict(x) \n",
    "model.summary()\n",
    "\n"
   ]
  },
  {
   "cell_type": "markdown",
   "metadata": {},
   "source": [
    "#### p-value는 유의하다는 것을 알 수 있지만 설명력을 봤을 때 높은 설명력을 갖지 못한다.(변동폭,거래량)"
   ]
  },
  {
   "cell_type": "markdown",
   "metadata": {},
   "source": [
    "# 회귀 신경망 구축"
   ]
  },
  {
   "cell_type": "markdown",
   "metadata": {},
   "source": [
    "#### https://cromboltz.tistory.com/23?category=626018"
   ]
  },
  {
   "cell_type": "code",
   "execution_count": null,
   "metadata": {},
   "outputs": [],
   "source": []
  }
 ],
 "metadata": {
  "kernelspec": {
   "display_name": "Python 3",
   "language": "python",
   "name": "python3"
  },
  "language_info": {
   "codemirror_mode": {
    "name": "ipython",
    "version": 3
   },
   "file_extension": ".py",
   "mimetype": "text/x-python",
   "name": "python",
   "nbconvert_exporter": "python",
   "pygments_lexer": "ipython3",
   "version": "3.6.5"
  }
 },
 "nbformat": 4,
 "nbformat_minor": 2
}
